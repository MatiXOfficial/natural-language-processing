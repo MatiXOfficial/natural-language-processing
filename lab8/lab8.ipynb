{
 "cells": [
  {
   "cell_type": "markdown",
   "id": "549f8b44-7dbd-4e3c-a269-0d8cd41b8a8d",
   "metadata": {},
   "source": [
    "# Przetwarzanie języka naturalnego – lab8\n",
    "## Mateusz Kocot"
   ]
  },
  {
   "cell_type": "code",
   "execution_count": 1,
   "id": "03ea59d9-5a13-4a3f-a49b-977013f44e20",
   "metadata": {},
   "outputs": [
    {
     "name": "stderr",
     "output_type": "stream",
     "text": [
      "C:\\Users\\MatiX\\anaconda3\\envs\\nlp-py39\\lib\\site-packages\\ray\\autoscaler\\_private\\cli_logger.py:57: FutureWarning: Not all Ray CLI dependencies were found. In Ray 1.4+, the Ray CLI, autoscaler, and dashboard will only be usable via `pip install 'ray[default]'`. Please update your install command.\n",
      "  warnings.warn(\n"
     ]
    }
   ],
   "source": [
    "import os\n",
    "import regex as re\n",
    "import time\n",
    "import json\n",
    "from pprint import pprint\n",
    "\n",
    "import pandas as pd\n",
    "\n",
    "from haystack.document_stores import ElasticsearchDocumentStore, FAISSDocumentStore\n",
    "from haystack.nodes import DensePassageRetriever\n",
    "from haystack.nodes import ElasticsearchRetriever\n",
    "\n",
    "from IPython.display import display, HTML"
   ]
  },
  {
   "cell_type": "code",
   "execution_count": 2,
   "id": "a6fcbd7f-5622-4ce6-bcd2-fa01a4811742",
   "metadata": {},
   "outputs": [],
   "source": [
    "DATA_DIR = '../ustawy'"
   ]
  },
  {
   "cell_type": "markdown",
   "id": "b2d042b5-e14c-4fb9-973c-bfe443b4ce54",
   "metadata": {},
   "source": [
    "# Task 3"
   ]
  },
  {
   "cell_type": "code",
   "execution_count": 3,
   "id": "2df94c0a-0b79-4b1b-b965-362952e2fc10",
   "metadata": {},
   "outputs": [],
   "source": [
    "elastic_store = ElasticsearchDocumentStore()\n",
    "elastic_retriever = ElasticsearchRetriever(elastic_store)"
   ]
  },
  {
   "cell_type": "markdown",
   "id": "09bc1c62-a9f4-4821-9ac5-00673c33625b",
   "metadata": {},
   "source": [
    "Creating the store and retriever for the first time"
   ]
  },
  {
   "cell_type": "code",
   "execution_count": 4,
   "id": "b5cdc8a5-3e05-4e79-b5f3-c376b361b163",
   "metadata": {},
   "outputs": [],
   "source": [
    "# faiss_store = FAISSDocumentStore(faiss_index_factory_str=\"Flat\")\n",
    "# faiss_retriever = DensePassageRetriever(\n",
    "#     document_store=faiss_store,\n",
    "#     query_embedding_model=\"enelpol/czywiesz-question\",\n",
    "#     passage_embedding_model=\"enelpol/czywiesz-context\",\n",
    "# )"
   ]
  },
  {
   "cell_type": "markdown",
   "id": "8b627e4d-7b2f-4c65-82e5-bc0f7feef3c1",
   "metadata": {},
   "source": [
    "Loading the store and retriever with saved and processed documents"
   ]
  },
  {
   "cell_type": "code",
   "execution_count": 5,
   "id": "477a0be7-5c4c-45d4-a860-9a5ebe379f2e",
   "metadata": {},
   "outputs": [
    {
     "name": "stderr",
     "output_type": "stream",
     "text": [
      "INFO - haystack.modeling.utils -  Using devices: CUDA:0\n",
      "INFO - haystack.modeling.utils -  Number of GPUs: 1\n",
      "INFO - haystack.modeling.model.language_model -  LOADING MODEL\n",
      "INFO - haystack.modeling.model.language_model -  =============\n",
      "INFO - haystack.modeling.model.language_model -  Model found locally at faiss\\retriever.pt\\query_encoder\n",
      "INFO - haystack.modeling.model.language_model -  Loaded faiss\\retriever.pt\\query_encoder\n",
      "INFO - haystack.modeling.model.language_model -  LOADING MODEL\n",
      "INFO - haystack.modeling.model.language_model -  =============\n",
      "INFO - haystack.modeling.model.language_model -  Model found locally at faiss\\retriever.pt\\passage_encoder\n",
      "INFO - haystack.modeling.model.language_model -  Loaded faiss\\retriever.pt\\passage_encoder\n",
      "INFO - haystack.nodes.retriever.dense -  DPR model loaded from faiss\\retriever.pt\n"
     ]
    }
   ],
   "source": [
    "faiss_store = FAISSDocumentStore.load(index_path='faiss/documents.faiss')\n",
    "faiss_retriever = DensePassageRetriever.load('faiss/retriever.pt', document_store=faiss_store)"
   ]
  },
  {
   "cell_type": "markdown",
   "id": "a1661b03-69d9-4208-a732-4f6fa3487ae5",
   "metadata": {},
   "source": [
    "# Task 4"
   ]
  },
  {
   "cell_type": "code",
   "execution_count": 6,
   "id": "6f87cfe0-263e-4f10-ad7c-86382c059afe",
   "metadata": {},
   "outputs": [],
   "source": [
    "original_dataset = {}\n",
    "\n",
    "for file_name in os.listdir(DATA_DIR):\n",
    "    with open(f'{DATA_DIR}/{file_name}', 'r', encoding='utf-8') as file:\n",
    "        bill = file.read()\n",
    "    original_dataset[file_name[:-4]] = bill"
   ]
  },
  {
   "cell_type": "code",
   "execution_count": 7,
   "id": "23ff22ce-6482-4852-a64d-a9ef51dea6a5",
   "metadata": {},
   "outputs": [],
   "source": [
    "def produce_passages(text):\n",
    "    passages = {}\n",
    "    matches = list(re.finditer(r'\\s*Art.\\s*(\\d+).?\\s*', text))\n",
    "    for i, m in enumerate(matches):\n",
    "        art_number = m.group(1)\n",
    "        art_start = m.span()[1]\n",
    "        art_end = matches[i + 1].span()[0] if i + 1 < len(matches) else len(text)\n",
    "        art_text = text[art_start:art_end]\n",
    "        passages[art_number] = art_text\n",
    "    return passages\n",
    "\n",
    "articles = []\n",
    "for act_id, act_text in original_dataset.items():\n",
    "    for art_number, content in produce_passages(act_text).items():\n",
    "        articles.append({\n",
    "            'content': content,\n",
    "            'meta': {\n",
    "                'act_id': act_id,\n",
    "                'art_number': art_number\n",
    "            }\n",
    "        })"
   ]
  },
  {
   "cell_type": "markdown",
   "id": "0400c1dd-5023-4a2c-9979-ba996ef9119e",
   "metadata": {},
   "source": [
    "# Task 5\n",
    "- Elastic store: 64 s\n",
    "- Faiss store: 48 s (writing documents) + 226 s (updating embeddings) = 274 s"
   ]
  },
  {
   "cell_type": "code",
   "execution_count": 8,
   "id": "2addc6af-e4b3-48d2-b923-741c5387aa19",
   "metadata": {},
   "outputs": [],
   "source": [
    "# start = time.time()\n",
    "# elastic_store.write_documents(articles)\n",
    "# print(f'Elapsed {time.time() - start:0.2f} s')"
   ]
  },
  {
   "cell_type": "code",
   "execution_count": 9,
   "id": "01eb6a73-f5cf-490c-a246-efb6cf6ca18f",
   "metadata": {},
   "outputs": [],
   "source": [
    "# start = time.time()\n",
    "# faiss_store.write_documents(articles)\n",
    "# print(f'Writing. Elapsed {time.time() - start:0.2f} s')\n",
    "\n",
    "# start = time.time()\n",
    "# faiss_store.update_embeddings(faiss_retriever)\n",
    "# print(f'Updating embeddings. Elapsed {time.time() - start:0.2f} s')\n",
    "\n",
    "# faiss_store.save('faiss/documents.faiss')\n",
    "# faiss_retriever.save('faiss/retriever.pt')"
   ]
  },
  {
   "cell_type": "markdown",
   "id": "b827203d-58ff-4b22-bf3e-fb0bc56cdb2e",
   "metadata": {},
   "source": [
    "# Task 6"
   ]
  },
  {
   "cell_type": "code",
   "execution_count": 10,
   "id": "43d82a3c-22f9-4acd-9d31-c1eb7c4c3391",
   "metadata": {},
   "outputs": [
    {
     "name": "stdout",
     "output_type": "stream",
     "text": [
      "{1345: {'act_id': '1997_604', 'art_number': '39', 'question': 'Czy źródła finansowania partii politycznych mogą być niejawne?'},\n",
      " 1346: {'act_id': '1998_1118', 'art_number': '69', 'question': 'Czy wnuki przyjęte na wychowanie mają prawo do renty po zmarłych rodzicach?'},\n",
      " 1347: {'act_id': '1997_769', 'art_number': '30', 'question': 'Kiedy kurator składa wniosek o ogłoszenie upadłości osoby prawnej?'},\n",
      " 1348: {'act_id': '1996_110',\n",
      "        'art_number': '223',\n",
      "        'question': 'Czy dawka promieniowania jonizującego pochodzącego ze źródeł naturalnych może przekroczyć dawkę graniczną?'},\n",
      " 1349: {'act_id': '2001_18',\n",
      "        'art_number': '14',\n",
      "        'question': 'Czy dawka promieniowania jonizującego pochodzącego ze źródeł naturalnych może przekroczyć dawkę graniczną?'},\n",
      " 1350: {'act_id': '1996_463', 'art_number': '1', 'question': 'Jaki tytuł ma obecnie Wyższa Szkoła Inżynierska w Koszalinie?'},\n",
      " 1351: {'act_id': '2001_1207',\n",
      "        'art_number': '20',\n",
      "        'question': 'Czy wydanie dyspozycji wyjazdu/wylotu zespołu ratownictwa medycznego w razie konieczności użycia dodatkowych jednostek systemu rodzi '\n",
      "                    'roszczenia finansowe?'},\n",
      " 1352: {'act_id': '1997_593', 'art_number': '23', 'question': 'Co kontroluje okręgowa komisja rewizyjna?'},\n",
      " 1353: {'act_id': '1997_553',\n",
      "        'art_number': '184',\n",
      "        'question': 'Czy ktoś, kto przewozi materiał jądrowy bez właściwego zabezpeczenia podlega karze ograniczenia wolności?'},\n",
      " 1354: {'act_id': '2001_1409',\n",
      "        'art_number': '27',\n",
      "        'question': 'Czy producent butelek miarowych może przekazać opis przyjętego systemu kontroli wewnętrznej po rozpoczęciu produkcji?'},\n",
      " 1355: {'act_id': '2001_499', 'art_number': '18', 'question': 'Czy wyborca niepełnosprawny jest dopisywany do spisu wyborców?'},\n",
      " 1356: {'act_id': '1997_739', 'art_number': '86', 'question': 'Kto wydaje decyzje w sprawach udzielania i pozbawiania azylu w RP?'},\n",
      " 1357: {'act_id': '1997_739', 'art_number': '109', 'question': 'Kto wydaje decyzje w sprawach udzielania i pozbawiania azylu w RP?'},\n",
      " 1358: {'act_id': '2001_298', 'art_number': '126', 'question': 'Jak wysoka jest kara dla uchylającego się od służby funkcjonariusza BOR?'},\n",
      " 1359: {'act_id': '1997_251', 'art_number': '6', 'question': 'Na czyj wniosek inne jednostki organizacyjne mogą uzyskać osobowość prawną?'},\n",
      " 1360: {'act_id': '1997_926', 'art_number': '232', 'question': 'Czy strona może cofnąć odwołanie przed wydaniem decyzji przez organ odwoławczy?'},\n",
      " 1361: {'act_id': '2002_1802', 'art_number': '3', 'question': 'Kto może określić, w drodze rozporządzenia, dodatkowe kryteria akredytacyjne?'},\n",
      " 1362: {'act_id': '2001_18', 'art_number': '43', 'question': 'Na kim spoczywa obowiązek prowadzenia kontroli źródeł promieniowania jonizującego?'},\n",
      " 1363: {'act_id': '2001_627', 'art_number': '154', 'question': 'Co może ustalić organ ochrony środowiska w drodze decyzji?'},\n",
      " 1364: {'act_id': '1997_468',\n",
      "        'art_number': '29',\n",
      "        'question': 'Kto określi w drodze rozporządzenia rodzaje preparatów i ich ilości jakie mogą posiadać zakłady opieki?'},\n",
      " 1365: {'act_id': '2004_880', 'art_number': '94', 'question': 'Kto wykonuje zadania wojewody w zakresie ochrony przyrody na terenie parku narodowego?'}}\n"
     ]
    }
   ],
   "source": [
    "questions = {}\n",
    "with open('questions.jl', encoding='utf-8') as file:\n",
    "    for line in file:\n",
    "        data = json.loads(line)\n",
    "        q_id = int(data['_id'])\n",
    "        questions[q_id] = {}\n",
    "        questions[q_id]['question'] = data['text']\n",
    "        \n",
    "with open('context_mappings.jl', encoding='utf-8') as file:\n",
    "    for line in file:\n",
    "        data = json.loads(line)\n",
    "        q_id = int(data['question-id'])\n",
    "        m = re.match(r'([^_]*_[^_]*)_(.*)', data['passage-id'])\n",
    "        questions[q_id]['act_id'] = m.group(1)\n",
    "        questions[q_id]['art_number'] = m.group(2)\n",
    "        \n",
    "pprint(questions, width=160)"
   ]
  },
  {
   "cell_type": "code",
   "execution_count": 11,
   "id": "ccabc1fc-30c8-4bc6-8305-7bfefc04f630",
   "metadata": {},
   "outputs": [],
   "source": [
    "# Check if the expected passages are available in the dataset\n",
    "available_passages = [(a['meta']['act_id'], a['meta']['art_number']) for a in articles]\n",
    "for q in questions.values():\n",
    "    assert (q['act_id'], q['art_number']) in available_passages"
   ]
  },
  {
   "cell_type": "markdown",
   "id": "6e5c4901-f932-42b0-9723-f3fe431fc3b4",
   "metadata": {},
   "source": [
    "# Task 6"
   ]
  },
  {
   "cell_type": "code",
   "execution_count": 12,
   "id": "b7ed7ea7-3483-4ac0-bf72-05b79bcf4fb2",
   "metadata": {
    "scrolled": true,
    "tags": []
   },
   "outputs": [
    {
     "data": {
      "text/html": [
       "<h2>1345: Czy źródła finansowania partii politycznych mogą być niejawne? (1997_604, 39)</h2>"
      ],
      "text/plain": [
       "<IPython.core.display.HTML object>"
      ]
     },
     "metadata": {},
     "output_type": "display_data"
    },
    {
     "data": {
      "text/html": [
       "<h4>Elastic retriever</h4>"
      ],
      "text/plain": [
       "<IPython.core.display.HTML object>"
      ]
     },
     "metadata": {},
     "output_type": "display_data"
    },
    {
     "name": "stdout",
     "output_type": "stream",
     "text": [
      "Document 2001_499, Art. 23:\n",
      ". Źródła finansowania partii politycznych są jawne.\";\n",
      "4) art. 24 i 25 otrzymują brzmienie:\n",
      "      \"\n",
      "---------------------------------------------------------------------------------------------\n"
     ]
    },
    {
     "data": {
      "text/html": [
       "<h4>Faiss retriever</h4>"
      ],
      "text/plain": [
       "<IPython.core.display.HTML object>"
      ]
     },
     "metadata": {},
     "output_type": "display_data"
    },
    {
     "name": "stdout",
     "output_type": "stream",
     "text": [
      "Document 1997_604, Art. 41:\n",
      "Partie polityczne prowadzą rachunkowość na zasadach określonych odrębnymi \n",
      "przepisami z uwzględnieniem przepisów niniejszej ustawy.\n",
      "                               Rozdział 5\n",
      "     Postępowanie w sprawie stwierdzenia sprzeczności z Konstytucją\n",
      "               celów lub działalności partii politycznych\n",
      "---------------------------------------------------------------------------------------------\n"
     ]
    },
    {
     "data": {
      "text/html": [
       "<h2>1346: Czy wnuki przyjęte na wychowanie mają prawo do renty po zmarłych rodzicach? (1998_1118, 69)</h2>"
      ],
      "text/plain": [
       "<IPython.core.display.HTML object>"
      ]
     },
     "metadata": {},
     "output_type": "display_data"
    },
    {
     "data": {
      "text/html": [
       "<h4>Elastic retriever</h4>"
      ],
      "text/plain": [
       "<IPython.core.display.HTML object>"
      ]
     },
     "metadata": {},
     "output_type": "display_data"
    },
    {
     "name": "stdout",
     "output_type": "stream",
     "text": [
      "Document 1998_1118, Art. 69:\n",
      ".\n",
      "Przyjęte na wychowanie i utrzymanie wnuki, rodzeństwo i inne dzieci, o których\n",
      "mowa w art. 67 ust. 1 pkt 2, mają prawo do renty rodzinnej, jeżeli spełniają\n",
      "warunki określone w art. 68, a ponadto:\n",
      "   1) zostały przyjęte na wychowanie i utrzymanie co najmniej na rok przed\n",
      "     śmiercią ubezpieczonego (emeryta lub rencisty), chyba że śmierć była\n",
      "     następstwem wypadku, oraz\n",
      "   2) nie mają prawa do renty po zmarłych rodzicach, a gdy rodzice żyją,\n",
      "     jeżeli:\n",
      "     a) nie mogą zapewnić im utrzymania albo\n",
      "     b) ubezpieczony (emeryt lub rencista) lub jego małżonek był ich\n",
      "       opiekunem ustanowionym przez sąd.\n",
      "---------------------------------------------------------------------------------------------\n"
     ]
    },
    {
     "data": {
      "text/html": [
       "<h4>Faiss retriever</h4>"
      ],
      "text/plain": [
       "<IPython.core.display.HTML object>"
      ]
     },
     "metadata": {},
     "output_type": "display_data"
    },
    {
     "name": "stdout",
     "output_type": "stream",
     "text": [
      "Document 1998_1118, Art. 71:\n",
      "Rodzice mają prawo do renty rodzinnej, jeżeli:\n",
      "   1) ubezpieczony (emeryt lub rencista) bezpośrednio przed śmiercią\n",
      "     przyczyniał się do ich utrzymania,\n",
      "   2) spełniają odpowiednio warunki określone dla wdowy i wdowca w art. 70\n",
      "     ust. 1 i 2 oraz, co do wieku, również w art. 70 ust. 5.\n",
      "---------------------------------------------------------------------------------------------\n"
     ]
    },
    {
     "data": {
      "text/html": [
       "<h2>1347: Kiedy kurator składa wniosek o ogłoszenie upadłości osoby prawnej? (1997_769, 30)</h2>"
      ],
      "text/plain": [
       "<IPython.core.display.HTML object>"
      ]
     },
     "metadata": {},
     "output_type": "display_data"
    },
    {
     "data": {
      "text/html": [
       "<h4>Elastic retriever</h4>"
      ],
      "text/plain": [
       "<IPython.core.display.HTML object>"
      ]
     },
     "metadata": {},
     "output_type": "display_data"
    },
    {
     "name": "stdout",
     "output_type": "stream",
     "text": [
      "Document 1997_769, Art. 30:\n",
      ".\n",
      "Kurator składa wniosek o ogłoszenie upadłości osoby prawnej, dla której został\n",
      "ustanowiony, jeżeli stwierdzi, że istnieją podstawy do ogłoszenia upadłości.\n",
      "---------------------------------------------------------------------------------------------\n"
     ]
    },
    {
     "data": {
      "text/html": [
       "<h4>Faiss retriever</h4>"
      ],
      "text/plain": [
       "<IPython.core.display.HTML object>"
      ]
     },
     "metadata": {},
     "output_type": "display_data"
    },
    {
     "name": "stdout",
     "output_type": "stream",
     "text": [
      "Document 1997_769, Art. 30:\n",
      "Kurator składa wniosek o ogłoszenie upadłości osoby prawnej, dla której został\n",
      "ustanowiony, jeżeli stwierdzi, że istnieją podstawy do ogłoszenia upadłości.\n",
      "---------------------------------------------------------------------------------------------\n"
     ]
    },
    {
     "data": {
      "text/html": [
       "<h2>1348: Czy dawka promieniowania jonizującego pochodzącego ze źródeł naturalnych może przekroczyć dawkę graniczną? (1996_110, 223)</h2>"
      ],
      "text/plain": [
       "<IPython.core.display.HTML object>"
      ]
     },
     "metadata": {},
     "output_type": "display_data"
    },
    {
     "data": {
      "text/html": [
       "<h4>Elastic retriever</h4>"
      ],
      "text/plain": [
       "<IPython.core.display.HTML object>"
      ]
     },
     "metadata": {},
     "output_type": "display_data"
    },
    {
     "name": "stdout",
     "output_type": "stream",
     "text": [
      "Document 1996_110, Art. 223:\n",
      ".   §1.Pracodawca jest obowiązany chronić pracowników przed\n",
      "                promieniowaniem jonizującym, pochodzącym ze źródeł \n",
      "                sztucznych i naturalnych, występujących w środowisku \n",
      "                pracy.\n",
      "             §2. Dawka promieniowania jonizującego pochodzącego ze \n",
      "                źródeł naturalnych, otrzymywana przez pracownika przy \n",
      "                pracy w warunkach narażenia na to promieniowanie, nie \n",
      "                może przekraczać dawek granicznych, określonych w \n",
      "                odrębnych przepisach dla sztucznych źródeł promieniowania\n",
      "                jonizującego.\n",
      "---------------------------------------------------------------------------------------------\n"
     ]
    },
    {
     "data": {
      "text/html": [
       "<h4>Faiss retriever</h4>"
      ],
      "text/plain": [
       "<IPython.core.display.HTML object>"
      ]
     },
     "metadata": {},
     "output_type": "display_data"
    },
    {
     "name": "stdout",
     "output_type": "stream",
     "text": [
      "Document 2001_18, Art. 13:\n",
      "1. Dawki graniczne obejmują sumę dawek pochodzących od narażenia zewnętrznego\n",
      "  i wewnętrznego.\n",
      "2. Dawki graniczne nie obejmują narażenia na promieniowanie naturalne, jeżeli\n",
      "  narażenie to nie zostało zwiększone w wyniku działalności człowieka, w\n",
      "  szczególności nie obejmują narażenia pochodzącego od radonu w budynkach\n",
      "  mieszkalnych, od naturalnych nuklidów promieniotwórczych wchodzących w skład\n",
      "  ciała ludzkiego, od promieniowania kosmicznego na poziomie ziemi, jak również\n",
      "  narażenia nad powierzchnią ziemi od nuklidów promieniotwórczych znajdujących\n",
      "  się w nienaruszonej skorupie ziemskiej.\n",
      "---------------------------------------------------------------------------------------------\n"
     ]
    },
    {
     "data": {
      "text/html": [
       "<h2>1349: Czy dawka promieniowania jonizującego pochodzącego ze źródeł naturalnych może przekroczyć dawkę graniczną? (2001_18, 14)</h2>"
      ],
      "text/plain": [
       "<IPython.core.display.HTML object>"
      ]
     },
     "metadata": {},
     "output_type": "display_data"
    },
    {
     "data": {
      "text/html": [
       "<h4>Elastic retriever</h4>"
      ],
      "text/plain": [
       "<IPython.core.display.HTML object>"
      ]
     },
     "metadata": {},
     "output_type": "display_data"
    },
    {
     "name": "stdout",
     "output_type": "stream",
     "text": [
      "Document 1996_110, Art. 223:\n",
      ".   §1.Pracodawca jest obowiązany chronić pracowników przed\n",
      "                promieniowaniem jonizującym, pochodzącym ze źródeł \n",
      "                sztucznych i naturalnych, występujących w środowisku \n",
      "                pracy.\n",
      "             §2. Dawka promieniowania jonizującego pochodzącego ze \n",
      "                źródeł naturalnych, otrzymywana przez pracownika przy \n",
      "                pracy w warunkach narażenia na to promieniowanie, nie \n",
      "                może przekraczać dawek granicznych, określonych w \n",
      "                odrębnych przepisach dla sztucznych źródeł promieniowania\n",
      "                jonizującego.\n",
      "---------------------------------------------------------------------------------------------\n"
     ]
    },
    {
     "data": {
      "text/html": [
       "<h4>Faiss retriever</h4>"
      ],
      "text/plain": [
       "<IPython.core.display.HTML object>"
      ]
     },
     "metadata": {},
     "output_type": "display_data"
    },
    {
     "name": "stdout",
     "output_type": "stream",
     "text": [
      "Document 2001_18, Art. 13:\n",
      "1. Dawki graniczne obejmują sumę dawek pochodzących od narażenia zewnętrznego\n",
      "  i wewnętrznego.\n",
      "2. Dawki graniczne nie obejmują narażenia na promieniowanie naturalne, jeżeli\n",
      "  narażenie to nie zostało zwiększone w wyniku działalności człowieka, w\n",
      "  szczególności nie obejmują narażenia pochodzącego od radonu w budynkach\n",
      "  mieszkalnych, od naturalnych nuklidów promieniotwórczych wchodzących w skład\n",
      "  ciała ludzkiego, od promieniowania kosmicznego na poziomie ziemi, jak również\n",
      "  narażenia nad powierzchnią ziemi od nuklidów promieniotwórczych znajdujących\n",
      "  się w nienaruszonej skorupie ziemskiej.\n",
      "---------------------------------------------------------------------------------------------\n"
     ]
    },
    {
     "data": {
      "text/html": [
       "<h2>1350: Jaki tytuł ma obecnie Wyższa Szkoła Inżynierska w Koszalinie? (1996_463, 1)</h2>"
      ],
      "text/plain": [
       "<IPython.core.display.HTML object>"
      ]
     },
     "metadata": {},
     "output_type": "display_data"
    },
    {
     "data": {
      "text/html": [
       "<h4>Elastic retriever</h4>"
      ],
      "text/plain": [
       "<IPython.core.display.HTML object>"
      ]
     },
     "metadata": {},
     "output_type": "display_data"
    },
    {
     "name": "stdout",
     "output_type": "stream",
     "text": [
      "Document 2003_1029, Art. 3:\n",
      ".\n",
      "1. Szkoła wyższa, w tym wyższa szkoła zawodowa, począwszy od roku akademickiego\n",
      "  2003/2004, może prowadzić wyższe studia zawodowe na kierunku pielęgniarstwo\n",
      "  lub położnictwo, obejmujące co najmniej 4 semestry, przeznaczone dla\n",
      "  pielęgniarek, położnych, które posiadają świadectwo dojrzałości i ukończyły\n",
      "  liceum medyczne lub szkołę policealną albo szkołę pomaturalną, kształcącą w\n",
      "  zawodzie pielęgniarki, położnej.\n",
      "2. Studia, o których mowa w ust. 1, są prowadzone w systemie dziennym, zaocznym\n",
      "  lub wieczorowym.\n",
      "3. Szkoła wyższa, w tym wyższa szkoła zawodowa, może określić warunki\n",
      "  zaliczania studentom praktyki, biorąc pod uwagę miejsce zatrudnienia i staż\n",
      "  pracy w zawodzie pielęgniarki, położnej.\n",
      "4. Absolwent studiów, o których mowa w ust. 1, na kierunku pielęgniarstwo\n",
      "  uzyskuje tytuł zawodowy licencjata pielęgniarstwa, a studiów na kierunku\n",
      "  położnictwo - tytuł zawodowy licencjata położnictwa.\n",
      "5. Uchwała senatu określająca zasady i tryb przyjmowania na studia, o których\n",
      "  mowa w ust. 1, na rok akademicki 2003/2004, jest podawana do publicznej\n",
      "  wiadomości w sposób określony w statucie szkoły wyższej, w tym wyższej szkoły\n",
      "  zawodowej, do dnia 31 maja 2003 r.\n",
      "6. Ostatnia rekrutacja na studia, o których mowa w ust. 1, zostanie\n",
      "  przeprowadzona na rok akademicki 2010/2011.\n",
      "---------------------------------------------------------------------------------------------\n"
     ]
    },
    {
     "data": {
      "text/html": [
       "<h4>Faiss retriever</h4>"
      ],
      "text/plain": [
       "<IPython.core.display.HTML object>"
      ]
     },
     "metadata": {},
     "output_type": "display_data"
    },
    {
     "name": "stdout",
     "output_type": "stream",
     "text": [
      "Document 1996_463, Art. 1:\n",
      "Wyższej Szkole Inżynierskiej w Koszalinie nadaje się nazwę \"Politechnika Koszalińska\".\n",
      "---------------------------------------------------------------------------------------------\n"
     ]
    },
    {
     "data": {
      "text/html": [
       "<h2>1351: Czy wydanie dyspozycji wyjazdu/wylotu zespołu ratownictwa medycznego w razie konieczności użycia dodatkowych jednostek systemu rodzi roszczenia finansowe? (2001_1207, 20)</h2>"
      ],
      "text/plain": [
       "<IPython.core.display.HTML object>"
      ]
     },
     "metadata": {},
     "output_type": "display_data"
    },
    {
     "data": {
      "text/html": [
       "<h4>Elastic retriever</h4>"
      ],
      "text/plain": [
       "<IPython.core.display.HTML object>"
      ]
     },
     "metadata": {},
     "output_type": "display_data"
    },
    {
     "name": "stdout",
     "output_type": "stream",
     "text": [
      "Document 2001_1207, Art. 20:\n",
      ".\n",
      "1. Do zadań centrum powiadamiania ratunkowego należy w szczególności:\n",
      "   1) przyjmowanie powiadomień o stanach nagłego zagrożenia życia lub zdrowia,\n",
      "     ustalanie priorytetów i niezwłoczne dysponowanie jednostek systemu,\n",
      "     z uwzględnieniem ust. 2,\n",
      "   2) przekazywanie niezbędnych informacji osobom udzielającym pierwszej\n",
      "     pomocy, w szczególności przed przybyciem zespołu ratownictwa medycznego na\n",
      "     miejsce zdarzenia,\n",
      "   3) przekazywanie kierującemu działaniami ratowniczymi niezbędnych informacji\n",
      "     ułatwiających podejmowanie rozstrzygnięć na miejscu zdarzenia,\n",
      "   4) przekazywanie niezbędnych informacji o stanach zagrożenia życia lub\n",
      "     zdrowia innym jednostkom wykonującym zadania w zakresie ratownictwa\n",
      "     medycznego,\n",
      "   5) koordynacja medycznych działań ratowniczych podejmowanych przez\n",
      "     poszczególne jednostki systemu, a także działań podejmowanych przez inne\n",
      "     jednostki uczestniczące w działaniach ratowniczych, w szczególności przez\n",
      "     jednostki współdziałające z systemem, o których mowa w art. 32 ust. 1,\n",
      "     oraz inne jednostki wykonujące zadania w zakresie ratownictwa medycznego,\n",
      "   6) monitorowanie i analiza działań ratowniczych.\n",
      "2. W razie konieczności użycia dodatkowych jednostek systemu, rozlokowanych\n",
      "  poza obszarem działania centrum powiadamiania ratunkowego, dyspozytor\n",
      "  medyczny tego centrum zwraca się do dyspozytora medycznego centrum\n",
      "  powiadamiania ratunkowego działającego na sąsiednim obszarze o wydanie\n",
      "  dyspozycji wyjazdu albo wylotu na miejsce zdarzenia zespołu ratownictwa\n",
      "  medycznego lub o przyjęcie osoby znajdującej się w stanie nagłego zagrożenia\n",
      "  życia lub zdrowia do szpitalnego oddziału ratunkowego.\n",
      "3. W sytuacji, o której mowa w ust. 2, dyspozytor wydaje dyspozycję wyjazdu\n",
      "  albo wylotu na miejsce zdarzenia lub przyjęcia osoby do szpitalnego oddziału\n",
      "  ratunkowego. Dyspozytor może odmówić wydania dyspozycji, o której mowa w ust.\n",
      "  2, wyłącznie w sytuacji, gdy jednostka systemu nie ma możliwości wykonania w\n",
      "  danej chwili określonego zadania.\n",
      "4. Wydanie dyspozycji wyjazdu albo wylotu zespołu ratownictwa medycznego\n",
      "  w przypadku określonym w ust. 2, nie rodzi roszczeń finansowych.\n",
      "---------------------------------------------------------------------------------------------\n"
     ]
    },
    {
     "data": {
      "text/html": [
       "<h4>Faiss retriever</h4>"
      ],
      "text/plain": [
       "<IPython.core.display.HTML object>"
      ]
     },
     "metadata": {},
     "output_type": "display_data"
    },
    {
     "name": "stdout",
     "output_type": "stream",
     "text": [
      "Document 2000_1191, Art. 9:\n",
      "Decyzję o odmowie udzielenia zezwolenia wydaje się w przypadku gdy wnioskodawca\n",
      "nie daje rękojmi należytego prowadzenia przedsiębiorstwa składowego, a w\n",
      "szczególności:\n",
      "   1) osoby kierujące działalnością wnioskodawcy były skazane prawomocnym\n",
      "     wyrokiem za przestępstwo, o którym mowa w przepisie art. 6 ust. 1 pkt 6,\n",
      "   2) przeciwko wnioskodawcy lub podmiotowi dominującemu wobec wnioskodawcy\n",
      "     został złożony wniosek o wszczęcie postępowania upadłościowego albo\n",
      "     wnioskodawca lub podmiot wobec niego dominujący złożył wniosek o wszczęcie\n",
      "     postępowania układowego,\n",
      "   3) wnioskodawca zalega z wypełnianiem zobowiązań wobec Skarbu Państwa lub\n",
      "     instytucji ubezpieczenia społecznego,\n",
      "   4) posiadane przez wnioskodawcę urządzenia techniczne, mające służyć do\n",
      "     wykonywania usług składu nie zapewniają odpowiedniej jakości świadczonych\n",
      "     usług.\n",
      "---------------------------------------------------------------------------------------------\n"
     ]
    },
    {
     "data": {
      "text/html": [
       "<h2>1352: Co kontroluje okręgowa komisja rewizyjna? (1997_593, 23)</h2>"
      ],
      "text/plain": [
       "<IPython.core.display.HTML object>"
      ]
     },
     "metadata": {},
     "output_type": "display_data"
    },
    {
     "data": {
      "text/html": [
       "<h4>Elastic retriever</h4>"
      ],
      "text/plain": [
       "<IPython.core.display.HTML object>"
      ]
     },
     "metadata": {},
     "output_type": "display_data"
    },
    {
     "name": "stdout",
     "output_type": "stream",
     "text": [
      "Document 1997_593, Art. 23:\n",
      ".\n",
      "Okręgowa komisja rewizyjna:\n",
      "   1) kontroluje działalność statutową, finansową i gospodarczą okręgowej izby,\n",
      "   2) składa sprawozdania  okręgowemu zjazdowi izby  i Krajowej Komisji\n",
      "     Rewizyjnej,\n",
      "   3) występuje z wnioskiem o udzielenie absolutorium okręgowej radzie izby.\n",
      "---------------------------------------------------------------------------------------------\n"
     ]
    },
    {
     "data": {
      "text/html": [
       "<h4>Faiss retriever</h4>"
      ],
      "text/plain": [
       "<IPython.core.display.HTML object>"
      ]
     },
     "metadata": {},
     "output_type": "display_data"
    },
    {
     "name": "stdout",
     "output_type": "stream",
     "text": [
      "Document 1997_593, Art. 23:\n",
      "Okręgowa komisja rewizyjna:\n",
      "   1) kontroluje działalność statutową, finansową i gospodarczą okręgowej izby,\n",
      "   2) składa sprawozdania  okręgowemu zjazdowi izby  i Krajowej Komisji\n",
      "     Rewizyjnej,\n",
      "   3) występuje z wnioskiem o udzielenie absolutorium okręgowej radzie izby.\n",
      "---------------------------------------------------------------------------------------------\n"
     ]
    },
    {
     "data": {
      "text/html": [
       "<h2>1353: Czy ktoś, kto przewozi materiał jądrowy bez właściwego zabezpeczenia podlega karze ograniczenia wolności? (1997_553, 184)</h2>"
      ],
      "text/plain": [
       "<IPython.core.display.HTML object>"
      ]
     },
     "metadata": {},
     "output_type": "display_data"
    },
    {
     "data": {
      "text/html": [
       "<h4>Elastic retriever</h4>"
      ],
      "text/plain": [
       "<IPython.core.display.HTML object>"
      ]
     },
     "metadata": {},
     "output_type": "display_data"
    },
    {
     "name": "stdout",
     "output_type": "stream",
     "text": [
      "Document 1997_553, Art. 184:\n",
      ".\n",
      " § 1. Kto przewozi, gromadzi, składuje, porzuca lub pozostawia bez właściwego\n",
      "     zabezpieczenia materiał jądrowy albo inne źródło promieniowania \n",
      "     jonizującego, jeżeli może to zagrozić życiu lub zdrowiu człowieka lub \n",
      "     spowodować zniszczenie w świecie roślinnym lub zwierzęcym w znacznych\n",
      "     rozmiarach,\n",
      "        podlega karze pozbawienia wolności od 3 miesięcy do lat 5.\n",
      " § 2. Tej samej karze podlega, kto wbrew obowiązkowi dopuszcza do popełnienia\n",
      "     czynu określonego w § 1.\n",
      " § 3. Jeżeli sprawca czynu określonego w § 1 lub 2 działa nieumyślnie,\n",
      "        podlega grzywnie, karze ograniczenia wolności albo pozbawienia \n",
      "         wolności do lat 2.\n",
      "---------------------------------------------------------------------------------------------\n"
     ]
    },
    {
     "data": {
      "text/html": [
       "<h4>Faiss retriever</h4>"
      ],
      "text/plain": [
       "<IPython.core.display.HTML object>"
      ]
     },
     "metadata": {},
     "output_type": "display_data"
    },
    {
     "name": "stdout",
     "output_type": "stream",
     "text": [
      "Document 2001_18, Art. 101:\n",
      "1. Osoba eksploatująca ponosi wyłączną odpowiedzialność za szkodę jądrową\n",
      "  spowodowaną wypadkiem jądrowym w urządzeniu jądrowym lub związaną z tym\n",
      "  urządzeniem, chyba że szkoda nastąpiła bezpośrednio wskutek działań wojennych\n",
      "  lub konfliktu zbrojnego.\n",
      "2. W czasie transportu materiałów jądrowych odpowiedzialność ponosi osoba\n",
      "  eksploatująca urządzenie jądrowe, z którego ten materiał został wysłany,\n",
      "  chyba że umowa z odbiorcą stanowi inaczej.\n",
      "3. Jeżeli poszkodowany, na skutek umyślnego zachowania, przyczynił się do\n",
      "  powstania lub zwiększenia szkody, sąd może zwolnić całkowicie lub częściowo\n",
      "  osobę eksploatującą z obowiązku naprawienia szkody w odniesieniu do szkody\n",
      "  doznanej przez poszkodowanego.\n",
      "---------------------------------------------------------------------------------------------\n"
     ]
    },
    {
     "data": {
      "text/html": [
       "<h2>1354: Czy producent butelek miarowych może przekazać opis przyjętego systemu kontroli wewnętrznej po rozpoczęciu produkcji? (2001_1409, 27)</h2>"
      ],
      "text/plain": [
       "<IPython.core.display.HTML object>"
      ]
     },
     "metadata": {},
     "output_type": "display_data"
    },
    {
     "data": {
      "text/html": [
       "<h4>Elastic retriever</h4>"
      ],
      "text/plain": [
       "<IPython.core.display.HTML object>"
      ]
     },
     "metadata": {},
     "output_type": "display_data"
    },
    {
     "name": "stdout",
     "output_type": "stream",
     "text": [
      "Document 2001_1409, Art. 27:\n",
      ".\n",
      "1. Producent butelek miarowych jest odpowiedzialny za zorganizowanie i\n",
      "  przeprowadzanie kontroli wewnętrznej butelek miarowych. Kontrola ta może być\n",
      "  przeprowadzana wyłącznie przy pomocy zalegalizowanych przyrządów pomiarowych,\n",
      "  odpowiednich do wykonywania niezbędnych czynności.\n",
      "2. Stosowany przez producenta system kontroli wewnętrznej butelek miarowych\n",
      "  powinien zapewniać skuteczność porównywalną do skuteczności metody\n",
      "  referencyjnej. Opis metody referencyjnej kontroli butelek miarowych zawiera\n",
      "  załącznik nr 6 do ustawy.\n",
      "3. Producent, w terminie co najmniej 60 dni przed rozpoczęciem produkcji\n",
      "  butelek miarowych jest obowiązany przekazać dyrektorowi właściwego\n",
      "  terytorialnie okręgowego urzędu miar opis przyjętego przez siebie systemu\n",
      "  kontroli wewnętrznej butelek miarowych. Przepisy art. 16 ust. 2 i 3 stosuje\n",
      "  się odpowiednio.\n",
      "4. Producent może wprowadzać do obrotu partię butelek miarowych po\n",
      "  przeprowadzeniu kontroli wewnętrznej, o której mowa w ust. 1 i stwierdzeniu\n",
      "  pozytywnego wyniku kontroli.\n",
      "---------------------------------------------------------------------------------------------\n"
     ]
    },
    {
     "data": {
      "text/html": [
       "<h4>Faiss retriever</h4>"
      ],
      "text/plain": [
       "<IPython.core.display.HTML object>"
      ]
     },
     "metadata": {},
     "output_type": "display_data"
    },
    {
     "name": "stdout",
     "output_type": "stream",
     "text": [
      "Document 2001_1409, Art. 27:\n",
      "1. Producent butelek miarowych jest odpowiedzialny za zorganizowanie i\n",
      "  przeprowadzanie kontroli wewnętrznej butelek miarowych. Kontrola ta może być\n",
      "  przeprowadzana wyłącznie przy pomocy zalegalizowanych przyrządów pomiarowych,\n",
      "  odpowiednich do wykonywania niezbędnych czynności.\n",
      "2. Stosowany przez producenta system kontroli wewnętrznej butelek miarowych\n",
      "  powinien zapewniać skuteczność porównywalną do skuteczności metody\n",
      "  referencyjnej. Opis metody referencyjnej kontroli butelek miarowych zawiera\n",
      "  załącznik nr 6 do ustawy.\n",
      "3. Producent, w terminie co najmniej 60 dni przed rozpoczęciem produkcji\n",
      "  butelek miarowych jest obowiązany przekazać dyrektorowi właściwego\n",
      "  terytorialnie okręgowego urzędu miar opis przyjętego przez siebie systemu\n",
      "  kontroli wewnętrznej butelek miarowych. Przepisy art. 16 ust. 2 i 3 stosuje\n",
      "  się odpowiednio.\n",
      "4. Producent może wprowadzać do obrotu partię butelek miarowych po\n",
      "  przeprowadzeniu kontroli wewnętrznej, o której mowa w ust. 1 i stwierdzeniu\n",
      "  pozytywnego wyniku kontroli.\n",
      "---------------------------------------------------------------------------------------------\n"
     ]
    },
    {
     "data": {
      "text/html": [
       "<h2>1355: Czy wyborca niepełnosprawny jest dopisywany do spisu wyborców? (2001_499, 18)</h2>"
      ],
      "text/plain": [
       "<IPython.core.display.HTML object>"
      ]
     },
     "metadata": {},
     "output_type": "display_data"
    },
    {
     "data": {
      "text/html": [
       "<h4>Elastic retriever</h4>"
      ],
      "text/plain": [
       "<IPython.core.display.HTML object>"
      ]
     },
     "metadata": {},
     "output_type": "display_data"
    },
    {
     "name": "stdout",
     "output_type": "stream",
     "text": [
      "Document 2001_499, Art. 18:\n",
      ".\n",
      "1. Wyborca niepełnosprawny, na jego wniosek wniesiony do urzędu gminy\n",
      "  najpóźniej w 10 dniu przed dniem wyborów, jest dopisywany do spisu wyborców\n",
      "  w wybranym przez siebie obwodzie głosowania spośród obwodów głosowania, w\n",
      "  których znajdują się lokale, o których mowa w art. 53 ust. 1, na obszarze\n",
      "  gminy właściwej ze względu na miejsce jego stałego zamieszkania.\n",
      "2. We wniosku, o którym mowa w ust. 1, podaje się dane wymienione w art. 11\n",
      "  ust. 4.\n",
      "---------------------------------------------------------------------------------------------\n"
     ]
    },
    {
     "data": {
      "text/html": [
       "<h4>Faiss retriever</h4>"
      ],
      "text/plain": [
       "<IPython.core.display.HTML object>"
      ]
     },
     "metadata": {},
     "output_type": "display_data"
    },
    {
     "name": "stdout",
     "output_type": "stream",
     "text": [
      "Document 2001_499, Art. 18:\n",
      "1. Wyborca niepełnosprawny, na jego wniosek wniesiony do urzędu gminy\n",
      "  najpóźniej w 10 dniu przed dniem wyborów, jest dopisywany do spisu wyborców\n",
      "  w wybranym przez siebie obwodzie głosowania spośród obwodów głosowania, w\n",
      "  których znajdują się lokale, o których mowa w art. 53 ust. 1, na obszarze\n",
      "  gminy właściwej ze względu na miejsce jego stałego zamieszkania.\n",
      "2. We wniosku, o którym mowa w ust. 1, podaje się dane wymienione w art. 11\n",
      "  ust. 4.\n",
      "---------------------------------------------------------------------------------------------\n"
     ]
    },
    {
     "data": {
      "text/html": [
       "<h2>1356: Kto wydaje decyzje w sprawach udzielania i pozbawiania azylu w RP? (1997_739, 86)</h2>"
      ],
      "text/plain": [
       "<IPython.core.display.HTML object>"
      ]
     },
     "metadata": {},
     "output_type": "display_data"
    },
    {
     "data": {
      "text/html": [
       "<h4>Elastic retriever</h4>"
      ],
      "text/plain": [
       "<IPython.core.display.HTML object>"
      ]
     },
     "metadata": {},
     "output_type": "display_data"
    },
    {
     "name": "stdout",
     "output_type": "stream",
     "text": [
      "Document 1997_739, Art. 86:\n",
      ".\n",
      "Decyzje w sprawach udzielania i pozbawiania azylu w Rzeczypospolitej Polskiej\n",
      "wydaje Minister Spraw Wewnętrznych i Administracji w porozumieniu z \n",
      "Ministrem Spraw Zagranicznych.\n",
      "---------------------------------------------------------------------------------------------\n"
     ]
    },
    {
     "data": {
      "text/html": [
       "<h4>Faiss retriever</h4>"
      ],
      "text/plain": [
       "<IPython.core.display.HTML object>"
      ]
     },
     "metadata": {},
     "output_type": "display_data"
    },
    {
     "name": "stdout",
     "output_type": "stream",
     "text": [
      "Document 1997_739, Art. 86:\n",
      "Decyzje w sprawach udzielania i pozbawiania azylu w Rzeczypospolitej Polskiej\n",
      "wydaje Minister Spraw Wewnętrznych i Administracji w porozumieniu z \n",
      "Ministrem Spraw Zagranicznych.\n",
      "---------------------------------------------------------------------------------------------\n"
     ]
    },
    {
     "data": {
      "text/html": [
       "<h2>1357: Kto wydaje decyzje w sprawach udzielania i pozbawiania azylu w RP? (1997_739, 109)</h2>"
      ],
      "text/plain": [
       "<IPython.core.display.HTML object>"
      ]
     },
     "metadata": {},
     "output_type": "display_data"
    },
    {
     "data": {
      "text/html": [
       "<h4>Elastic retriever</h4>"
      ],
      "text/plain": [
       "<IPython.core.display.HTML object>"
      ]
     },
     "metadata": {},
     "output_type": "display_data"
    },
    {
     "name": "stdout",
     "output_type": "stream",
     "text": [
      "Document 1997_739, Art. 86:\n",
      ".\n",
      "Decyzje w sprawach udzielania i pozbawiania azylu w Rzeczypospolitej Polskiej\n",
      "wydaje Minister Spraw Wewnętrznych i Administracji w porozumieniu z \n",
      "Ministrem Spraw Zagranicznych.\n",
      "---------------------------------------------------------------------------------------------\n"
     ]
    },
    {
     "data": {
      "text/html": [
       "<h4>Faiss retriever</h4>"
      ],
      "text/plain": [
       "<IPython.core.display.HTML object>"
      ]
     },
     "metadata": {},
     "output_type": "display_data"
    },
    {
     "name": "stdout",
     "output_type": "stream",
     "text": [
      "Document 1997_739, Art. 86:\n",
      "Decyzje w sprawach udzielania i pozbawiania azylu w Rzeczypospolitej Polskiej\n",
      "wydaje Minister Spraw Wewnętrznych i Administracji w porozumieniu z \n",
      "Ministrem Spraw Zagranicznych.\n",
      "---------------------------------------------------------------------------------------------\n"
     ]
    },
    {
     "data": {
      "text/html": [
       "<h2>1358: Jak wysoka jest kara dla uchylającego się od służby funkcjonariusza BOR? (2001_298, 126)</h2>"
      ],
      "text/plain": [
       "<IPython.core.display.HTML object>"
      ]
     },
     "metadata": {},
     "output_type": "display_data"
    },
    {
     "data": {
      "text/html": [
       "<h4>Elastic retriever</h4>"
      ],
      "text/plain": [
       "<IPython.core.display.HTML object>"
      ]
     },
     "metadata": {},
     "output_type": "display_data"
    },
    {
     "name": "stdout",
     "output_type": "stream",
     "text": [
      "Document 2001_298, Art. 24:\n",
      ".\n",
      "1. Osobę zgłaszającą się do podjęcia służby w BOR mianuje się\n",
      "  funkcjonariuszem w służbie przygotowawczej na okres 3 lat.\n",
      "2. Po upływie okresu służby przygotowawczej i uzyskaniu pozytywnej\n",
      "  opinii służbowej funkcjonariusza mianuje się na stałe.\n",
      "3. W przypadkach uzasadnionych szczególnymi kwalifikacjami\n",
      "  funkcjonariusza, Szef BOR może skrócić okres służby przygotowawczej\n",
      "  funkcjonariusza albo zwolnić go od odbywania tej służby.\n",
      "4. Szef BOR może przedłużyć okres służby przygotowawczej o okres przerwy\n",
      "  w wykonywaniu przez funkcjonariusza obowiązków służbowych w przypadku\n",
      "  przerwy trwającej ponad 3 miesiące.\n",
      "---------------------------------------------------------------------------------------------\n"
     ]
    },
    {
     "data": {
      "text/html": [
       "<h4>Faiss retriever</h4>"
      ],
      "text/plain": [
       "<IPython.core.display.HTML object>"
      ]
     },
     "metadata": {},
     "output_type": "display_data"
    },
    {
     "name": "stdout",
     "output_type": "stream",
     "text": [
      "Document 2001_298, Art. 120:\n",
      "1. Za wykroczenia funkcjonariusz ponosi wyłącznie odpowiedzialność\n",
      "  dyscyplinarną, jeżeli dalsze przepisy nie stanowią inaczej.\n",
      "2. Organy powołane do orzekania w sprawach o wykroczenia, a także inne\n",
      "  właściwe organy lub instytucje kierują wnioski o ukaranie\n",
      "  funkcjonariusza do Szefa BOR.\n",
      "3. Za wykroczenia, za które stosownie do przepisów Kodeksu postępowania\n",
      "  w sprawach o wykroczenia lub innych przepisów szczególnych, właściwe\n",
      "  organy określone w tych przepisach mogą nakładać grzywny w drodze\n",
      "  mandatu karnego, funkcjonariusze podlegają odpowiedzialności w trybie\n",
      "  postępowania mandatowego. Kary grzywny w drodze mandatu karnego\n",
      "  wymierzają funkcjonariuszom te organy.\n",
      "4. W razie odmowy uiszczenia lub nieuiszczenia w terminie grzywny\n",
      "  wymierzonej w drodze mandatu karnego organ upoważniony do jej\n",
      "  nałożenia kieruje wniosek o ukaranie funkcjonariusza do Szefa BOR.\n",
      "5. Wniosek, o którym mowa w ust 2 i 4, dotyczący Szefa BOR lub jego\n",
      "  zastępców kierowany jest do ministra właściwego do spraw wewnętrznych.\n",
      "---------------------------------------------------------------------------------------------\n"
     ]
    },
    {
     "data": {
      "text/html": [
       "<h2>1359: Na czyj wniosek inne jednostki organizacyjne mogą uzyskać osobowość prawną? (1997_251, 6)</h2>"
      ],
      "text/plain": [
       "<IPython.core.display.HTML object>"
      ]
     },
     "metadata": {},
     "output_type": "display_data"
    },
    {
     "data": {
      "text/html": [
       "<h4>Elastic retriever</h4>"
      ],
      "text/plain": [
       "<IPython.core.display.HTML object>"
      ]
     },
     "metadata": {},
     "output_type": "display_data"
    },
    {
     "name": "stdout",
     "output_type": "stream",
     "text": [
      "Document 1997_554, Art. 3:\n",
      ".\n",
      "1. Kościół jako całość oraz poszczególne parafie mają osobowość prawną.\n",
      "2. Inne kościelne jednostki organizacyjne, na wniosek Konsystorza, mogą uzyskać\n",
      "  osobowość prawną w drodze rozporządzenia Ministra - Szefa Urzędu \n",
      "  Rady Ministrów.\n",
      "---------------------------------------------------------------------------------------------\n"
     ]
    },
    {
     "data": {
      "text/html": [
       "<h4>Faiss retriever</h4>"
      ],
      "text/plain": [
       "<IPython.core.display.HTML object>"
      ]
     },
     "metadata": {},
     "output_type": "display_data"
    },
    {
     "name": "stdout",
     "output_type": "stream",
     "text": [
      "Document 2003_1939, Art. 140:\n",
      "Spółdzielnie przejęte wskutek połączenia dokonanego na podstawie dotychczasowych\n",
      "przepisów, które nie zostały wykreślone z Krajowego Rejestru Sądowego, podlegają\n",
      "wykreśleniu z urzędu.\n",
      "---------------------------------------------------------------------------------------------\n"
     ]
    },
    {
     "data": {
      "text/html": [
       "<h2>1360: Czy strona może cofnąć odwołanie przed wydaniem decyzji przez organ odwoławczy? (1997_926, 232)</h2>"
      ],
      "text/plain": [
       "<IPython.core.display.HTML object>"
      ]
     },
     "metadata": {},
     "output_type": "display_data"
    },
    {
     "data": {
      "text/html": [
       "<h4>Elastic retriever</h4>"
      ],
      "text/plain": [
       "<IPython.core.display.HTML object>"
      ]
     },
     "metadata": {},
     "output_type": "display_data"
    },
    {
     "name": "stdout",
     "output_type": "stream",
     "text": [
      "Document 1997_926, Art. 232:\n",
      ".\n",
      "Strona może cofnąć odwołanie przed wydaniem decyzji przez organ odwoławczy.\n",
      "Organ odwoławczy nie uwzględni jednak cofnięcia odwołania, jeżeli prowadziłoby\n",
      "to do utrzymania w mocy decyzji wydanej z naruszeniem przepisów \n",
      "uzasadniających jej uchylenie lub z innych przyczyn wadliwej.\n",
      "---------------------------------------------------------------------------------------------\n"
     ]
    },
    {
     "data": {
      "text/html": [
       "<h4>Faiss retriever</h4>"
      ],
      "text/plain": [
       "<IPython.core.display.HTML object>"
      ]
     },
     "metadata": {},
     "output_type": "display_data"
    },
    {
     "name": "stdout",
     "output_type": "stream",
     "text": [
      "Document 1997_926, Art. 232:\n",
      "Strona może cofnąć odwołanie przed wydaniem decyzji przez organ odwoławczy.\n",
      "Organ odwoławczy nie uwzględni jednak cofnięcia odwołania, jeżeli prowadziłoby\n",
      "to do utrzymania w mocy decyzji wydanej z naruszeniem przepisów \n",
      "uzasadniających jej uchylenie lub z innych przyczyn wadliwej.\n",
      "---------------------------------------------------------------------------------------------\n"
     ]
    },
    {
     "data": {
      "text/html": [
       "<h2>1361: Kto może określić, w drodze rozporządzenia, dodatkowe kryteria akredytacyjne? (2002_1802, 3)</h2>"
      ],
      "text/plain": [
       "<IPython.core.display.HTML object>"
      ]
     },
     "metadata": {},
     "output_type": "display_data"
    },
    {
     "data": {
      "text/html": [
       "<h4>Elastic retriever</h4>"
      ],
      "text/plain": [
       "<IPython.core.display.HTML object>"
      ]
     },
     "metadata": {},
     "output_type": "display_data"
    },
    {
     "name": "stdout",
     "output_type": "stream",
     "text": [
      "Document 2002_1802, Art. 3:\n",
      ".\n",
      "Minister\n",
      "właściwy do spraw finansów publicznych może określić, w drodze rozporządzenia,\n",
      "dodatkowe kryteria akredytacyjne, które powinna spełniać agencja płatnicza,\n",
      "inne niż określone w załączniku nr 1 do rozporządzenia nr 885/2006, mając na\n",
      "względzie zapewnienie prawidłowego wydatkowania środków pochodzących z EFRG i\n",
      "EFRROW.\n",
      "---------------------------------------------------------------------------------------------\n"
     ]
    },
    {
     "data": {
      "text/html": [
       "<h4>Faiss retriever</h4>"
      ],
      "text/plain": [
       "<IPython.core.display.HTML object>"
      ]
     },
     "metadata": {},
     "output_type": "display_data"
    },
    {
     "name": "stdout",
     "output_type": "stream",
     "text": [
      "Document 2000_489, Art. 21:\n",
      "1. W przypadku stwierdzenia naruszenia wymagań lub zakresu akredytacji,\n",
      "  Centrum Akredytacji może ograniczyć zakres akredytacji, zawiesić akredytację\n",
      "  lub dokonać jej cofnięcia.\n",
      "2. Ograniczenie zakresu akredytacji następuje, jeżeli jednostka akredytowana\n",
      "  lub laboratorium akredytowane nie spełnia niektórych wymagań określonych w\n",
      "  certyfikacie akredytacji, natomiast jest w stanie wykonywać inne czynności\n",
      "  objęte akredytacją.\n",
      "3. Zawieszenie akredytacji następuje, jeżeli jednostka akredytowana lub\n",
      "  laboratorium akredytowane nie jest w stanie okresowo prowadzić działalności\n",
      "  w zakresie udzielonej akredytacji.\n",
      "4. Cofnięcie akredytacji następuje w przypadku rażącego naruszenia przez\n",
      "  jednostkę akredytowaną lub laboratorium akredytowane wymagań określonych w\n",
      "  certyfikacie akredytacji.\n",
      "                                       \n",
      "                                  Rozdział 4\n",
      "                                   Odwołania\n",
      "---------------------------------------------------------------------------------------------\n"
     ]
    },
    {
     "data": {
      "text/html": [
       "<h2>1362: Na kim spoczywa obowiązek prowadzenia kontroli źródeł promieniowania jonizującego? (2001_18, 43)</h2>"
      ],
      "text/plain": [
       "<IPython.core.display.HTML object>"
      ]
     },
     "metadata": {},
     "output_type": "display_data"
    },
    {
     "data": {
      "text/html": [
       "<h4>Elastic retriever</h4>"
      ],
      "text/plain": [
       "<IPython.core.display.HTML object>"
      ]
     },
     "metadata": {},
     "output_type": "display_data"
    },
    {
     "name": "stdout",
     "output_type": "stream",
     "text": [
      "Document 2001_18, Art. 43:\n",
      ".\n",
      "1. Źródła promieniowania jonizującego podlegają kontroli, a źródła\n",
      "  promieniotwórcze podlegają także ewidencji.\n",
      "2. Obowiązek prowadzenia kontroli źródeł promieniowania jonizującego oraz\n",
      "  ewidencji stanu i ruchu źródeł promieniotwórczych spoczywa na kierowniku\n",
      "  jednostki organizacyjnej wykonującej działalność związaną z tymi źródłami.\n",
      "---------------------------------------------------------------------------------------------\n"
     ]
    },
    {
     "data": {
      "text/html": [
       "<h4>Faiss retriever</h4>"
      ],
      "text/plain": [
       "<IPython.core.display.HTML object>"
      ]
     },
     "metadata": {},
     "output_type": "display_data"
    },
    {
     "name": "stdout",
     "output_type": "stream",
     "text": [
      "Document 2001_18, Art. 43:\n",
      "1. Źródła promieniowania jonizującego podlegają kontroli, a źródła\n",
      "  promieniotwórcze podlegają także ewidencji.\n",
      "2. Obowiązek prowadzenia kontroli źródeł promieniowania jonizującego oraz\n",
      "  ewidencji stanu i ruchu źródeł promieniotwórczych spoczywa na kierowniku\n",
      "  jednostki organizacyjnej wykonującej działalność związaną z tymi źródłami.\n",
      "---------------------------------------------------------------------------------------------\n"
     ]
    },
    {
     "data": {
      "text/html": [
       "<h2>1363: Co może ustalić organ ochrony środowiska w drodze decyzji? (2001_627, 154)</h2>"
      ],
      "text/plain": [
       "<IPython.core.display.HTML object>"
      ]
     },
     "metadata": {},
     "output_type": "display_data"
    },
    {
     "data": {
      "text/html": [
       "<h4>Elastic retriever</h4>"
      ],
      "text/plain": [
       "<IPython.core.display.HTML object>"
      ]
     },
     "metadata": {},
     "output_type": "display_data"
    },
    {
     "name": "stdout",
     "output_type": "stream",
     "text": [
      "Document 2001_627, Art. 154:\n",
      ".\n",
      "1. Organ ochrony środowiska może ustalić, w drodze decyzji, wymagania w\n",
      "  zakresie ochrony środowiska dotyczące eksploatacji instalacji, z której\n",
      "  emisja nie wymaga pozwolenia, o ile jest to uzasadnione koniecznością ochrony\n",
      "  środowiska.\n",
      "2. Do decyzji, o której mowa w ust. 1, przepis art. 188 ust. 2 stosuje się\n",
      "  odpowiednio.\n",
      "3. Postępowanie w przedmiocie wydania decyzji, o której mowa w ust. 1, wszczyna\n",
      "  się z urzędu.\n",
      "---------------------------------------------------------------------------------------------\n"
     ]
    },
    {
     "data": {
      "text/html": [
       "<h4>Faiss retriever</h4>"
      ],
      "text/plain": [
       "<IPython.core.display.HTML object>"
      ]
     },
     "metadata": {},
     "output_type": "display_data"
    },
    {
     "name": "stdout",
     "output_type": "stream",
     "text": [
      "Document 2001_627, Art. 1:\n",
      "Ustawa określa zasady ochrony środowiska oraz warunki korzystania z jego\n",
      "zasobów, z uwzględnieniem wymagań zrównoważonego rozwoju, a w szczególności:\n",
      "   1) zasady ustalania:\n",
      "     a) warunków ochrony zasobów środowiska,\n",
      "     b) warunków wprowadzania substancji lub energii do środowiska,\n",
      "     c) kosztów korzystania ze środowiska,\n",
      "   2) udostępnianie informacji o środowisku i jego ochronie,\n",
      "   3) udział społeczeństwa w postępowaniu w sprawie ochrony środowiska,\n",
      "   4) obowiązki organów administracji,\n",
      "   5) odpowiedzialność i sankcje.\n",
      "---------------------------------------------------------------------------------------------\n"
     ]
    },
    {
     "data": {
      "text/html": [
       "<h2>1364: Kto określi w drodze rozporządzenia rodzaje preparatów i ich ilości jakie mogą posiadać zakłady opieki? (1997_468, 29)</h2>"
      ],
      "text/plain": [
       "<IPython.core.display.HTML object>"
      ]
     },
     "metadata": {},
     "output_type": "display_data"
    },
    {
     "data": {
      "text/html": [
       "<h4>Elastic retriever</h4>"
      ],
      "text/plain": [
       "<IPython.core.display.HTML object>"
      ]
     },
     "metadata": {},
     "output_type": "display_data"
    },
    {
     "name": "stdout",
     "output_type": "stream",
     "text": [
      "Document 1997_468, Art. 29:\n",
      ".\n",
      " 1. Preparaty zawierające środki odurzające grup I-N, II-N i III-N lub substancje\n",
      "   psychotropowe grup II-P, III-P i IV-P, które zostały dopuszczone \n",
      "   do obrotu jako środki farmaceutyczne na podstawie przepisów, o których \n",
      "   mowa w art. 2 pkt 1, może posiadać, w celach medycznych, zakład opieki \n",
      "   zdrowotnej nie mający apteki zakładowej, zakład leczniczy dla zwierząt \n",
      "   oraz lekarz, lekarz stomatolog lub lekarz weterynarii, prowadzący indywidualną\n",
      "   praktykę lekarską, oraz inne podmioty.\n",
      " 2. Minister Zdrowia i Opieki Społecznej określi, w drodze rozporządzenia, \n",
      "   rodzaje preparatów i ich ilości, jakie mogą posiadać podmioty, o których \n",
      "   mowa w ust. 1 oraz inne podmioty, szczegółowe warunki przechowywania \n",
      "   tych preparatów oraz prowadzenia dokumentacji w zakresie ich posiadania\n",
      "   i stosowania.\n",
      "---------------------------------------------------------------------------------------------\n"
     ]
    },
    {
     "data": {
      "text/html": [
       "<h4>Faiss retriever</h4>"
      ],
      "text/plain": [
       "<IPython.core.display.HTML object>"
      ]
     },
     "metadata": {},
     "output_type": "display_data"
    },
    {
     "name": "stdout",
     "output_type": "stream",
     "text": [
      "Document 1997_153, Art. 42:\n",
      "Minister Zdrowia i Opieki Społecznej po porozumieniu z Radą Krajowego \n",
      "Związku Kas oraz po zasięgnięciu opinii Naczelnej Rady Lekarskiej i Naczelnej\n",
      "Rady Aptekarskiej określa, w drodze rozporządzenia, leki i artykuły medyczne,\n",
      "które nie mogą być przepisywane na recepcie uprawniającej do nabycia \n",
      "leku lub artykułu sanitarnego na zasadach określonych w art. 40 i 41.\n",
      "---------------------------------------------------------------------------------------------\n"
     ]
    },
    {
     "data": {
      "text/html": [
       "<h2>1365: Kto wykonuje zadania wojewody w zakresie ochrony przyrody na terenie parku narodowego? (2004_880, 94)</h2>"
      ],
      "text/plain": [
       "<IPython.core.display.HTML object>"
      ]
     },
     "metadata": {},
     "output_type": "display_data"
    },
    {
     "data": {
      "text/html": [
       "<h4>Elastic retriever</h4>"
      ],
      "text/plain": [
       "<IPython.core.display.HTML object>"
      ]
     },
     "metadata": {},
     "output_type": "display_data"
    },
    {
     "name": "stdout",
     "output_type": "stream",
     "text": [
      "Document 2004_880, Art. 94:\n",
      ".\n",
      "Zadania wojewody w zakresie ochrony przyrody na terenie parku narodowego\n",
      "wykonuje dyrektor tego parku.\n",
      "---------------------------------------------------------------------------------------------\n"
     ]
    },
    {
     "data": {
      "text/html": [
       "<h4>Faiss retriever</h4>"
      ],
      "text/plain": [
       "<IPython.core.display.HTML object>"
      ]
     },
     "metadata": {},
     "output_type": "display_data"
    },
    {
     "name": "stdout",
     "output_type": "stream",
     "text": [
      "Document 2004_880, Art. 94:\n",
      "Zadania wojewody w zakresie ochrony przyrody na terenie parku narodowego\n",
      "wykonuje dyrektor tego parku.\n",
      "---------------------------------------------------------------------------------------------\n"
     ]
    }
   ],
   "source": [
    "for q_id, q in list(questions.items()):\n",
    "    display(HTML(f\"<h2>{q_id}: {q['question']} ({q['act_id']}, {q['art_number']})</h2>\"))\n",
    "    for retriever, retriever_name in [(elastic_retriever, 'Elastic'), (faiss_retriever, 'Faiss')]:\n",
    "        display(HTML(f\"<h4>{retriever_name} retriever</h4>\"))\n",
    "        \n",
    "        possible_passages = retriever.retrieve(query=q['question'], top_k=1)\n",
    "        for p in possible_passages:\n",
    "            print(f\"Document {p.meta['act_id']}, Art. {p.meta['art_number']}:\")\n",
    "            print(p.content)\n",
    "            print('---------------------------------------------------------------------------------------------')"
   ]
  },
  {
   "cell_type": "markdown",
   "id": "9611f08e-ffc4-46c0-a2c3-49c634316070",
   "metadata": {},
   "source": [
    "# Task 7\n",
    "- Calculating Pr@3 doesn't make a lot of sense, since none of the questions in my dataset have three correct answers... However, we can still use it compare the two methods.\n",
    "- I'm using the exact formulas from the assignment, so, e.g. if among 3 retrieved documents there are 2 valid documents (one document twice) out of 1, the Rc@3 is getting bigger than 1.0..."
   ]
  },
  {
   "cell_type": "code",
   "execution_count": 13,
   "id": "fa0d5a96-2326-489a-8c00-6e926867c5fe",
   "metadata": {},
   "outputs": [],
   "source": [
    "# retrieved from questions.jl and relevant.jl. If the question is present more than once, \n",
    "# I assume that it has more than one correct answer. \n",
    "ground_truth = {\n",
    "    1345: [('2001_499', '238'), ('1997_604', '39')],\n",
    "    1346: [('1998_1118', '69')],\n",
    "    1347: [('1997_769', '30')],\n",
    "    1348: [('1996_110', '223'), ('2001_18', '14')],\n",
    "    1349: [('1996_110', '223'), ('2001_18', '14')],\n",
    "    1350: [('1996_463', '1')],\n",
    "    1351: [('2001_1207', '20')],\n",
    "    1352: [('1997_593', '23')],\n",
    "    1353: [('1997_553', '184')],\n",
    "    1354: [('2001_1409', '27')],\n",
    "    1355: [('2001_499', '18')],\n",
    "    1356: [('1997_739', '86'), ('1997_739', '109')],\n",
    "    1357: [('1997_739', '86'), ('1997_739', '109')],\n",
    "    1358: [('2001_298', '126')],\n",
    "    1359: [('1997_251', '6')],\n",
    "    1360: [('1997_926', '232')],\n",
    "    1361: [('2002_1802', '3')],\n",
    "    1362: [('2001_18', '42')],\n",
    "    1363: [('2001_627', '154')],\n",
    "    1364: [('1997_468', '29')],\n",
    "    1365: [('2004_880', '94')],\n",
    "}"
   ]
  },
  {
   "cell_type": "code",
   "execution_count": 14,
   "id": "ce119f98-29db-44a9-9881-57ec73cffa63",
   "metadata": {},
   "outputs": [],
   "source": [
    "def calculate_stats(question_id, question, retriever, at=1):\n",
    "    start = time.time()\n",
    "    possible_passages = retriever.retrieve(query=question['question'], top_k=at)\n",
    "    elapsed_time = time.time() - start\n",
    "    possible_articles = [(p.meta['act_id'], p.meta['art_number']) for p in possible_passages]\n",
    "    \n",
    "    n_valid_answers = sum([a in ground_truth[question_id] for a in possible_articles])\n",
    "    n_all_correct = len(ground_truth[question_id])\n",
    "    \n",
    "    pr = n_valid_answers / at\n",
    "    rc = n_valid_answers / n_all_correct\n",
    "    return pr, rc, elapsed_time"
   ]
  },
  {
   "cell_type": "code",
   "execution_count": 15,
   "id": "bdc6a980-cc73-4278-b0b4-7f80f143d26d",
   "metadata": {},
   "outputs": [],
   "source": [
    "stats = {}\n",
    "for q_id, q in list(questions.items()):\n",
    "    stats[q_id] = []\n",
    "    for retriever, retriever_name in [(elastic_retriever, 'Elastic'), (faiss_retriever, 'Faiss')]:\n",
    "        pr1, rc1, t1 = calculate_stats(q_id, q, retriever, 1)\n",
    "        pr3, rc3, t3 = calculate_stats(q_id, q, retriever, 3)\n",
    "        stats[q_id] += [round(a, 2) for a in [pr1, rc1, pr3, rc3]] + [round(t1 + t3, 3)]"
   ]
  },
  {
   "cell_type": "code",
   "execution_count": 16,
   "id": "37fceb80-5564-4450-aab8-4f11ed6051fc",
   "metadata": {},
   "outputs": [
    {
     "data": {
      "text/html": [
       "<div>\n",
       "<style scoped>\n",
       "    .dataframe tbody tr th:only-of-type {\n",
       "        vertical-align: middle;\n",
       "    }\n",
       "\n",
       "    .dataframe tbody tr th {\n",
       "        vertical-align: top;\n",
       "    }\n",
       "\n",
       "    .dataframe thead th {\n",
       "        text-align: right;\n",
       "    }\n",
       "</style>\n",
       "<table border=\"1\" class=\"dataframe\">\n",
       "  <thead>\n",
       "    <tr style=\"text-align: right;\">\n",
       "      <th></th>\n",
       "      <th>Pr@1 Elastic</th>\n",
       "      <th>Pr@1 Faiss</th>\n",
       "      <th>Rc@1 Elastic</th>\n",
       "      <th>Rc@1 Faiss</th>\n",
       "      <th>Pr@3 Elastic</th>\n",
       "      <th>Pr@3 Faiss</th>\n",
       "      <th>Rc@3 Elastic</th>\n",
       "      <th>Rc@3 Faiss</th>\n",
       "      <th>time Elastic</th>\n",
       "      <th>time Faiss</th>\n",
       "    </tr>\n",
       "  </thead>\n",
       "  <tbody>\n",
       "    <tr>\n",
       "      <th>1345</th>\n",
       "      <td>0.0</td>\n",
       "      <td>0.0</td>\n",
       "      <td>0.0</td>\n",
       "      <td>0.0</td>\n",
       "      <td>0.33</td>\n",
       "      <td>0.00</td>\n",
       "      <td>0.5</td>\n",
       "      <td>0.0</td>\n",
       "      <td>0.010</td>\n",
       "      <td>0.066</td>\n",
       "    </tr>\n",
       "    <tr>\n",
       "      <th>1346</th>\n",
       "      <td>1.0</td>\n",
       "      <td>0.0</td>\n",
       "      <td>1.0</td>\n",
       "      <td>0.0</td>\n",
       "      <td>0.67</td>\n",
       "      <td>0.33</td>\n",
       "      <td>2.0</td>\n",
       "      <td>1.0</td>\n",
       "      <td>0.008</td>\n",
       "      <td>0.066</td>\n",
       "    </tr>\n",
       "    <tr>\n",
       "      <th>1347</th>\n",
       "      <td>1.0</td>\n",
       "      <td>1.0</td>\n",
       "      <td>1.0</td>\n",
       "      <td>1.0</td>\n",
       "      <td>0.67</td>\n",
       "      <td>0.33</td>\n",
       "      <td>2.0</td>\n",
       "      <td>1.0</td>\n",
       "      <td>0.007</td>\n",
       "      <td>0.075</td>\n",
       "    </tr>\n",
       "    <tr>\n",
       "      <th>1348</th>\n",
       "      <td>1.0</td>\n",
       "      <td>0.0</td>\n",
       "      <td>0.5</td>\n",
       "      <td>0.0</td>\n",
       "      <td>0.67</td>\n",
       "      <td>0.33</td>\n",
       "      <td>1.0</td>\n",
       "      <td>0.5</td>\n",
       "      <td>0.007</td>\n",
       "      <td>0.069</td>\n",
       "    </tr>\n",
       "    <tr>\n",
       "      <th>1349</th>\n",
       "      <td>1.0</td>\n",
       "      <td>0.0</td>\n",
       "      <td>0.5</td>\n",
       "      <td>0.0</td>\n",
       "      <td>0.67</td>\n",
       "      <td>0.33</td>\n",
       "      <td>1.0</td>\n",
       "      <td>0.5</td>\n",
       "      <td>0.007</td>\n",
       "      <td>0.065</td>\n",
       "    </tr>\n",
       "    <tr>\n",
       "      <th>1350</th>\n",
       "      <td>0.0</td>\n",
       "      <td>1.0</td>\n",
       "      <td>0.0</td>\n",
       "      <td>1.0</td>\n",
       "      <td>0.00</td>\n",
       "      <td>0.33</td>\n",
       "      <td>0.0</td>\n",
       "      <td>1.0</td>\n",
       "      <td>0.006</td>\n",
       "      <td>0.065</td>\n",
       "    </tr>\n",
       "    <tr>\n",
       "      <th>1351</th>\n",
       "      <td>1.0</td>\n",
       "      <td>0.0</td>\n",
       "      <td>1.0</td>\n",
       "      <td>0.0</td>\n",
       "      <td>0.67</td>\n",
       "      <td>0.00</td>\n",
       "      <td>2.0</td>\n",
       "      <td>0.0</td>\n",
       "      <td>0.008</td>\n",
       "      <td>0.065</td>\n",
       "    </tr>\n",
       "    <tr>\n",
       "      <th>1352</th>\n",
       "      <td>1.0</td>\n",
       "      <td>1.0</td>\n",
       "      <td>1.0</td>\n",
       "      <td>1.0</td>\n",
       "      <td>0.67</td>\n",
       "      <td>0.33</td>\n",
       "      <td>2.0</td>\n",
       "      <td>1.0</td>\n",
       "      <td>0.005</td>\n",
       "      <td>0.065</td>\n",
       "    </tr>\n",
       "    <tr>\n",
       "      <th>1353</th>\n",
       "      <td>1.0</td>\n",
       "      <td>0.0</td>\n",
       "      <td>1.0</td>\n",
       "      <td>0.0</td>\n",
       "      <td>0.67</td>\n",
       "      <td>0.00</td>\n",
       "      <td>2.0</td>\n",
       "      <td>0.0</td>\n",
       "      <td>0.007</td>\n",
       "      <td>0.065</td>\n",
       "    </tr>\n",
       "    <tr>\n",
       "      <th>1354</th>\n",
       "      <td>1.0</td>\n",
       "      <td>1.0</td>\n",
       "      <td>1.0</td>\n",
       "      <td>1.0</td>\n",
       "      <td>0.67</td>\n",
       "      <td>0.33</td>\n",
       "      <td>2.0</td>\n",
       "      <td>1.0</td>\n",
       "      <td>0.007</td>\n",
       "      <td>0.065</td>\n",
       "    </tr>\n",
       "    <tr>\n",
       "      <th>1355</th>\n",
       "      <td>1.0</td>\n",
       "      <td>1.0</td>\n",
       "      <td>1.0</td>\n",
       "      <td>1.0</td>\n",
       "      <td>0.67</td>\n",
       "      <td>0.33</td>\n",
       "      <td>2.0</td>\n",
       "      <td>1.0</td>\n",
       "      <td>0.006</td>\n",
       "      <td>0.065</td>\n",
       "    </tr>\n",
       "    <tr>\n",
       "      <th>1356</th>\n",
       "      <td>1.0</td>\n",
       "      <td>1.0</td>\n",
       "      <td>0.5</td>\n",
       "      <td>0.5</td>\n",
       "      <td>0.67</td>\n",
       "      <td>0.33</td>\n",
       "      <td>1.0</td>\n",
       "      <td>0.5</td>\n",
       "      <td>0.007</td>\n",
       "      <td>0.065</td>\n",
       "    </tr>\n",
       "    <tr>\n",
       "      <th>1357</th>\n",
       "      <td>1.0</td>\n",
       "      <td>1.0</td>\n",
       "      <td>0.5</td>\n",
       "      <td>0.5</td>\n",
       "      <td>0.67</td>\n",
       "      <td>0.33</td>\n",
       "      <td>1.0</td>\n",
       "      <td>0.5</td>\n",
       "      <td>0.007</td>\n",
       "      <td>0.065</td>\n",
       "    </tr>\n",
       "    <tr>\n",
       "      <th>1358</th>\n",
       "      <td>0.0</td>\n",
       "      <td>0.0</td>\n",
       "      <td>0.0</td>\n",
       "      <td>0.0</td>\n",
       "      <td>0.00</td>\n",
       "      <td>0.00</td>\n",
       "      <td>0.0</td>\n",
       "      <td>0.0</td>\n",
       "      <td>0.008</td>\n",
       "      <td>0.064</td>\n",
       "    </tr>\n",
       "    <tr>\n",
       "      <th>1359</th>\n",
       "      <td>0.0</td>\n",
       "      <td>0.0</td>\n",
       "      <td>0.0</td>\n",
       "      <td>0.0</td>\n",
       "      <td>0.33</td>\n",
       "      <td>0.33</td>\n",
       "      <td>1.0</td>\n",
       "      <td>1.0</td>\n",
       "      <td>0.007</td>\n",
       "      <td>0.065</td>\n",
       "    </tr>\n",
       "    <tr>\n",
       "      <th>1360</th>\n",
       "      <td>1.0</td>\n",
       "      <td>1.0</td>\n",
       "      <td>1.0</td>\n",
       "      <td>1.0</td>\n",
       "      <td>0.67</td>\n",
       "      <td>0.33</td>\n",
       "      <td>2.0</td>\n",
       "      <td>1.0</td>\n",
       "      <td>0.006</td>\n",
       "      <td>0.065</td>\n",
       "    </tr>\n",
       "    <tr>\n",
       "      <th>1361</th>\n",
       "      <td>1.0</td>\n",
       "      <td>0.0</td>\n",
       "      <td>1.0</td>\n",
       "      <td>0.0</td>\n",
       "      <td>0.67</td>\n",
       "      <td>0.00</td>\n",
       "      <td>2.0</td>\n",
       "      <td>0.0</td>\n",
       "      <td>0.007</td>\n",
       "      <td>0.066</td>\n",
       "    </tr>\n",
       "    <tr>\n",
       "      <th>1362</th>\n",
       "      <td>0.0</td>\n",
       "      <td>0.0</td>\n",
       "      <td>0.0</td>\n",
       "      <td>0.0</td>\n",
       "      <td>0.00</td>\n",
       "      <td>0.00</td>\n",
       "      <td>0.0</td>\n",
       "      <td>0.0</td>\n",
       "      <td>0.007</td>\n",
       "      <td>0.064</td>\n",
       "    </tr>\n",
       "    <tr>\n",
       "      <th>1363</th>\n",
       "      <td>1.0</td>\n",
       "      <td>0.0</td>\n",
       "      <td>1.0</td>\n",
       "      <td>0.0</td>\n",
       "      <td>0.67</td>\n",
       "      <td>0.00</td>\n",
       "      <td>2.0</td>\n",
       "      <td>0.0</td>\n",
       "      <td>0.008</td>\n",
       "      <td>0.066</td>\n",
       "    </tr>\n",
       "    <tr>\n",
       "      <th>1364</th>\n",
       "      <td>1.0</td>\n",
       "      <td>0.0</td>\n",
       "      <td>1.0</td>\n",
       "      <td>0.0</td>\n",
       "      <td>0.67</td>\n",
       "      <td>0.00</td>\n",
       "      <td>2.0</td>\n",
       "      <td>0.0</td>\n",
       "      <td>0.010</td>\n",
       "      <td>0.064</td>\n",
       "    </tr>\n",
       "    <tr>\n",
       "      <th>1365</th>\n",
       "      <td>1.0</td>\n",
       "      <td>1.0</td>\n",
       "      <td>1.0</td>\n",
       "      <td>1.0</td>\n",
       "      <td>0.67</td>\n",
       "      <td>0.33</td>\n",
       "      <td>2.0</td>\n",
       "      <td>1.0</td>\n",
       "      <td>0.008</td>\n",
       "      <td>0.065</td>\n",
       "    </tr>\n",
       "  </tbody>\n",
       "</table>\n",
       "</div>"
      ],
      "text/plain": [
       "      Pr@1 Elastic  Pr@1 Faiss  Rc@1 Elastic  Rc@1 Faiss  Pr@3 Elastic  \\\n",
       "1345           0.0         0.0           0.0         0.0          0.33   \n",
       "1346           1.0         0.0           1.0         0.0          0.67   \n",
       "1347           1.0         1.0           1.0         1.0          0.67   \n",
       "1348           1.0         0.0           0.5         0.0          0.67   \n",
       "1349           1.0         0.0           0.5         0.0          0.67   \n",
       "1350           0.0         1.0           0.0         1.0          0.00   \n",
       "1351           1.0         0.0           1.0         0.0          0.67   \n",
       "1352           1.0         1.0           1.0         1.0          0.67   \n",
       "1353           1.0         0.0           1.0         0.0          0.67   \n",
       "1354           1.0         1.0           1.0         1.0          0.67   \n",
       "1355           1.0         1.0           1.0         1.0          0.67   \n",
       "1356           1.0         1.0           0.5         0.5          0.67   \n",
       "1357           1.0         1.0           0.5         0.5          0.67   \n",
       "1358           0.0         0.0           0.0         0.0          0.00   \n",
       "1359           0.0         0.0           0.0         0.0          0.33   \n",
       "1360           1.0         1.0           1.0         1.0          0.67   \n",
       "1361           1.0         0.0           1.0         0.0          0.67   \n",
       "1362           0.0         0.0           0.0         0.0          0.00   \n",
       "1363           1.0         0.0           1.0         0.0          0.67   \n",
       "1364           1.0         0.0           1.0         0.0          0.67   \n",
       "1365           1.0         1.0           1.0         1.0          0.67   \n",
       "\n",
       "      Pr@3 Faiss  Rc@3 Elastic  Rc@3 Faiss  time Elastic  time Faiss  \n",
       "1345        0.00           0.5         0.0         0.010       0.066  \n",
       "1346        0.33           2.0         1.0         0.008       0.066  \n",
       "1347        0.33           2.0         1.0         0.007       0.075  \n",
       "1348        0.33           1.0         0.5         0.007       0.069  \n",
       "1349        0.33           1.0         0.5         0.007       0.065  \n",
       "1350        0.33           0.0         1.0         0.006       0.065  \n",
       "1351        0.00           2.0         0.0         0.008       0.065  \n",
       "1352        0.33           2.0         1.0         0.005       0.065  \n",
       "1353        0.00           2.0         0.0         0.007       0.065  \n",
       "1354        0.33           2.0         1.0         0.007       0.065  \n",
       "1355        0.33           2.0         1.0         0.006       0.065  \n",
       "1356        0.33           1.0         0.5         0.007       0.065  \n",
       "1357        0.33           1.0         0.5         0.007       0.065  \n",
       "1358        0.00           0.0         0.0         0.008       0.064  \n",
       "1359        0.33           1.0         1.0         0.007       0.065  \n",
       "1360        0.33           2.0         1.0         0.006       0.065  \n",
       "1361        0.00           2.0         0.0         0.007       0.066  \n",
       "1362        0.00           0.0         0.0         0.007       0.064  \n",
       "1363        0.00           2.0         0.0         0.008       0.066  \n",
       "1364        0.00           2.0         0.0         0.010       0.064  \n",
       "1365        0.33           2.0         1.0         0.008       0.065  "
      ]
     },
     "execution_count": 16,
     "metadata": {},
     "output_type": "execute_result"
    }
   ],
   "source": [
    "df = pd.DataFrame.from_dict(stats, orient='index', columns=['Pr@1 Elastic', 'Rc@1 Elastic', 'Pr@3 Elastic', 'Rc@3 Elastic', 'time Elastic', 'Pr@1 Faiss', 'Rc@1 Faiss', 'Pr@3 Faiss', 'Rc@3 Faiss', 'time Faiss'])\n",
    "df = df.iloc[:, [0, 5, 1, 6, 2, 7, 3, 8, 4, 9]]\n",
    "df"
   ]
  },
  {
   "cell_type": "markdown",
   "id": "81b9671a-9b32-4758-ac86-c5f52b15cbb7",
   "metadata": {
    "tags": []
   },
   "source": [
    "# Task 9\n",
    "#### Which of the document stores performs better? Take into account the different metrics enumerated in the previous point.\n",
    "ElasticSearch document store is better considering the metrics.\n",
    "\n",
    "#### Which of the document stores is faster?\n",
    "Elastic is faster in processing documents and answering questions.\n",
    "\n",
    "#### Try to determine the other pros and cons of using sparse and dense document retrieval models.\n",
    "- Elastic (sparse) is often returning two same answers (that's why its Rc@3 is often 2.0)\n",
    "- The advantage of dense models is the fact that they can be easily adjusted for a specific dataset."
   ]
  },
  {
   "cell_type": "code",
   "execution_count": null,
   "id": "dddb23ff-5e1b-47bb-8173-b5acc87c183d",
   "metadata": {},
   "outputs": [],
   "source": []
  }
 ],
 "metadata": {
  "kernelspec": {
   "display_name": "Python 3 (ipykernel)",
   "language": "python",
   "name": "python3"
  },
  "language_info": {
   "codemirror_mode": {
    "name": "ipython",
    "version": 3
   },
   "file_extension": ".py",
   "mimetype": "text/x-python",
   "name": "python",
   "nbconvert_exporter": "python",
   "pygments_lexer": "ipython3",
   "version": "3.9.15"
  }
 },
 "nbformat": 4,
 "nbformat_minor": 5
}
