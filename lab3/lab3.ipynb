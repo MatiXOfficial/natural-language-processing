{
 "cells": [
  {
   "cell_type": "markdown",
   "id": "7b579022-fa0b-4289-8020-9d1aada33f57",
   "metadata": {},
   "source": [
    "# Przetwarzanie języka naturalnego - lab3\n",
    "## Mateusz Kocot"
   ]
  },
  {
   "cell_type": "code",
   "execution_count": 1,
   "id": "6bcf54ed-d2f0-4070-86ff-ed6737ad036c",
   "metadata": {},
   "outputs": [],
   "source": [
    "import os\n",
    "from collections import Counter\n",
    "import regex as re\n",
    "import random\n",
    "import time\n",
    "\n",
    "import pandas as pd\n",
    "import numpy as np\n",
    "from matplotlib import pyplot as plt\n",
    "\n",
    "from elasticsearch import Elasticsearch\n",
    "from elasticsearch import helpers as es_helpers\n",
    "from spacy.lang.pl import Polish as PolishSpacy\n",
    "import morfeusz2\n",
    "from Levenshtein import distance as levenshtein_dist\n",
    "\n",
    "from IPython.display import display, HTML"
   ]
  },
  {
   "cell_type": "code",
   "execution_count": 2,
   "id": "4169da82-b0ae-4bb3-9c53-e6285e4f3c86",
   "metadata": {},
   "outputs": [],
   "source": [
    "DATA_DIR = '../ustawy'"
   ]
  },
  {
   "cell_type": "code",
   "execution_count": 3,
   "id": "08916727-d7ad-4c0d-99dd-851bf34da1a5",
   "metadata": {},
   "outputs": [],
   "source": [
    "es = Elasticsearch(\"http://localhost:9200\")\n",
    "morf = morfeusz2.Morfeusz()"
   ]
  },
  {
   "cell_type": "markdown",
   "id": "97db824b-9bfc-49f0-b220-bfa6556e66b0",
   "metadata": {},
   "source": [
    "# Load data (bills)"
   ]
  },
  {
   "cell_type": "code",
   "execution_count": 4,
   "id": "38082de7-8d56-43de-8df3-df7865652817",
   "metadata": {},
   "outputs": [
    {
     "data": {
      "text/plain": [
       "1179"
      ]
     },
     "execution_count": 4,
     "metadata": {},
     "output_type": "execute_result"
    }
   ],
   "source": [
    "dataset = {}\n",
    "\n",
    "def remove_html_code(text): # task 2\n",
    "    while match := re.search(r'<.{,5}>', text):\n",
    "        print(text[match.span()[0] - 10 : match.span()[0] + 10])\n",
    "        text = text[:match.span()[0]] + text[match.span()[1]:]\n",
    "    return text\n",
    "\n",
    "for file_name in os.listdir(DATA_DIR):\n",
    "    with open(f'{DATA_DIR}/{file_name}', 'r', encoding='UTF-8') as file:\n",
    "        bill = file.read().lower()\n",
    "    dataset[file_name] = remove_html_code(bill)\n",
    "    \n",
    "len(dataset)"
   ]
  },
  {
   "cell_type": "markdown",
   "id": "73a1023c-29c5-4de6-bb55-7841820f8c97",
   "metadata": {},
   "source": [
    "# Task 3"
   ]
  },
  {
   "cell_type": "code",
   "execution_count": 5,
   "id": "65942f58-ceac-469c-8513-a0ab97dc9866",
   "metadata": {},
   "outputs": [],
   "source": [
    "nlp_spacy = PolishSpacy()\n",
    "tokenizer = nlp_spacy.tokenizer"
   ]
  },
  {
   "cell_type": "code",
   "execution_count": 6,
   "id": "e4357fda-b4a9-4c21-8fc0-26a47ca8658c",
   "metadata": {},
   "outputs": [],
   "source": [
    "tokenized_dataset = {name: list(tokenizer(bill)) for name, bill in dataset.items()}"
   ]
  },
  {
   "cell_type": "markdown",
   "id": "e954258e-0a2f-415d-932e-86b2897c09f1",
   "metadata": {
    "tags": []
   },
   "source": [
    "# Task 4"
   ]
  },
  {
   "cell_type": "code",
   "execution_count": 7,
   "id": "1c58b9f7-d9c5-4135-b3bd-4bf43b90b9f2",
   "metadata": {},
   "outputs": [
    {
     "name": "stdout",
     "output_type": "stream",
     "text": [
      "Most frequent tokens in one of the files:\n"
     ]
    },
    {
     "data": {
      "text/plain": [
       "[('|', 1634),\n",
       " ('-', 858),\n",
       " ('\\n', 561),\n",
       " ('.', 493),\n",
       " ('   ', 485),\n",
       " (',', 306),\n",
       " ('w', 227),\n",
       " ('\"', 183),\n",
       " (')', 179),\n",
       " ('        ', 170)]"
      ]
     },
     "execution_count": 7,
     "metadata": {},
     "output_type": "execute_result"
    }
   ],
   "source": [
    "def compute_freq_list(tokens):\n",
    "    tokens = list(map(str, tokens))\n",
    "    return Counter(tokens)\n",
    "\n",
    "file_freq_lists = {name: compute_freq_list(tokens) for name, tokens in tokenized_dataset.items()}\n",
    "\n",
    "print('Most frequent tokens in one of the files:')\n",
    "list(file_freq_lists.values())[0].most_common()[:10]"
   ]
  },
  {
   "cell_type": "markdown",
   "id": "eed90b9c-783f-43bd-8750-55eba8d4413f",
   "metadata": {},
   "source": [
    "# Task 5"
   ]
  },
  {
   "cell_type": "code",
   "execution_count": 8,
   "id": "391c6b8f-37c0-46cb-a8b0-cfa8e13828da",
   "metadata": {},
   "outputs": [
    {
     "name": "stdout",
     "output_type": "stream",
     "text": [
      "Most common tokens:\n"
     ]
    },
    {
     "data": {
      "text/plain": [
       "[('.', 431293),\n",
       " (',', 341126),\n",
       " ('w', 201200),\n",
       " ('\\n', 181703),\n",
       " (')', 100194),\n",
       " ('i', 90006),\n",
       " ('art', 83804),\n",
       " ('z', 82438),\n",
       " ('1', 72952),\n",
       " ('o', 64776)]"
      ]
     },
     "execution_count": 8,
     "metadata": {},
     "output_type": "execute_result"
    }
   ],
   "source": [
    "global_freq_list = sum(file_freq_lists.values(), Counter())\n",
    "\n",
    "print('Most common tokens:')\n",
    "global_freq_list.most_common()[:10]"
   ]
  },
  {
   "cell_type": "markdown",
   "id": "2027e7ca-a547-42be-9e7d-2f7a674376aa",
   "metadata": {},
   "source": [
    "# Task 6"
   ]
  },
  {
   "cell_type": "code",
   "execution_count": 9,
   "id": "6c30c400-1782-4a0d-b6fe-5024cd7f753a",
   "metadata": {},
   "outputs": [
    {
     "name": "stdout",
     "output_type": "stream",
     "text": [
      "Most common tokens after the rejection of unwanted tokens:\n"
     ]
    },
    {
     "data": {
      "text/plain": [
       "[('art', 83804),\n",
       " ('do', 60732),\n",
       " ('ust', 53636),\n",
       " ('na', 50643),\n",
       " ('się', 45886),\n",
       " ('lub', 45800),\n",
       " ('poz', 45224),\n",
       " ('nr', 44942),\n",
       " ('oraz', 33558),\n",
       " ('mowa', 28783)]"
      ]
     },
     "execution_count": 9,
     "metadata": {},
     "output_type": "execute_result"
    }
   ],
   "source": [
    "fixed_freq_list = global_freq_list.copy()\n",
    "\n",
    "for token in global_freq_list:\n",
    "    if len(token) < 2:\n",
    "        fixed_freq_list.pop(token)\n",
    "    elif re.match(r'.*[^\\p{L}]', token): # if token contains any non-letter character\n",
    "        fixed_freq_list.pop(token)\n",
    "        \n",
    "print('Most common tokens after the rejection of unwanted tokens:')\n",
    "fixed_freq_list.most_common()[:10]"
   ]
  },
  {
   "cell_type": "markdown",
   "id": "035bb095-6778-4237-9147-91718a02c292",
   "metadata": {},
   "source": [
    "# Task 7"
   ]
  },
  {
   "cell_type": "code",
   "execution_count": 10,
   "id": "68f63d77-5a6a-40fe-a6f6-5c3d34028c4a",
   "metadata": {},
   "outputs": [
    {
     "data": {
      "text/plain": [
       "([('art', 83804),\n",
       "  ('do', 60732),\n",
       "  ('ust', 53636),\n",
       "  ('na', 50643),\n",
       "  ('się', 45886)],\n",
       " [('żądany', 1),\n",
       "  ('адвокат', 1),\n",
       "  ('акушерка', 1),\n",
       "  ('медицинска', 1),\n",
       "  ('сестра', 1)])"
      ]
     },
     "execution_count": 10,
     "metadata": {},
     "output_type": "execute_result"
    }
   ],
   "source": [
    "word_counts = sorted(fixed_freq_list.items(), key=lambda x: x[0])   # 1. sort alphabetically\n",
    "word_counts = sorted(word_counts, key=lambda x: x[1], reverse=True) # 2. sort by number of occurrences\n",
    "\n",
    "word_counts[:5], word_counts[-5:]"
   ]
  },
  {
   "cell_type": "code",
   "execution_count": 11,
   "id": "b011bcad-0b30-4414-9149-8952bd8bc82c",
   "metadata": {},
   "outputs": [
    {
     "data": {
      "image/png": "[encoded data removed]",
      "text/plain": [
       "<Figure size 720x432 with 1 Axes>"
      ]
     },
     "metadata": {
      "needs_background": "light"
     },
     "output_type": "display_data"
    }
   ],
   "source": [
    "plt.figure(figsize=(10, 6))\n",
    "\n",
    "ranks = np.arange(1, len(fixed_freq_list) + 1)\n",
    "sorted_counts = [c[1] for c in word_counts]\n",
    "\n",
    "plt.loglog(ranks, sorted_counts)\n",
    "\n",
    "plt.title('Logarithmic plot of rank vs number of occurrences')\n",
    "plt.xlabel('rank (log)')\n",
    "plt.ylabel('count (log)')\n",
    "\n",
    "plt.show()"
   ]
  },
  {
   "cell_type": "markdown",
   "id": "1decde9a-c108-42ad-9e66-acdbbe8376c5",
   "metadata": {},
   "source": [
    "The shape of the curve is close to a line! That means that the function of the rank vs the number of occurences is exponential."
   ]
  },
  {
   "cell_type": "markdown",
   "id": "c90b8943-2e56-4983-9642-4bcd76b915fd",
   "metadata": {},
   "source": [
    "# Task 8"
   ]
  },
  {
   "cell_type": "code",
   "execution_count": 12,
   "id": "1ee4a80f-9a51-43bf-9dcb-2c7cd90a0db2",
   "metadata": {
    "scrolled": true,
    "tags": []
   },
   "outputs": [
    {
     "data": {
      "text/plain": [
       "(2755, 52389)"
      ]
     },
     "execution_count": 12,
     "metadata": {},
     "output_type": "execute_result"
    }
   ],
   "source": [
    "def is_in_morf(word):\n",
    "    return morf.analyse(word)[0][2][2] != 'ign' # ign - not in the dict\n",
    "\n",
    "tokens_not_in_morf = {}\n",
    "morf_freq_list = {}\n",
    "for token, count in fixed_freq_list.items():\n",
    "    if not is_in_morf(token):\n",
    "        tokens_not_in_morf[token] = count\n",
    "    else:\n",
    "        morf_freq_list[token] = count\n",
    "        \n",
    "tokens_not_in_morf = Counter(tokens_not_in_morf)\n",
    "morf_freq_list = Counter(morf_freq_list)\n",
    "        \n",
    "len(tokens_not_in_morf), len(morf_freq_list)"
   ]
  },
  {
   "cell_type": "markdown",
   "id": "62ff27f3-6c4b-45a3-b8c2-3c4312e1ff6d",
   "metadata": {},
   "source": [
    "# Task 9"
   ]
  },
  {
   "cell_type": "code",
   "execution_count": 13,
   "id": "93705498-fae2-4a82-87ad-70088718a8d5",
   "metadata": {},
   "outputs": [
    {
     "data": {
      "text/plain": [
       "[('poz', 45224),\n",
       " ('późn', 1065),\n",
       " ('str', 516),\n",
       " ('gmo', 298),\n",
       " ('sww', 216),\n",
       " ('operacyjno', 209),\n",
       " ('skw', 196),\n",
       " ('rolno', 194),\n",
       " ('zm', 192),\n",
       " ('ex', 167),\n",
       " ('ike', 162),\n",
       " ('społeczno', 137),\n",
       " ('techniczno', 125),\n",
       " ('remediacji', 120),\n",
       " ('ure', 103),\n",
       " ('rozdz', 102),\n",
       " ('uke', 97),\n",
       " ('itp', 96),\n",
       " ('kn', 95),\n",
       " ('sanitarno', 88),\n",
       " ('charytatywno', 87),\n",
       " ('np', 85),\n",
       " ('cn', 83),\n",
       " ('pkwiu', 81),\n",
       " ('udt', 77),\n",
       " ('bswsg', 70),\n",
       " ('bswp', 66),\n",
       " ('biobójczych', 63),\n",
       " ('organizacyjno', 58),\n",
       " ('phs', 53)]"
      ]
     },
     "execution_count": 13,
     "metadata": {},
     "output_type": "execute_result"
    }
   ],
   "source": [
    "list(tokens_not_in_morf.most_common())[:30]"
   ]
  },
  {
   "cell_type": "markdown",
   "id": "a89db4af-87dc-4558-86f9-97a8ae418b60",
   "metadata": {},
   "source": [
    "# Task 10"
   ]
  },
  {
   "cell_type": "code",
   "execution_count": 14,
   "id": "f374dd9d-3dd7-4227-80dd-c9831f396e73",
   "metadata": {},
   "outputs": [
    {
     "data": {
      "text/plain": [
       "['winopochodne',\n",
       " 'eudravigilance',\n",
       " 'shigella',\n",
       " 'schetyna',\n",
       " 'jed',\n",
       " 'agave',\n",
       " 'betezda',\n",
       " 'odgazowywacze',\n",
       " 'denitracyjne',\n",
       " 'urt',\n",
       " 'sposb',\n",
       " 'cznika',\n",
       " 'metylofenetyloamina',\n",
       " 'tzn',\n",
       " 'chelatującym',\n",
       " 'informacyjno',\n",
       " 'kj',\n",
       " 'rialnego',\n",
       " 'swine',\n",
       " 'rr',\n",
       " 'próbobiorców',\n",
       " 'szcze',\n",
       " 'ośc',\n",
       " 'heptanol',\n",
       " 'instrumen',\n",
       " 'gj',\n",
       " 'inspekcyjno',\n",
       " 'geodezyjno',\n",
       " 'siarczano',\n",
       " 'mieszkalno']"
      ]
     },
     "execution_count": 14,
     "metadata": {},
     "output_type": "execute_result"
    }
   ],
   "source": [
    "tokens_not_in_morf_5_count = [token for token, count in tokens_not_in_morf.items() if count == 5]\n",
    "\n",
    "random.seed(11301541) # some \"random\" seed to get the same results every time\n",
    "random_not_in_morf_5 = random.sample(tokens_not_in_morf_5_count, 30)\n",
    "random_not_in_morf_5"
   ]
  },
  {
   "cell_type": "markdown",
   "id": "198cbd19-94a4-4374-b595-543d5c1bd5e8",
   "metadata": {},
   "source": [
    "# Task 11\n",
    "- idea: find the highest token among the ones with the smallest possible Levenshtein distance.\n",
    "- algorithm: calculate the distances from the top of the frequency list and return the first occurence of the smallest possible Levenshtein distance."
   ]
  },
  {
   "cell_type": "code",
   "execution_count": 15,
   "id": "aa72e170-065a-4533-89a6-0e80dde50538",
   "metadata": {
    "tags": []
   },
   "outputs": [
    {
     "data": {
      "text/html": [
       "<h3>My algorithm</h3>"
      ],
      "text/plain": [
       "<IPython.core.display.HTML object>"
      ]
     },
     "metadata": {},
     "output_type": "display_data"
    },
    {
     "name": "stdout",
     "output_type": "stream",
     "text": [
      "  1.         \u001b[1mwinopochodne\u001b[0;0m >>> Most likely correction: \u001b[1mkrwiopochodne\u001b[0;0m        (Levenshtein distance: 3)\n",
      "  2.       \u001b[1meudravigilance\u001b[0;0m >>> Most likely correction: \u001b[1mudzielanie\u001b[0;0m           (Levenshtein distance: 7)\n",
      "  3.             \u001b[1mshigella\u001b[0;0m >>> Most likely correction: \u001b[1mskreśla\u001b[0;0m              (Levenshtein distance: 4)\n",
      "  4.             \u001b[1mschetyna\u001b[0;0m >>> Most likely correction: \u001b[1mschedy\u001b[0;0m               (Levenshtein distance: 3)\n",
      "  5.                  \u001b[1mjed\u001b[0;0m >>> Most likely correction: \u001b[1mjej\u001b[0;0m                  (Levenshtein distance: 1)\n",
      "  6.                \u001b[1magave\u001b[0;0m >>> Most likely correction: \u001b[1magape\u001b[0;0m                (Levenshtein distance: 1)\n",
      "  7.              \u001b[1mbetezda\u001b[0;0m >>> Most likely correction: \u001b[1mbetel\u001b[0;0m                (Levenshtein distance: 3)\n",
      "  8.        \u001b[1modgazowywacze\u001b[0;0m >>> Most likely correction: \u001b[1modgruzowywanie\u001b[0;0m       (Levenshtein distance: 4)\n",
      "  9.         \u001b[1mdenitracyjne\u001b[0;0m >>> Most likely correction: \u001b[1mdekoracyjne\u001b[0;0m          (Levenshtein distance: 3)\n",
      " 10.                  \u001b[1murt\u001b[0;0m >>> Most likely correction: \u001b[1mart\u001b[0;0m                  (Levenshtein distance: 1)\n",
      " 11.                \u001b[1msposb\u001b[0;0m >>> Most likely correction: \u001b[1msposób\u001b[0;0m               (Levenshtein distance: 1)\n",
      " 12.               \u001b[1mcznika\u001b[0;0m >>> Most likely correction: \u001b[1mocznika\u001b[0;0m              (Levenshtein distance: 1)\n",
      " 13.  \u001b[1mmetylofenetyloamina\u001b[0;0m >>> Most likely correction: \u001b[1mmetyloamino\u001b[0;0m          (Levenshtein distance: 9)\n",
      " 14.                  \u001b[1mtzn\u001b[0;0m >>> Most likely correction: \u001b[1mten\u001b[0;0m                  (Levenshtein distance: 1)\n",
      " 15.         \u001b[1mchelatującym\u001b[0;0m >>> Most likely correction: \u001b[1mchorującym\u001b[0;0m           (Levenshtein distance: 4)\n",
      " 16.         \u001b[1minformacyjno\u001b[0;0m >>> Most likely correction: \u001b[1minformacyjne\u001b[0;0m         (Levenshtein distance: 1)\n",
      " 17.                   \u001b[1mkj\u001b[0;0m >>> Most likely correction: \u001b[1mkg\u001b[0;0m                   (Levenshtein distance: 1)\n",
      " 18.             \u001b[1mrialnego\u001b[0;0m >>> Most likely correction: \u001b[1mrealnego\u001b[0;0m             (Levenshtein distance: 1)\n",
      " 19.                \u001b[1mswine\u001b[0;0m >>> Most likely correction: \u001b[1mswoje\u001b[0;0m                (Levenshtein distance: 2)\n",
      " 20.                   \u001b[1mrr\u001b[0;0m >>> Most likely correction: \u001b[1mnr\u001b[0;0m                   (Levenshtein distance: 1)\n",
      " 21.         \u001b[1mpróbobiorców\u001b[0;0m >>> Most likely correction: \u001b[1mpracobiorcą\u001b[0;0m          (Levenshtein distance: 4)\n",
      " 22.                \u001b[1mszcze\u001b[0;0m >>> Most likely correction: \u001b[1mszcza\u001b[0;0m                (Levenshtein distance: 1)\n",
      " 23.                  \u001b[1mośc\u001b[0;0m >>> Most likely correction: \u001b[1moś\u001b[0;0m                   (Levenshtein distance: 1)\n",
      " 24.             \u001b[1mheptanol\u001b[0;0m >>> Most likely correction: \u001b[1mmetanol\u001b[0;0m              (Levenshtein distance: 2)\n",
      " 25.            \u001b[1minstrumen\u001b[0;0m >>> Most likely correction: \u001b[1minstrument\u001b[0;0m           (Levenshtein distance: 1)\n",
      " 26.                   \u001b[1mgj\u001b[0;0m >>> Most likely correction: \u001b[1mgo\u001b[0;0m                   (Levenshtein distance: 1)\n",
      " 27.          \u001b[1minspekcyjno\u001b[0;0m >>> Most likely correction: \u001b[1minspekcyjny\u001b[0;0m          (Levenshtein distance: 1)\n",
      " 28.           \u001b[1mgeodezyjno\u001b[0;0m >>> Most likely correction: \u001b[1mgeodezyjne\u001b[0;0m           (Levenshtein distance: 1)\n",
      " 29.            \u001b[1msiarczano\u001b[0;0m >>> Most likely correction: \u001b[1msiarczan\u001b[0;0m             (Levenshtein distance: 1)\n",
      " 30.           \u001b[1mmieszkalno\u001b[0;0m >>> Most likely correction: \u001b[1mmieszkalne\u001b[0;0m           (Levenshtein distance: 1)\n",
      "1.03 seconds elapsed\n"
     ]
    }
   ],
   "source": [
    "def find_correction(word):\n",
    "    min_dist = float('inf')\n",
    "    min_dist_token = ''\n",
    "    for i, (token, count) in enumerate(morf_freq_list.most_common()):\n",
    "        if token in morf_freq_list: # only consider words available in the dict\n",
    "            dist = levenshtein_dist(word, token)\n",
    "            if dist < min_dist: # with < we take the most frequent one\n",
    "                min_dist = dist\n",
    "                min_dist_token = token\n",
    "            if min_dist == 1:\n",
    "                break\n",
    "    return min_dist_token, min_dist\n",
    "\n",
    "def bold(word):\n",
    "    return '\\033[1m' + word + '\\033[0;0m'\n",
    "\n",
    "display(HTML(f'<h3>My algorithm</h3>'))\n",
    "start = time.time()\n",
    "for i, word in enumerate(random_not_in_morf_5):\n",
    "    corr, dist = find_correction(word)\n",
    "    print(f'{i + 1:>3}. {bold(word):>30} >>> Most likely correction: {bold(corr):30} (Levenshtein distance: {dist})')\n",
    "end = time.time()\n",
    "print(f'{end - start:.2f} seconds elapsed')"
   ]
  },
  {
   "cell_type": "markdown",
   "id": "380879c3-2795-4c53-b943-9d24372440b1",
   "metadata": {},
   "source": [
    "# Task 12"
   ]
  },
  {
   "cell_type": "markdown",
   "id": "c1f39299-a481-4d47-ad8b-3cc13248fd63",
   "metadata": {},
   "source": [
    "### Define Index"
   ]
  },
  {
   "cell_type": "code",
   "execution_count": 16,
   "id": "ba09cda6-b1b4-447a-9bea-af56305592e0",
   "metadata": {},
   "outputs": [],
   "source": [
    "INDEX_DEFINED = True"
   ]
  },
  {
   "cell_type": "code",
   "execution_count": 17,
   "id": "6bff6dbb-0fec-401c-8136-74ce9f01c7d0",
   "metadata": {},
   "outputs": [],
   "source": [
    "index_name = 'lab3_index'\n",
    "\n",
    "if not INDEX_DEFINED:\n",
    "    if es.indices.exists(index=index_name):\n",
    "        es.indices.delete(index=index_name)\n",
    "\n",
    "    es.indices.create(index=index_name)"
   ]
  },
  {
   "cell_type": "code",
   "execution_count": 18,
   "id": "ae4fdb52-3a4d-41dc-929c-332fffb2f7c7",
   "metadata": {},
   "outputs": [],
   "source": [
    "sgjp_path = './sgjp-20221023.tab' # source: http://morfeusz.sgjp.pl/download/ (Słownik (SGJP) (dane tekstowe))\n",
    "header_length = 28\n",
    "\n",
    "if not INDEX_DEFINED:\n",
    "    def word_insert_generator():\n",
    "        with open(sgjp_path, encoding='utf-8') as file:\n",
    "            for _ in zip(range(header_length), file): pass # skip the header\n",
    "            for i, line in enumerate(file):\n",
    "                word = line.split()[0].lower() # load lowercase\n",
    "                yield {\n",
    "                    '_index': index_name,\n",
    "                    'word': word\n",
    "                }\n",
    "\n",
    "    start = time.time()\n",
    "    es_helpers.bulk(es, word_insert_generator(), request_timeout=3600)\n",
    "    end = time.time()\n",
    "    print(f'{end - start:.2f} seconds elapsed') # measured around 8 minutes"
   ]
  },
  {
   "cell_type": "markdown",
   "id": "5b2f14b3-db8b-45f9-a4eb-6ce37afda9c6",
   "metadata": {},
   "source": [
    "### Task"
   ]
  },
  {
   "cell_type": "code",
   "execution_count": 19,
   "id": "5980374d-fbe8-48df-ac11-59f50fe2adc2",
   "metadata": {},
   "outputs": [],
   "source": [
    "def find_es_corrections(word):\n",
    "    response = es.search(\n",
    "        index=index_name, \n",
    "        query={\n",
    "            \"fuzzy\": {\n",
    "                \"word\": {\n",
    "                    \"value\": word,\n",
    "                    \"fuzziness\": '2'\n",
    "                }\n",
    "            }\n",
    "        }\n",
    "    )\n",
    "    return [hit['_source']['word'] for hit in response['hits']['hits']], [hit['_score'] for hit in response['hits']['hits']]"
   ]
  },
  {
   "cell_type": "code",
   "execution_count": 20,
   "id": "38cc5f20-31b9-4e39-99ef-c8563d84e71d",
   "metadata": {},
   "outputs": [
    {
     "data": {
      "text/html": [
       "<h3>Elasticsearch</h3>"
      ],
      "text/plain": [
       "<IPython.core.display.HTML object>"
      ]
     },
     "metadata": {},
     "output_type": "display_data"
    },
    {
     "name": "stdout",
     "output_type": "stream",
     "text": [
      "  1.         \u001b[1mwinopochodne\u001b[0;0m >>> Could not find any correction\n",
      "  2.       \u001b[1meudravigilance\u001b[0;0m >>> Could not find any correction\n",
      "  3.             \u001b[1mshigella\u001b[0;0m >>> Could not find any correction\n",
      "  4.             \u001b[1mschetyna\u001b[0;0m >>> Most likely correction: \u001b[1mchatyna\u001b[0;0m              (Score: 11.015485)\n",
      "  5.                  \u001b[1mjed\u001b[0;0m >>> Most likely correction: \u001b[1mbed\u001b[0;0m                  (Score: 9.414449)\n",
      "  6.                \u001b[1magave\u001b[0;0m >>> Most likely correction: \u001b[1magape\u001b[0;0m                (Score: 11.049079)\n",
      "  7.              \u001b[1mbetezda\u001b[0;0m >>> Most likely correction: \u001b[1mberenda\u001b[0;0m              (Score: 10.650407)\n",
      "  8.        \u001b[1modgazowywacze\u001b[0;0m >>> Most likely correction: \u001b[1modgazowywanie\u001b[0;0m        (Score: 12.616635)\n",
      "  9.         \u001b[1mdenitracyjne\u001b[0;0m >>> Most likely correction: \u001b[1mdefibracyjne\u001b[0;0m         (Score: 11.93538)\n",
      " 10.                  \u001b[1murt\u001b[0;0m >>> Most likely correction: \u001b[1mart\u001b[0;0m                  (Score: 8.570204)\n",
      " 11.                \u001b[1msposb\u001b[0;0m >>> Most likely correction: \u001b[1msposób\u001b[0;0m               (Score: 10.069515)\n",
      " 12.               \u001b[1mcznika\u001b[0;0m >>> Most likely correction: \u001b[1mczoika\u001b[0;0m               (Score: 11.93538)\n",
      " 13.  \u001b[1mmetylofenetyloamina\u001b[0;0m >>> Could not find any correction\n",
      " 14.                  \u001b[1mtzn\u001b[0;0m >>> Most likely correction: \u001b[1mtzn\u001b[0;0m                  (Score: 12.441102)\n",
      " 15.         \u001b[1mchelatującym\u001b[0;0m >>> Most likely correction: \u001b[1mnielatującym\u001b[0;0m         (Score: 11.93538)\n",
      " 16.         \u001b[1minformacyjno\u001b[0;0m >>> Most likely correction: \u001b[1minformacyjno\u001b[0;0m         (Score: 14.322456)\n",
      " 17.                   \u001b[1mkj\u001b[0;0m >>> Most likely correction: \u001b[1mko-ko-ko\u001b[0;0m             (Score: 6.297401)\n",
      " 18.             \u001b[1mrialnego\u001b[0;0m >>> Most likely correction: \u001b[1mrealnego\u001b[0;0m             (Score: 12.53215)\n",
      " 19.                \u001b[1mswine\u001b[0;0m >>> Most likely correction: \u001b[1mswing\u001b[0;0m                (Score: 10.468007)\n",
      " 20.                   \u001b[1mrr\u001b[0;0m >>> Most likely correction: \u001b[1mro-ro\u001b[0;0m                (Score: 6.143714)\n",
      " 21.         \u001b[1mpróbobiorców\u001b[0;0m >>> Most likely correction: \u001b[1mpracobiorców\u001b[0;0m         (Score: 12.8513975)\n",
      " 22.                \u001b[1mszcze\u001b[0;0m >>> Most likely correction: \u001b[1msycze\u001b[0;0m                (Score: 11.163623)\n",
      " 23.                  \u001b[1mośc\u001b[0;0m >>> Most likely correction: \u001b[1mowc\u001b[0;0m                  (Score: 8.767823)\n",
      " 24.             \u001b[1mheptanol\u001b[0;0m >>> Most likely correction: \u001b[1mheptanom\u001b[0;0m             (Score: 13.046748)\n",
      " 25.            \u001b[1minstrumen\u001b[0;0m >>> Most likely correction: \u001b[1minstrument\u001b[0;0m           (Score: 13.708157)\n",
      " 26.                   \u001b[1mgj\u001b[0;0m >>> Most likely correction: \u001b[1mbj\u001b[0;0m                   (Score: 5.724592)\n",
      " 27.          \u001b[1minspekcyjno\u001b[0;0m >>> Most likely correction: \u001b[1minspekcyjno\u001b[0;0m          (Score: 14.322456)\n",
      " 28.           \u001b[1mgeodezyjno\u001b[0;0m >>> Most likely correction: \u001b[1mgeodezyjno\u001b[0;0m           (Score: 14.322456)\n",
      " 29.            \u001b[1msiarczano\u001b[0;0m >>> Most likely correction: \u001b[1msiarczano\u001b[0;0m            (Score: 14.322456)\n",
      " 30.           \u001b[1mmieszkalno\u001b[0;0m >>> Most likely correction: \u001b[1mmieszkalno\u001b[0;0m           (Score: 14.322456)\n",
      "0.70 seconds elapsed\n"
     ]
    }
   ],
   "source": [
    "display(HTML(f'<h3>Elasticsearch</h3>'))\n",
    "start = time.time()\n",
    "for i, word in enumerate(random_not_in_morf_5):\n",
    "    corrs, scores = find_es_corrections(word)\n",
    "    if not corrs:\n",
    "        print(f'{i + 1:>3}. {bold(word):>30} >>> Could not find any correction')\n",
    "    else:\n",
    "        print(f'{i + 1:>3}. {bold(word):>30} >>> Most likely correction: {bold(corrs[0]):30} (Score: {scores[0]})')\n",
    "end = time.time()\n",
    "print(f'{end - start:.2f} seconds elapsed')"
   ]
  },
  {
   "cell_type": "markdown",
   "id": "abdd83a7-754d-4ad4-8b40-da481cf6313d",
   "metadata": {},
   "source": [
    "# Task 13"
   ]
  },
  {
   "cell_type": "code",
   "execution_count": 28,
   "id": "a5fb08ac-b76d-4215-bc34-3207674a8487",
   "metadata": {},
   "outputs": [
    {
     "name": "stdout",
     "output_type": "stream",
     "text": [
      "  1.         \u001b[1mwinopochodne\u001b[0;0m >>> My algorithm: \u001b[1mkrwiopochodne\u001b[0;0m        (lev. dist: 3), Elasticsearch: \u001b[1mcorrection not found\u001b[0;0m (lev. dist: -)\n",
      "  2.       \u001b[1meudravigilance\u001b[0;0m >>> My algorithm: \u001b[1mudzielanie\u001b[0;0m           (lev. dist: 7), Elasticsearch: \u001b[1mcorrection not found\u001b[0;0m (lev. dist: -)\n",
      "  3.             \u001b[1mshigella\u001b[0;0m >>> My algorithm: \u001b[1mskreśla\u001b[0;0m              (lev. dist: 4), Elasticsearch: \u001b[1mcorrection not found\u001b[0;0m (lev. dist: -)\n",
      "  4.             \u001b[1mschetyna\u001b[0;0m >>> My algorithm: \u001b[1mschedy\u001b[0;0m               (lev. dist: 3), Elasticsearch: \u001b[1mchatyna\u001b[0;0m              (lev. dist: 2)\n",
      "  5.                  \u001b[1mjed\u001b[0;0m >>> My algorithm: \u001b[1mjej\u001b[0;0m                  (lev. dist: 1), Elasticsearch: \u001b[1mbed\u001b[0;0m                  (lev. dist: 1)\n",
      "  6.                \u001b[1magave\u001b[0;0m >>> My algorithm: \u001b[1magape\u001b[0;0m                (lev. dist: 1), Elasticsearch: \u001b[1magape\u001b[0;0m                (lev. dist: 1)\n",
      "  7.              \u001b[1mbetezda\u001b[0;0m >>> My algorithm: \u001b[1mbetel\u001b[0;0m                (lev. dist: 3), Elasticsearch: \u001b[1mberenda\u001b[0;0m              (lev. dist: 2)\n",
      "  8.        \u001b[1modgazowywacze\u001b[0;0m >>> My algorithm: \u001b[1modgruzowywanie\u001b[0;0m       (lev. dist: 4), Elasticsearch: \u001b[1modgazowywanie\u001b[0;0m        (lev. dist: 2)\n",
      "  9.         \u001b[1mdenitracyjne\u001b[0;0m >>> My algorithm: \u001b[1mdekoracyjne\u001b[0;0m          (lev. dist: 3), Elasticsearch: \u001b[1mdefibracyjne\u001b[0;0m         (lev. dist: 2)\n",
      " 10.                  \u001b[1murt\u001b[0;0m >>> My algorithm: \u001b[1mart\u001b[0;0m                  (lev. dist: 1), Elasticsearch: \u001b[1mart\u001b[0;0m                  (lev. dist: 1)\n",
      " 11.                \u001b[1msposb\u001b[0;0m >>> My algorithm: \u001b[1msposób\u001b[0;0m               (lev. dist: 1), Elasticsearch: \u001b[1msposób\u001b[0;0m               (lev. dist: 1)\n",
      " 12.               \u001b[1mcznika\u001b[0;0m >>> My algorithm: \u001b[1mocznika\u001b[0;0m              (lev. dist: 1), Elasticsearch: \u001b[1mczoika\u001b[0;0m               (lev. dist: 1)\n",
      " 13.  \u001b[1mmetylofenetyloamina\u001b[0;0m >>> My algorithm: \u001b[1mmetyloamino\u001b[0;0m          (lev. dist: 9), Elasticsearch: \u001b[1mcorrection not found\u001b[0;0m (lev. dist: -)\n",
      " 14.                  \u001b[1mtzn\u001b[0;0m >>> My algorithm: \u001b[1mten\u001b[0;0m                  (lev. dist: 1), Elasticsearch: \u001b[1mtzn\u001b[0;0m                  (lev. dist: 0)\n",
      " 15.         \u001b[1mchelatującym\u001b[0;0m >>> My algorithm: \u001b[1mchorującym\u001b[0;0m           (lev. dist: 4), Elasticsearch: \u001b[1mnielatującym\u001b[0;0m         (lev. dist: 2)\n",
      " 16.         \u001b[1minformacyjno\u001b[0;0m >>> My algorithm: \u001b[1minformacyjne\u001b[0;0m         (lev. dist: 1), Elasticsearch: \u001b[1minformacyjno\u001b[0;0m         (lev. dist: 0)\n",
      " 17.                   \u001b[1mkj\u001b[0;0m >>> My algorithm: \u001b[1mkg\u001b[0;0m                   (lev. dist: 1), Elasticsearch: \u001b[1mko-ko-ko\u001b[0;0m             (lev. dist: 7)\n",
      " 18.             \u001b[1mrialnego\u001b[0;0m >>> My algorithm: \u001b[1mrealnego\u001b[0;0m             (lev. dist: 1), Elasticsearch: \u001b[1mrealnego\u001b[0;0m             (lev. dist: 1)\n",
      " 19.                \u001b[1mswine\u001b[0;0m >>> My algorithm: \u001b[1mswoje\u001b[0;0m                (lev. dist: 2), Elasticsearch: \u001b[1mswing\u001b[0;0m                (lev. dist: 1)\n",
      " 20.                   \u001b[1mrr\u001b[0;0m >>> My algorithm: \u001b[1mnr\u001b[0;0m                   (lev. dist: 1), Elasticsearch: \u001b[1mro-ro\u001b[0;0m                (lev. dist: 3)\n",
      " 21.         \u001b[1mpróbobiorców\u001b[0;0m >>> My algorithm: \u001b[1mpracobiorcą\u001b[0;0m          (lev. dist: 4), Elasticsearch: \u001b[1mpracobiorców\u001b[0;0m         (lev. dist: 2)\n",
      " 22.                \u001b[1mszcze\u001b[0;0m >>> My algorithm: \u001b[1mszcza\u001b[0;0m                (lev. dist: 1), Elasticsearch: \u001b[1msycze\u001b[0;0m                (lev. dist: 1)\n",
      " 23.                  \u001b[1mośc\u001b[0;0m >>> My algorithm: \u001b[1moś\u001b[0;0m                   (lev. dist: 1), Elasticsearch: \u001b[1mowc\u001b[0;0m                  (lev. dist: 1)\n",
      " 24.             \u001b[1mheptanol\u001b[0;0m >>> My algorithm: \u001b[1mmetanol\u001b[0;0m              (lev. dist: 2), Elasticsearch: \u001b[1mheptanom\u001b[0;0m             (lev. dist: 1)\n",
      " 25.            \u001b[1minstrumen\u001b[0;0m >>> My algorithm: \u001b[1minstrument\u001b[0;0m           (lev. dist: 1), Elasticsearch: \u001b[1minstrument\u001b[0;0m           (lev. dist: 1)\n",
      " 26.                   \u001b[1mgj\u001b[0;0m >>> My algorithm: \u001b[1mgo\u001b[0;0m                   (lev. dist: 1), Elasticsearch: \u001b[1mbj\u001b[0;0m                   (lev. dist: 1)\n",
      " 27.          \u001b[1minspekcyjno\u001b[0;0m >>> My algorithm: \u001b[1minspekcyjny\u001b[0;0m          (lev. dist: 1), Elasticsearch: \u001b[1minspekcyjno\u001b[0;0m          (lev. dist: 0)\n",
      " 28.           \u001b[1mgeodezyjno\u001b[0;0m >>> My algorithm: \u001b[1mgeodezyjne\u001b[0;0m           (lev. dist: 1), Elasticsearch: \u001b[1mgeodezyjno\u001b[0;0m           (lev. dist: 0)\n",
      " 29.            \u001b[1msiarczano\u001b[0;0m >>> My algorithm: \u001b[1msiarczan\u001b[0;0m             (lev. dist: 1), Elasticsearch: \u001b[1msiarczano\u001b[0;0m            (lev. dist: 0)\n",
      " 30.           \u001b[1mmieszkalno\u001b[0;0m >>> My algorithm: \u001b[1mmieszkalne\u001b[0;0m           (lev. dist: 1), Elasticsearch: \u001b[1mmieszkalno\u001b[0;0m           (lev. dist: 0)\n"
     ]
    }
   ],
   "source": [
    "for i, word in enumerate(random_not_in_morf_5):\n",
    "    my_corr, my_dist = find_correction(word)\n",
    "    \n",
    "    es_corrs, _ = find_es_corrections(word)\n",
    "    es_corr = es_corrs[0] if es_corrs else 'correction not found'\n",
    "    es_dist = '-' if es_corr == 'correction not found' else levenshtein_dist(word, es_corr)\n",
    "    \n",
    "    \n",
    "    print(f'{i + 1:>3}. {bold(word):>30} >>> My algorithm: {bold(my_corr):30} (lev. dist: {my_dist}), Elasticsearch: {bold(es_corr):30} (lev. dist: {es_dist})')"
   ]
  },
  {
   "cell_type": "markdown",
   "id": "2c6cd4e0-56f8-4cdb-9748-08c23c4fd049",
   "metadata": {},
   "source": [
    "# Task 14 – conclusions\n",
    "\n",
    "#### The distribution of words in the corpus\n",
    "- The shape of the curve from task 7 is close to a line (on a log-log plot). That means that the relation between the rank of a word and the number of its occurences id exponential. \n",
    "- Only around ten first words are used more than 10000 times. then, first hundred words are used more than 1000 times, etc.\n",
    "- There are only few words that ar eused really frequently ('art', 'do', 'się'...).\n",
    "\n",
    "#### The number of true misspellings vs. the number of unknown words\n",
    "- The most frequent words not present in Morfeusz are abbreviations ('poz', 'gmo', 'późn') or other unknown words ('charytatywno', 'operacyjno', 'remediacji'). There are no misspellings in the top 30 tokens not present in the dictionary.\n",
    "- On the other hand, the misspellings can be found in the rare tokens (Task 10). Still, they are the minority, and the most of these tokens are just words in unusual forms ('geodezyjno', etc.)\n",
    "\n",
    "#### The performance of your method compared to ElasticSearch\n",
    "- The main disadvantage of the Elasticsearch approach was the time needed to add the words to an index (around 8 minutes). Apart from that, it is much faster. My method needed arond a second to do the task, while the Elasticsearch method needed ~0.7 second, even though Elasticsearch handled much more words (circa 7,000,000 compared to c. 50,000 handled by my method).\n",
    "- The difference is mainly caused by the inefficiency of my algorithm. Instead of iterating through the whole dictionary, I could try to generate words different by 1 or 2 in terms of the Levenshtein distance and test if they are in the dictionary.\n",
    "\n",
    "#### The results provided by your method compared to ElasticSearch and the validity of the obtained corrections\n",
    "- I could not force Elasticsearch to use the 'fuzziness' parameter bigger than 2 (or 'AUTO'), so it doesn't show results for where a bigger fuzziness is required. On the other hand, if the Levenshtein distance is bigger than 2, the correction might not be relevant.\n",
    "- The main advantage of my model is that it includes the frequency list in the result.\n",
    "- The results are mostly different, primarily due to the fact that the Elasticsearch used far more words (sometimes it recognised the words not recognised based on the bill dataset used in my approach.\n",
    "- Apart from the comments above, the results returned by both methods most often make sense. Due to the bigger dataset, the corrections proposed by Elasticsearch usually have smaller values of the Levenshtein distance."
   ]
  },
  {
   "cell_type": "code",
   "execution_count": null,
   "id": "7df84ab4-ae79-4c5f-9274-1e8fd8dcf892",
   "metadata": {},
   "outputs": [],
   "source": []
  }
 ],
 "metadata": {
  "kernelspec": {
   "display_name": "Python 3 (ipykernel)",
   "language": "python",
   "name": "python3"
  },
  "language_info": {
   "codemirror_mode": {
    "name": "ipython",
    "version": 3
   },
   "file_extension": ".py",
   "mimetype": "text/x-python",
   "name": "python",
   "nbconvert_exporter": "python",
   "pygments_lexer": "ipython3",
   "version": "3.10.4"
  }
 },
 "nbformat": 4,
 "nbformat_minor": 5
}
