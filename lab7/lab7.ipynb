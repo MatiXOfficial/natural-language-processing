{
 "cells": [
  {
   "cell_type": "markdown",
   "id": "2899710d-5d6b-47de-a60e-4e7eb0317495",
   "metadata": {},
   "source": [
    "# Przetwarzanie języka naturalnego – lab7\n",
    "## Mateusz Kocot"
   ]
  },
  {
   "cell_type": "code",
   "execution_count": 1,
   "id": "633d1f54-7641-4553-8ace-f0f6310f6c2e",
   "metadata": {},
   "outputs": [],
   "source": [
    "import os\n",
    "from collections import defaultdict, Counter\n",
    "import requests\n",
    "import time\n",
    "import pickle\n",
    "import regex as re\n",
    "import asyncio\n",
    "from zipfile import ZipFile\n",
    "from xml.etree import ElementTree as ETree\n",
    "from dataclasses import dataclass\n",
    "from pprint import pprint\n",
    "\n",
    "import pandas as pd\n",
    "import matplotlib.pyplot as plt\n",
    "\n",
    "import lpmn_client as lpmn\n",
    "\n",
    "from IPython.display import display, HTML"
   ]
  },
  {
   "cell_type": "code",
   "execution_count": 2,
   "id": "70311fdc-b56a-4e90-819b-ab856942ac98",
   "metadata": {},
   "outputs": [],
   "source": [
    "DATA_DIR = '../ustawy'\n",
    "N_BILLS = 50"
   ]
  },
  {
   "cell_type": "markdown",
   "id": "3359986c-3268-41be-9fad-6e40739506d2",
   "metadata": {},
   "source": [
    "# Task 4"
   ]
  },
  {
   "cell_type": "code",
   "execution_count": 3,
   "id": "c61ee790-5e42-4f89-a50b-628190a1cfdb",
   "metadata": {},
   "outputs": [],
   "source": [
    "dataset = []\n",
    "\n",
    "for file_name in os.listdir(DATA_DIR):\n",
    "    with open(f'{DATA_DIR}/{file_name}', 'r', encoding='UTF-8') as file:\n",
    "        bill = file.read()\n",
    "    dataset.append((file_name, bill))\n",
    "    \n",
    "dataset = sorted(dataset, key=lambda x: len(x[1]), reverse=True)[:N_BILLS]\n",
    "file_names, dataset = zip(*dataset)"
   ]
  },
  {
   "cell_type": "markdown",
   "id": "0101e7b8-0154-4636-bd5e-877a87b035fb",
   "metadata": {},
   "source": [
    "# Task 5 and 6"
   ]
  },
  {
   "cell_type": "markdown",
   "id": "161df656-06e7-4741-931d-269876ee0054",
   "metadata": {},
   "source": [
    "## Code + example"
   ]
  },
  {
   "cell_type": "code",
   "execution_count": 4,
   "id": "2a624121-5a22-44b5-b91f-c9a0734cb665",
   "metadata": {},
   "outputs": [],
   "source": [
    "example = 'Wczoraj w Krakowie miało miejsce spotkanie prezydentów Polski i Stanów Zjednoczonych Am3ryki. Ali kot wabi się Ala.'"
   ]
  },
  {
   "cell_type": "code",
   "execution_count": 5,
   "id": "2a1b2401-760b-4f38-9f39-f05f85b7b4af",
   "metadata": {},
   "outputs": [
    {
     "name": "stdout",
     "output_type": "stream",
     "text": [
      "[('i', 'conj'), ('Stany', 'subst'), ('Zjednoczony', 'adj'), ('Am3ryki', 'subst'), ('.', 'interp'), ('Ali', 'subst')]\n"
     ]
    }
   ],
   "source": [
    "def lemmatize(text: str) -> list[tuple[str, str]]:\n",
    "    lemmatized_text = sum(requests.post('http://localhost:9003/?output_format=jsonl', data=text.encode('utf-8')).json(), [])\n",
    "    lemmatized_tokens = list(map(lambda x: (x[1], x[2].split(':', 1)[0]), lemmatized_text))\n",
    "    return lemmatized_tokens\n",
    "\n",
    "lemmatized_example = lemmatize(example)\n",
    "print(lemmatized_example[8:14])"
   ]
  },
  {
   "cell_type": "code",
   "execution_count": 6,
   "id": "108c6e53-e138-4be8-9888-9a501bd40d8e",
   "metadata": {},
   "outputs": [
    {
     "name": "stdout",
     "output_type": "stream",
     "text": [
      "[['w', 'Kraków', 'mieć', 'miejsce', 'spotkanie', 'prezydent', 'Polska', 'i', 'Stany', 'Zjednoczony', 'Am3ryki'], ['kot', 'wabić', 'się', 'Ala']]\n"
     ]
    }
   ],
   "source": [
    "def split_sentences(text: list[tuple[str, str]], skip_first_word=True) -> list[list[str]]:\n",
    "    result = []\n",
    "    left = 0 if not skip_first_word else 1\n",
    "    right = 0\n",
    "    while right < len(text):\n",
    "        if text[right] == ('.', 'interp'):\n",
    "            if right > left:\n",
    "                result.append([a[0] for a in text[left:right]])\n",
    "            left = right + 1 if not skip_first_word else right + 2\n",
    "        right += 1\n",
    "    return result\n",
    "\n",
    "split_example = split_sentences(lemmatized_example)\n",
    "print(split_example)"
   ]
  },
  {
   "cell_type": "code",
   "execution_count": 7,
   "id": "6c20eccc-b50d-4aa0-9cfb-d34a11dffd99",
   "metadata": {},
   "outputs": [
    {
     "name": "stdout",
     "output_type": "stream",
     "text": [
      "Counter({('Kraków',): 1, ('Polska',): 1, ('Stany', 'Zjednoczony'): 1, ('Ala',): 1})\n"
     ]
    }
   ],
   "source": [
    "# - Include words with only the first character uppercased to avoid Roman numbers, etc. \n",
    "# - Skip short (one- and two-letter) words\n",
    "def is_capitalized(word: str) -> bool:\n",
    "    return len(word) > 2 and word[0].isupper() and all(map(str.islower, word[1:]))\n",
    "\n",
    "def is_word(word: str) -> bool:\n",
    "    return not re.match(r'.*[^\\p{L}]', word)\n",
    "\n",
    "def identify_expressions(text: list[list[str]]) -> list[list[str]]:\n",
    "    expressions = defaultdict(int)\n",
    "    for sentence in text:\n",
    "        left = 0\n",
    "        right = 0\n",
    "        while right < len(sentence):\n",
    "            if is_word(sentence[right]) and is_capitalized(sentence[right]): # Include only words\n",
    "                right += 1\n",
    "            else:\n",
    "                if right > left:\n",
    "                    expressions[tuple(sentence[left:right])] += 1\n",
    "                right += 1\n",
    "                left = right\n",
    "\n",
    "        if right > left:\n",
    "            expressions[tuple(sentence[left:right])] += 1\n",
    "                \n",
    "    return Counter(expressions)\n",
    "\n",
    "print(identify_expressions(split_example))"
   ]
  },
  {
   "cell_type": "markdown",
   "id": "9cde5fda-91e8-4e2e-8d39-be9c25f265d9",
   "metadata": {},
   "source": [
    "## Process the bills"
   ]
  },
  {
   "cell_type": "markdown",
   "id": "992cda51-0268-4da7-a360-68b934505a8a",
   "metadata": {},
   "source": [
    "#### 1. Lemmatize\n",
    "- Used https://hub.docker.com/r/djstrong/krnnt/\n",
    "- Elapsed time: 7 min"
   ]
  },
  {
   "cell_type": "code",
   "execution_count": 8,
   "id": "c9de6b96-73b3-4497-a6ec-a289499244b6",
   "metadata": {},
   "outputs": [],
   "source": [
    "# start = time.time()\n",
    "# for i, bill in enumerate(dataset):\n",
    "#     # if i % 5 == 0:\n",
    "#     print(f'Processing bill no {i}')\n",
    "#     lemmatized_text = lemmatize(bill)\n",
    "#     with open(f'lemmatized_corpus/bill_{i}.pkl', 'wb') as file:\n",
    "#         pickle.dump(lemmatized_text, file)\n",
    "# print(f'Elapsed {time.time() - start:0.2f} s')"
   ]
  },
  {
   "cell_type": "code",
   "execution_count": 9,
   "id": "6c192abd-1ab8-4514-9694-8255a93a2ce9",
   "metadata": {},
   "outputs": [],
   "source": [
    "lemmatized_dataset = []\n",
    "for i in range(N_BILLS):\n",
    "    with open(f'lemmatized_corpus/bill_{i}.pkl', 'rb') as file:\n",
    "        lemmatized_dataset.append(pickle.load(file))"
   ]
  },
  {
   "cell_type": "markdown",
   "id": "602bfa1f-2241-4bba-87c9-c4f953ce7f0e",
   "metadata": {},
   "source": [
    "#### 2. The rest"
   ]
  },
  {
   "cell_type": "code",
   "execution_count": 10,
   "id": "26a02e99-78f0-43fc-9abd-5c8e35cc28db",
   "metadata": {},
   "outputs": [],
   "source": [
    "def process_lem(lem_text):\n",
    "    return identify_expressions(split_sentences(lem_text))\n",
    "\n",
    "expressions_freq = sum((process_lem(text) for text in lemmatized_dataset), Counter())"
   ]
  },
  {
   "cell_type": "code",
   "execution_count": 11,
   "id": "11b649e6-493d-40dc-920d-0b3b655065b1",
   "metadata": {},
   "outputs": [
    {
     "data": {
      "text/plain": [
       "[(('Rzeczpospolita',), 958),\n",
       " (('Kas',), 166),\n",
       " (('Polska',), 83),\n",
       " (('Warszawa',), 75),\n",
       " (('Art',), 58),\n",
       " (('Republika',), 29),\n",
       " (('Kasa',), 24),\n",
       " (('Wojewoda',), 20),\n",
       " (('Rzeczpospolita', 'Polska'), 16),\n",
       " (('Starosta',), 14),\n",
       " (('Nych',), 12),\n",
       " (('Celsjusz',), 11),\n",
       " (('Gdańsk',), 10),\n",
       " (('Aza',), 9),\n",
       " (('Kasia',), 9),\n",
       " (('Organa',), 8),\n",
       " (('Polski',), 8),\n",
       " (('Papier',), 7),\n",
       " (('Bank',), 7),\n",
       " (('Bóg',), 7),\n",
       " (('Londyn',), 7),\n",
       " (('Bor',), 7),\n",
       " (('Zdrowotny',), 7),\n",
       " (('Naturalny',), 6),\n",
       " (('Szczecin',), 6),\n",
       " (('Poznań',), 6),\n",
       " (('Lublin',), 6),\n",
       " (('Wrocław',), 6),\n",
       " (('Katowice',), 6),\n",
       " (('Kraków',), 6),\n",
       " (('Farmaceutyczny',), 6),\n",
       " (('Bruksela',), 6),\n",
       " (('Celny',), 6),\n",
       " (('Wyroba',), 6),\n",
       " (('Wania',), 6),\n",
       " (('Joulie',), 6),\n",
       " (('Zatoka',), 6),\n",
       " (('Danych',), 6),\n",
       " (('Solidarność',), 5),\n",
       " (('Internet',), 5),\n",
       " (('Łódź',), 4),\n",
       " (('Nega',), 4),\n",
       " (('Najwyższemu',), 4),\n",
       " (('Rodek',), 4),\n",
       " (('Giełd',), 4),\n",
       " (('Gaza',), 4),\n",
       " (('Naprawa',), 4),\n",
       " (('Legnica',), 4),\n",
       " (('Wałbrzych',), 4),\n",
       " (('Bydgoszcz',), 4)]"
      ]
     },
     "execution_count": 11,
     "metadata": {},
     "output_type": "execute_result"
    }
   ],
   "source": [
    "expressions_freq.most_common()[:50]"
   ]
  },
  {
   "cell_type": "markdown",
   "id": "d483c07c-a594-40b4-b4b3-25359f61a8c7",
   "metadata": {},
   "source": [
    "# Task 7"
   ]
  },
  {
   "cell_type": "markdown",
   "id": "86c86ec1-5d49-4125-9708-d5b6280e553c",
   "metadata": {},
   "source": [
    "### Send requests"
   ]
  },
  {
   "cell_type": "code",
   "execution_count": 12,
   "id": "b24e012d-e803-4298-b12d-4ed875fa994d",
   "metadata": {},
   "outputs": [],
   "source": [
    "# async def lpmn_process_file(file_name):\n",
    "#     task = lpmn.Task('any2txt|wcrft2|liner2({\"model\":\"n82\"})')\n",
    "    \n",
    "#     file_id = lpmn.upload_file(f'{DATA_DIR}/{file_name}')\n",
    "#     output_file_id = task.run(file_id)\n",
    "#     lpmn.download_file(output_file_id, output_path='./lpmn_corpus/downloaded/', filename=f'{file_name[:-4]}.zip')\n",
    "    \n",
    "#     with ZipFile(f'./lpmn_corpus/downloaded/{file_name[:-4]}.zip', 'r') as obj:\n",
    "#         obj.extractall('./lpmn_corpus/processed/')\n",
    "\n",
    "# await asyncio.gather(*[lpmn_process_file(f) for f in file_names])"
   ]
  },
  {
   "cell_type": "markdown",
   "id": "68b70c5c-67be-4b65-8d41-e36d9f581318",
   "metadata": {},
   "source": [
    "### Process responses"
   ]
  },
  {
   "cell_type": "code",
   "execution_count": 13,
   "id": "2aa98eb7-179d-413a-966a-e8a6fe97caf7",
   "metadata": {},
   "outputs": [],
   "source": [
    "ner_xml_dataset = []\n",
    "for file_name in os.listdir('./lpmn_corpus/processed/'):\n",
    "    tree = ETree.parse(f'./lpmn_corpus/processed/{file_name}')\n",
    "    ner_xml_dataset.append(tree)"
   ]
  },
  {
   "cell_type": "code",
   "execution_count": 14,
   "id": "cdcc2daf-74a9-4a2d-8392-52d615138178",
   "metadata": {},
   "outputs": [],
   "source": [
    "@dataclass\n",
    "class Token:\n",
    "    orth: str\n",
    "    base: str\n",
    "    ctag: str\n",
    "    \n",
    "@dataclass\n",
    "class Annotation:\n",
    "    category: str\n",
    "    tokens: list[Token]\n",
    "    lemma: str\n",
    "    \n",
    "def parse_sentence(sentence):\n",
    "    channels = defaultdict(lambda: defaultdict(list))\n",
    "    for token in sentence.iter('tok'):\n",
    "        t = Token(token.find('orth').text, token.find('lex/base').text, token.find('lex/ctag').text)\n",
    "        for channel in token.iter('ann'):\n",
    "            idx = int(channel.text)\n",
    "            chan = channel.attrib[\"chan\"]       \n",
    "            if idx > 0:\n",
    "                channels[chan][idx].append(t)\n",
    "                \n",
    "    annotations = []\n",
    "    for chan, group in channels.items():\n",
    "        for tokens in group.values():\n",
    "            lemma = ' '.join((t.orth for t in tokens))\n",
    "            annotations.append(Annotation(chan, tokens, lemma))\n",
    "        \n",
    "    return annotations"
   ]
  },
  {
   "cell_type": "code",
   "execution_count": 15,
   "id": "39eb5794-14ef-475e-9150-e27ace064301",
   "metadata": {},
   "outputs": [],
   "source": [
    "ner_dataset = []\n",
    "for file_name in os.listdir('./lpmn_corpus/processed/'):\n",
    "    tree = ETree.parse(f'./lpmn_corpus/processed/{file_name}')\n",
    "    annotations = []\n",
    "    for sentence in tree.iter('sentence'):\n",
    "        annotations.append(parse_sentence(sentence))\n",
    "    ner_dataset.append(annotations)"
   ]
  },
  {
   "cell_type": "code",
   "execution_count": 16,
   "id": "28b66982-68a7-40bf-ab31-5d65bc1a7eee",
   "metadata": {},
   "outputs": [
    {
     "name": "stdout",
     "output_type": "stream",
     "text": [
      "[Annotation(category='nam_loc_gpe_country',\n",
      "            tokens=[Token(orth='Polsce', base='Polska', ctag='subst:sg:dat:f')],\n",
      "            lemma='Polsce'),\n",
      " Annotation(category='nam_loc_gpe_country',\n",
      "            tokens=[Token(orth='Rzeczypospolitej',\n",
      "                          base='rzeczpospolita',\n",
      "                          ctag='subst:sg:gen:f'),\n",
      "                    Token(orth='Polskiej',\n",
      "                          base='polski',\n",
      "                          ctag='adj:sg:gen:f:pos')],\n",
      "            lemma='Rzeczypospolitej Polskiej')]\n"
     ]
    }
   ],
   "source": [
    "pprint(ner_dataset[0][92][:2])"
   ]
  },
  {
   "cell_type": "markdown",
   "id": "66a99807-2a67-4943-a25f-73914078b274",
   "metadata": {},
   "source": [
    "# Task 8"
   ]
  },
  {
   "cell_type": "code",
   "execution_count": 17,
   "id": "8db9197a-0a78-4a28-86c0-d7b45b417c97",
   "metadata": {},
   "outputs": [],
   "source": [
    "ann_coarse_counter = defaultdict(int)\n",
    "ann_coarse_entity_counter = defaultdict(lambda: defaultdict(int))\n",
    "for annotations in ner_dataset:\n",
    "    for annotations_sentence in annotations:\n",
    "        for ann in annotations_sentence:\n",
    "            cat = re.match('[^_]*_[^_]*', ann.category).group()\n",
    "            ann_coarse_counter[cat] += 1\n",
    "            ann_coarse_entity_counter[cat][ann.lemma] += 1\n",
    "            \n",
    "ann_coarse_counter = dict(sorted(ann_coarse_counter.items(), key=lambda x: x[1], reverse=True))"
   ]
  },
  {
   "cell_type": "code",
   "execution_count": 18,
   "id": "7f990684-6e8f-4b54-9a35-9a595028e03f",
   "metadata": {},
   "outputs": [
    {
     "data": {
      "image/png": "[encoded data removed]",
      "text/plain": [
       "<Figure size 800x500 with 1 Axes>"
      ]
     },
     "metadata": {},
     "output_type": "display_data"
    }
   ],
   "source": [
    "plt.figure(figsize=(8, 5))\n",
    "plt.rc('font', size=9)\n",
    "\n",
    "plt.bar(ann_coarse_counter.keys(), ann_coarse_counter.values())\n",
    "plt.title('Coarse-grained category frequencies')\n",
    "plt.xlabel('Coarse-grained category')\n",
    "\n",
    "plt.show()"
   ]
  },
  {
   "cell_type": "markdown",
   "id": "7c54d2fd-8622-46ea-ab1d-f7975c0cb96a",
   "metadata": {},
   "source": [
    "# Task 9"
   ]
  },
  {
   "cell_type": "code",
   "execution_count": 19,
   "id": "b8693597-a22f-4e3a-9d2f-8c4befbb565e",
   "metadata": {},
   "outputs": [
    {
     "data": {
      "text/html": [
       "<h4>nam_org</h4>"
      ],
      "text/plain": [
       "<IPython.core.display.HTML object>"
      ]
     },
     "metadata": {},
     "output_type": "display_data"
    },
    {
     "name": "stdout",
     "output_type": "stream",
     "text": [
      "('Skarbu Państwa', 295)\n",
      "('Unii Europejskiej', 291)\n",
      "('Rada Ministrów', 261)\n",
      "('Państwowej Straży Pożarnej', 239)\n",
      "('Minister Sprawiedliwości', 233)\n",
      "('Prezes Rady Ministrów', 213)\n",
      "('Minister Obrony Narodowej', 162)\n",
      "('Minister Finansów', 152)\n",
      "('Urzędu Ochrony Państwa', 137)\n",
      "('EFTA', 114)\n"
     ]
    },
    {
     "data": {
      "text/html": [
       "<h4>nam_pro</h4>"
      ],
      "text/plain": [
       "<IPython.core.display.HTML object>"
      ]
     },
     "metadata": {},
     "output_type": "display_data"
    },
    {
     "name": "stdout",
     "output_type": "stream",
     "text": [
      "('Dz . U .', 1534)\n",
      "('Dz . Urz', 80)\n",
      "('Ordynacja podatkowa', 71)\n",
      "('Kodeksu karnego', 64)\n",
      "('Monitor Polski', 62)\n",
      "('Spraw Wewnętrznych', 51)\n",
      "('Kodeksu postępowania administracyjnego', 35)\n",
      "('Kodeksu postępowania karnego', 33)\n",
      "('Kodeksu postępowania cywilnego', 32)\n",
      "('Natura 2000', 26)\n"
     ]
    },
    {
     "data": {
      "text/html": [
       "<h4>nam_loc</h4>"
      ],
      "text/plain": [
       "<IPython.core.display.HTML object>"
      ]
     },
     "metadata": {},
     "output_type": "display_data"
    },
    {
     "name": "stdout",
     "output_type": "stream",
     "text": [
      "('Rzeczypospolitej Polskiej', 812)\n",
      "('Rzeczpospolita Polska', 52)\n",
      "('Polsce', 51)\n",
      "('Rzeczpospolitą Polską', 39)\n",
      "('Warszawie', 32)\n",
      "('Warszawy', 20)\n",
      "('Nawóz', 19)\n",
      "('Warszawa', 16)\n",
      "('Konfederacji Szwajcarskiej', 11)\n",
      "('Polską', 10)\n"
     ]
    },
    {
     "data": {
      "text/html": [
       "<h4>nam_liv</h4>"
      ],
      "text/plain": [
       "<IPython.core.display.HTML object>"
      ]
     },
     "metadata": {},
     "output_type": "display_data"
    },
    {
     "name": "stdout",
     "output_type": "stream",
     "text": [
      "('Kasa Chorych', 51)\n",
      "('Straży Granicznej', 36)\n",
      "('Sił Zbrojnych', 24)\n",
      "('Kasy Chorych', 21)\n",
      "('Art', 18)\n",
      "('Pana', 18)\n",
      "('Gospodarki Żywnościowej', 16)\n",
      "('Krajowego Depozytu', 15)\n",
      "('Pan', 15)\n",
      "('Kas Chorych', 13)\n"
     ]
    },
    {
     "data": {
      "text/html": [
       "<h4>nam_oth</h4>"
      ],
      "text/plain": [
       "<IPython.core.display.HTML object>"
      ]
     },
     "metadata": {},
     "output_type": "display_data"
    },
    {
     "name": "stdout",
     "output_type": "stream",
     "text": [
      "('zł', 293)\n",
      "('euro', 89)\n",
      "('złotych', 41)\n",
      "('EURO', 29)\n",
      "('PESEL', 14)\n",
      "('BAT', 12)\n",
      "('PLN', 10)\n",
      "('Minister Edukacji Narodowej', 8)\n",
      "('ECU', 7)\n",
      "('NIP', 7)\n"
     ]
    },
    {
     "data": {
      "text/html": [
       "<h4>nam_adj</h4>"
      ],
      "text/plain": [
       "<IPython.core.display.HTML object>"
      ]
     },
     "metadata": {},
     "output_type": "display_data"
    },
    {
     "name": "stdout",
     "output_type": "stream",
     "text": [
      "('polski', 116)\n",
      "('polskiej', 30)\n",
      "('polskiego', 16)\n",
      "('Wojewódzki', 16)\n",
      "('polskim', 10)\n",
      "('polska', 9)\n",
      "('polską', 7)\n",
      "('polskich', 7)\n",
      "('mazowiecki', 7)\n",
      "('europejskiej', 5)\n"
     ]
    },
    {
     "data": {
      "text/html": [
       "<h4>nam_fac</h4>"
      ],
      "text/plain": [
       "<IPython.core.display.HTML object>"
      ]
     },
     "metadata": {},
     "output_type": "display_data"
    },
    {
     "name": "stdout",
     "output_type": "stream",
     "text": [
      "('Inspektor Nadzoru Wewnętrznego', 49)\n",
      "('Komendant Główny', 16)\n",
      "('Straży Granicznej', 11)\n",
      "('Mangan', 8)\n",
      "('Obrony Narodowej', 6)\n",
      "('Krajowego Rejestru Karnego', 5)\n",
      "('Molibden', 4)\n",
      "('Zatoki Gdańskiej', 4)\n",
      "('Zasłużonego Dawcy Przeszczepu', 4)\n",
      "('Mn', 3)\n"
     ]
    },
    {
     "data": {
      "text/html": [
       "<h4>nam_eve</h4>"
      ],
      "text/plain": [
       "<IPython.core.display.HTML object>"
      ]
     },
     "metadata": {},
     "output_type": "display_data"
    },
    {
     "name": "stdout",
     "output_type": "stream",
     "text": [
      "('EURO', 5)\n",
      "('Monitorze Sądowym', 2)\n",
      "('Przejściowego Planu Krajowego', 2)\n",
      "('Oddział 2 Tranzyt', 1)\n",
      "('X . Opieka domowa nad dziećmi', 1)\n",
      "('II wojny światowej', 1)\n",
      "('TOP SECRET', 1)\n",
      "('Narodowy Bank Polski', 1)\n",
      "('Międzynarodowe Standardy Rachunkowości', 1)\n",
      "('Generalny Konserwator Zabytków', 1)\n"
     ]
    },
    {
     "data": {
      "text/html": [
       "<h4>nam_num</h4>"
      ],
      "text/plain": [
       "<IPython.core.display.HTML object>"
      ]
     },
     "metadata": {},
     "output_type": "display_data"
    },
    {
     "name": "stdout",
     "output_type": "stream",
     "text": [
      "('1', 13)\n",
      "('112', 1)\n"
     ]
    }
   ],
   "source": [
    "for cat in ann_coarse_counter.keys():\n",
    "    display(HTML(f'<h4>{cat}</h4>'))\n",
    "    counter = Counter(ann_coarse_entity_counter[cat])\n",
    "    for entity in counter.most_common()[:10]:\n",
    "        print(entity)"
   ]
  },
  {
   "cell_type": "markdown",
   "id": "5051e522-904d-4397-98b0-d9d413e3105e",
   "metadata": {},
   "source": [
    "# Task 10"
   ]
  },
  {
   "cell_type": "code",
   "execution_count": 20,
   "id": "ab961e8a-802d-4475-91ce-2c917192b957",
   "metadata": {},
   "outputs": [],
   "source": [
    "entity_counter = defaultdict(int)\n",
    "for annotations in ner_dataset:\n",
    "    for annotations_sentence in annotations:\n",
    "        for ann in annotations_sentence:\n",
    "            entity_counter[(ann.lemma, ann.category)] += 1\n",
    "            \n",
    "entity_counter = Counter(entity_counter)"
   ]
  },
  {
   "cell_type": "code",
   "execution_count": 21,
   "id": "9eb2a5b2-ace3-45f0-b654-8962a5e05fbf",
   "metadata": {},
   "outputs": [
    {
     "data": {
      "text/html": [
       "<div>\n",
       "<style scoped>\n",
       "    .dataframe tbody tr th:only-of-type {\n",
       "        vertical-align: middle;\n",
       "    }\n",
       "\n",
       "    .dataframe tbody tr th {\n",
       "        vertical-align: top;\n",
       "    }\n",
       "\n",
       "    .dataframe thead th {\n",
       "        text-align: right;\n",
       "    }\n",
       "</style>\n",
       "<table border=\"1\" class=\"dataframe\">\n",
       "  <thead>\n",
       "    <tr style=\"text-align: right;\">\n",
       "      <th></th>\n",
       "      <th>fine-coarsed type</th>\n",
       "      <th>count</th>\n",
       "    </tr>\n",
       "    <tr>\n",
       "      <th>entity</th>\n",
       "      <th></th>\n",
       "      <th></th>\n",
       "    </tr>\n",
       "  </thead>\n",
       "  <tbody>\n",
       "    <tr>\n",
       "      <th>Dz . U .</th>\n",
       "      <td>nam_pro_media_periodic</td>\n",
       "      <td>1534</td>\n",
       "    </tr>\n",
       "    <tr>\n",
       "      <th>Rzeczypospolitej Polskiej</th>\n",
       "      <td>nam_loc_gpe_country</td>\n",
       "      <td>812</td>\n",
       "    </tr>\n",
       "    <tr>\n",
       "      <th>Skarbu Państwa</th>\n",
       "      <td>nam_org_institution</td>\n",
       "      <td>295</td>\n",
       "    </tr>\n",
       "    <tr>\n",
       "      <th>zł</th>\n",
       "      <td>nam_oth_currency</td>\n",
       "      <td>293</td>\n",
       "    </tr>\n",
       "    <tr>\n",
       "      <th>Unii Europejskiej</th>\n",
       "      <td>nam_org_organization</td>\n",
       "      <td>290</td>\n",
       "    </tr>\n",
       "    <tr>\n",
       "      <th>Rada Ministrów</th>\n",
       "      <td>nam_org_institution</td>\n",
       "      <td>261</td>\n",
       "    </tr>\n",
       "    <tr>\n",
       "      <th>Minister Sprawiedliwości</th>\n",
       "      <td>nam_org_institution</td>\n",
       "      <td>233</td>\n",
       "    </tr>\n",
       "    <tr>\n",
       "      <th>Prezes Rady Ministrów</th>\n",
       "      <td>nam_org_institution</td>\n",
       "      <td>213</td>\n",
       "    </tr>\n",
       "    <tr>\n",
       "      <th>Państwowej Straży Pożarnej</th>\n",
       "      <td>nam_org_organization</td>\n",
       "      <td>205</td>\n",
       "    </tr>\n",
       "    <tr>\n",
       "      <th>Minister Obrony Narodowej</th>\n",
       "      <td>nam_org_institution</td>\n",
       "      <td>162</td>\n",
       "    </tr>\n",
       "    <tr>\n",
       "      <th>Minister Finansów</th>\n",
       "      <td>nam_org_institution</td>\n",
       "      <td>152</td>\n",
       "    </tr>\n",
       "    <tr>\n",
       "      <th>Urzędu Ochrony Państwa</th>\n",
       "      <td>nam_org_institution</td>\n",
       "      <td>137</td>\n",
       "    </tr>\n",
       "    <tr>\n",
       "      <th>polski</th>\n",
       "      <td>nam_adj_country</td>\n",
       "      <td>116</td>\n",
       "    </tr>\n",
       "    <tr>\n",
       "      <th>EFTA</th>\n",
       "      <td>nam_org_organization</td>\n",
       "      <td>114</td>\n",
       "    </tr>\n",
       "    <tr>\n",
       "      <th>Państwowa Komisja Wyborcza</th>\n",
       "      <td>nam_org_institution</td>\n",
       "      <td>110</td>\n",
       "    </tr>\n",
       "    <tr>\n",
       "      <th>Urząd Patentowy</th>\n",
       "      <td>nam_org_institution</td>\n",
       "      <td>104</td>\n",
       "    </tr>\n",
       "    <tr>\n",
       "      <th>Europejskiego Porozumienia o Wolnym Handlu</th>\n",
       "      <td>nam_org_company</td>\n",
       "      <td>103</td>\n",
       "    </tr>\n",
       "    <tr>\n",
       "      <th>Skarb Państwa</th>\n",
       "      <td>nam_org_institution</td>\n",
       "      <td>98</td>\n",
       "    </tr>\n",
       "    <tr>\n",
       "      <th>Państwowej Komisji Wyborczej</th>\n",
       "      <td>nam_org_institution</td>\n",
       "      <td>98</td>\n",
       "    </tr>\n",
       "    <tr>\n",
       "      <th>euro</th>\n",
       "      <td>nam_oth_currency</td>\n",
       "      <td>89</td>\n",
       "    </tr>\n",
       "    <tr>\n",
       "      <th>Prezes Urzędu</th>\n",
       "      <td>nam_org_institution</td>\n",
       "      <td>88</td>\n",
       "    </tr>\n",
       "    <tr>\n",
       "      <th>OKRĘG</th>\n",
       "      <td>nam_org_organization</td>\n",
       "      <td>81</td>\n",
       "    </tr>\n",
       "    <tr>\n",
       "      <th>Okręgowej Komisji Wyborczej</th>\n",
       "      <td>nam_org_institution</td>\n",
       "      <td>81</td>\n",
       "    </tr>\n",
       "    <tr>\n",
       "      <th>Dz . Urz</th>\n",
       "      <td>nam_pro_media_periodic</td>\n",
       "      <td>80</td>\n",
       "    </tr>\n",
       "    <tr>\n",
       "      <th>Sejmu</th>\n",
       "      <td>nam_org_institution</td>\n",
       "      <td>73</td>\n",
       "    </tr>\n",
       "    <tr>\n",
       "      <th>Ordynacja podatkowa</th>\n",
       "      <td>nam_pro_title_document</td>\n",
       "      <td>71</td>\n",
       "    </tr>\n",
       "    <tr>\n",
       "      <th>Prezesa Urzędu</th>\n",
       "      <td>nam_org_institution</td>\n",
       "      <td>71</td>\n",
       "    </tr>\n",
       "    <tr>\n",
       "      <th>BSWSG</th>\n",
       "      <td>nam_org_organization</td>\n",
       "      <td>70</td>\n",
       "    </tr>\n",
       "    <tr>\n",
       "      <th>Kodeksu karnego</th>\n",
       "      <td>nam_pro_title_document</td>\n",
       "      <td>64</td>\n",
       "    </tr>\n",
       "    <tr>\n",
       "      <th>Ministrem Obrony Narodowej</th>\n",
       "      <td>nam_org_institution</td>\n",
       "      <td>63</td>\n",
       "    </tr>\n",
       "    <tr>\n",
       "      <th>Monitor Polski</th>\n",
       "      <td>nam_pro_title</td>\n",
       "      <td>62</td>\n",
       "    </tr>\n",
       "    <tr>\n",
       "      <th>Minister Zdrowia i Opieki Społecznej</th>\n",
       "      <td>nam_org_institution</td>\n",
       "      <td>59</td>\n",
       "    </tr>\n",
       "    <tr>\n",
       "      <th>Wspólnoty Europejskiej</th>\n",
       "      <td>nam_org_organization</td>\n",
       "      <td>57</td>\n",
       "    </tr>\n",
       "    <tr>\n",
       "      <th>WE</th>\n",
       "      <td>nam_org_organization</td>\n",
       "      <td>55</td>\n",
       "    </tr>\n",
       "    <tr>\n",
       "      <th>Sąd Najwyższy</th>\n",
       "      <td>nam_org_institution</td>\n",
       "      <td>53</td>\n",
       "    </tr>\n",
       "    <tr>\n",
       "      <th>Komisji Europejskiej</th>\n",
       "      <td>nam_org_institution</td>\n",
       "      <td>53</td>\n",
       "    </tr>\n",
       "    <tr>\n",
       "      <th>Rzeczpospolita Polska</th>\n",
       "      <td>nam_loc_gpe_country</td>\n",
       "      <td>52</td>\n",
       "    </tr>\n",
       "    <tr>\n",
       "      <th>Ministra Sprawiedliwości</th>\n",
       "      <td>nam_org_institution</td>\n",
       "      <td>52</td>\n",
       "    </tr>\n",
       "    <tr>\n",
       "      <th>Polsce</th>\n",
       "      <td>nam_loc_gpe_country</td>\n",
       "      <td>51</td>\n",
       "    </tr>\n",
       "    <tr>\n",
       "      <th>Dzienniku Urzędowym Rzeczypospolitej Polskiej \"</th>\n",
       "      <td>nam_org_institution</td>\n",
       "      <td>51</td>\n",
       "    </tr>\n",
       "    <tr>\n",
       "      <th>Sądu Najwyższego</th>\n",
       "      <td>nam_org_institution</td>\n",
       "      <td>51</td>\n",
       "    </tr>\n",
       "    <tr>\n",
       "      <th>Spraw Wewnętrznych</th>\n",
       "      <td>nam_pro_title</td>\n",
       "      <td>51</td>\n",
       "    </tr>\n",
       "    <tr>\n",
       "      <th>Kasa Chorych</th>\n",
       "      <td>nam_liv_person</td>\n",
       "      <td>51</td>\n",
       "    </tr>\n",
       "    <tr>\n",
       "      <th>Senatu</th>\n",
       "      <td>nam_org_institution</td>\n",
       "      <td>49</td>\n",
       "    </tr>\n",
       "    <tr>\n",
       "      <th>Inspektor Nadzoru Wewnętrznego</th>\n",
       "      <td>nam_fac_goe</td>\n",
       "      <td>49</td>\n",
       "    </tr>\n",
       "    <tr>\n",
       "      <th>Biura Ochrony Rządu</th>\n",
       "      <td>nam_org_institution</td>\n",
       "      <td>48</td>\n",
       "    </tr>\n",
       "    <tr>\n",
       "      <th>Prezes Urzędu Regulacji Energetyki</th>\n",
       "      <td>nam_org_institution</td>\n",
       "      <td>47</td>\n",
       "    </tr>\n",
       "    <tr>\n",
       "      <th>Straży Granicznej</th>\n",
       "      <td>nam_org_institution</td>\n",
       "      <td>44</td>\n",
       "    </tr>\n",
       "    <tr>\n",
       "      <th>Państwową Komisję Wyborczą</th>\n",
       "      <td>nam_org_institution</td>\n",
       "      <td>44</td>\n",
       "    </tr>\n",
       "    <tr>\n",
       "      <th>Inspekcji Weterynaryjnej</th>\n",
       "      <td>nam_org_institution</td>\n",
       "      <td>43</td>\n",
       "    </tr>\n",
       "  </tbody>\n",
       "</table>\n",
       "</div>"
      ],
      "text/plain": [
       "                                                      fine-coarsed type  count\n",
       "entity                                                                        \n",
       "Dz . U .                                         nam_pro_media_periodic   1534\n",
       "Rzeczypospolitej Polskiej                           nam_loc_gpe_country    812\n",
       "Skarbu Państwa                                      nam_org_institution    295\n",
       "zł                                                     nam_oth_currency    293\n",
       "Unii Europejskiej                                  nam_org_organization    290\n",
       "Rada Ministrów                                      nam_org_institution    261\n",
       "Minister Sprawiedliwości                            nam_org_institution    233\n",
       "Prezes Rady Ministrów                               nam_org_institution    213\n",
       "Państwowej Straży Pożarnej                         nam_org_organization    205\n",
       "Minister Obrony Narodowej                           nam_org_institution    162\n",
       "Minister Finansów                                   nam_org_institution    152\n",
       "Urzędu Ochrony Państwa                              nam_org_institution    137\n",
       "polski                                                  nam_adj_country    116\n",
       "EFTA                                               nam_org_organization    114\n",
       "Państwowa Komisja Wyborcza                          nam_org_institution    110\n",
       "Urząd Patentowy                                     nam_org_institution    104\n",
       "Europejskiego Porozumienia o Wolnym Handlu              nam_org_company    103\n",
       "Skarb Państwa                                       nam_org_institution     98\n",
       "Państwowej Komisji Wyborczej                        nam_org_institution     98\n",
       "euro                                                   nam_oth_currency     89\n",
       "Prezes Urzędu                                       nam_org_institution     88\n",
       "OKRĘG                                              nam_org_organization     81\n",
       "Okręgowej Komisji Wyborczej                         nam_org_institution     81\n",
       "Dz . Urz                                         nam_pro_media_periodic     80\n",
       "Sejmu                                               nam_org_institution     73\n",
       "Ordynacja podatkowa                              nam_pro_title_document     71\n",
       "Prezesa Urzędu                                      nam_org_institution     71\n",
       "BSWSG                                              nam_org_organization     70\n",
       "Kodeksu karnego                                  nam_pro_title_document     64\n",
       "Ministrem Obrony Narodowej                          nam_org_institution     63\n",
       "Monitor Polski                                            nam_pro_title     62\n",
       "Minister Zdrowia i Opieki Społecznej                nam_org_institution     59\n",
       "Wspólnoty Europejskiej                             nam_org_organization     57\n",
       "WE                                                 nam_org_organization     55\n",
       "Sąd Najwyższy                                       nam_org_institution     53\n",
       "Komisji Europejskiej                                nam_org_institution     53\n",
       "Rzeczpospolita Polska                               nam_loc_gpe_country     52\n",
       "Ministra Sprawiedliwości                            nam_org_institution     52\n",
       "Polsce                                              nam_loc_gpe_country     51\n",
       "Dzienniku Urzędowym Rzeczypospolitej Polskiej \"     nam_org_institution     51\n",
       "Sądu Najwyższego                                    nam_org_institution     51\n",
       "Spraw Wewnętrznych                                        nam_pro_title     51\n",
       "Kasa Chorych                                             nam_liv_person     51\n",
       "Senatu                                              nam_org_institution     49\n",
       "Inspektor Nadzoru Wewnętrznego                              nam_fac_goe     49\n",
       "Biura Ochrony Rządu                                 nam_org_institution     48\n",
       "Prezes Urzędu Regulacji Energetyki                  nam_org_institution     47\n",
       "Straży Granicznej                                   nam_org_institution     44\n",
       "Państwową Komisję Wyborczą                          nam_org_institution     44\n",
       "Inspekcji Weterynaryjnej                            nam_org_institution     43"
      ]
     },
     "execution_count": 21,
     "metadata": {},
     "output_type": "execute_result"
    }
   ],
   "source": [
    "e_mc = entity_counter.most_common()[:50]\n",
    "pd.DataFrame(list(zip([e[0][0] for e in e_mc], [e[0][1] for e in e_mc], [e[1] for e in e_mc])), columns=['entity', 'fine-coarsed type', 'count']).set_index('entity')"
   ]
  },
  {
   "cell_type": "markdown",
   "id": "6e63c43f-e5a9-45ac-87ab-e59512cf624f",
   "metadata": {},
   "source": [
    "# Task 11\n",
    "It doesn't look preety, but at least somehow works :)"
   ]
  },
  {
   "cell_type": "code",
   "execution_count": 22,
   "id": "58e420ce-7693-4372-9381-efbaeda3a789",
   "metadata": {},
   "outputs": [],
   "source": [
    "sentences = {}\n",
    "\n",
    "file_name = list(os.listdir('./lpmn_corpus/processed/'))[0]\n",
    "    \n",
    "tree = ETree.parse(f'./lpmn_corpus/processed/{file_name}')\n",
    "for sentence in tree.iter('sentence'):\n",
    "    sentence_text = ' '.join([token.find('orth').text for token in sentence.iter('tok')])\n",
    "    sentences[sentence_text] = parse_sentence(sentence)"
   ]
  },
  {
   "cell_type": "code",
   "execution_count": 23,
   "id": "b2444879-4762-4ad2-9198-b8f55bdc69a4",
   "metadata": {},
   "outputs": [
    {
     "name": "stdout",
     "output_type": "stream",
     "text": [
      "Entity: Dzienniku Urzędowym Rzeczypospolitej Polskiej \" (nam_org_institution)\n",
      "Entity: Prezesa Urzędu Patentowego (nam_org_institution)\n",
      "Entity: Rzeczypospolitej Polskiej (nam_loc_gpe_country)\n",
      "Entity: Monitor Polski (nam_pro_title)\n",
      "Entity: Polsce (nam_loc_gpe_country)\n",
      "\n",
      "Pierwszeństwo do uzyskania patentu , prawa ochronnego albo prawa z rejestracji przysługuje także , na zasadach określonych w ust . 1 , w przypadku wystawienia wynalazku , wzoru użytkowego albo wzoru przemysłowego na innej niż określona w ust . 1 wystawie publicznej w \u001b[1mPolsce\u001b[0;0m [nam_loc_gpe_country] , wskazanej przez \u001b[1mPrezesa Urzędu Patentowego\u001b[0;0m [nam_org_institution] w formie obwieszczenia w \u001b[1mDzienniku Urzędowym \u001b[1mRzeczypospolitej Polskiej\u001b[0;0m [nam_loc_gpe_country] \"\u001b[0;0m [nam_org_institution] \u001b[1mMonitor Polski\u001b[0;0m [nam_pro_title] \" .\n",
      "\n",
      "==================================================================================================================\n",
      "\n",
      "Entity: Dzienniku Urzędowym Rzeczypospolitej Polskiej \" (nam_org_institution)\n",
      "Entity: Prezesa Urzędu Patentowego (nam_org_institution)\n",
      "Entity: Rzeczypospolitej Polskiej (nam_loc_gpe_country)\n",
      "Entity: Monitor Polski (nam_pro_title)\n",
      "\n",
      "Jeżeli do urzeczywistnienia wynalazku potrzebne jest przedstawienie mikroorganizmu , który nie jest ogólnie dostępny ani nie może być opisany w dostateczny sposób , przedstawienie go w tym zakresie może polegać na powołaniu się na dokonane zdeponowanie mikroorganizmu w kolekcji mikroorganizmów uznanej na podstawie umowy międzynarodowej lub w krajowej kolekcji mikroorganizmów , spełniającej wymagania , o których mowa w art . 35 ust . 3 , wskazanej przez \u001b[1mPrezesa Urzędu Patentowego\u001b[0;0m [nam_org_institution] w drodze obwieszczenia w \u001b[1mDzienniku Urzędowym \u001b[1mRzeczypospolitej Polskiej\u001b[0;0m [nam_loc_gpe_country] \"\u001b[0;0m [nam_org_institution] \u001b[1mMonitor Polski\u001b[0;0m [nam_pro_title] \" .\n",
      "\n",
      "==================================================================================================================\n",
      "\n",
      "Entity: Rzeczypospolitej Polskiej (nam_loc_gpe_country)\n",
      "Entity: Urzędzie Patentowym (nam_org_institution)\n",
      "Entity: polski (nam_adj_country)\n",
      "\n",
      "Wynalazek , na który polska osoba prawna bądź obywatel \u001b[1mpolski\u001b[0;0m [nam_adj_country] , mający miejsce zamieszkania na obszarze \u001b[1mRzeczypospolitej Polskiej\u001b[0;0m [nam_loc_gpe_country] , chce uzyskać patent za granicą , może być zgłoszony za granicą w celu uzyskania ochrony dopiero po zgłoszeniu go w \u001b[1mUrzędzie Patentowym\u001b[0;0m [nam_org_institution] .\n",
      "\n",
      "==================================================================================================================\n",
      "\n",
      "Entity: Dzienniku Urzędowym Rzeczypospolitej Polskiej \" (nam_org_institution)\n",
      "Entity: Prezesa Urzędu Patentowego (nam_org_institution)\n",
      "Entity: Rzeczypospolitej Polskiej (nam_loc_gpe_country)\n",
      "Entity: Monitor Polski (nam_pro_title)\n",
      "Entity: Polsce (nam_loc_gpe_country)\n",
      "\n",
      "Pierwszeństwo do uzyskania prawa ochronnego na znak towarowy przysługuje także na zasadach określonych w ust . 1 , według daty wystawienia towaru oznaczonego znakiem towarowym na innej niż określona w ust . 1 wystawie publicznej w \u001b[1mPolsce\u001b[0;0m [nam_loc_gpe_country] , wskazanej przez \u001b[1mPrezesa Urzędu Patentowego\u001b[0;0m [nam_org_institution] w formie obwieszczenia w \u001b[1mDzienniku Urzędowym \u001b[1mRzeczypospolitej Polskiej\u001b[0;0m [nam_loc_gpe_country] \"\u001b[0;0m [nam_org_institution] \u001b[1mMonitor Polski\u001b[0;0m [nam_pro_title] \" .\n",
      "\n",
      "==================================================================================================================\n",
      "\n",
      "Entity: Prokurator Generalny Rzeczypospolitej Polskiej oraz Rzecznik Praw Obywatelskich (nam_org_institution)\n",
      "Entity: Naczelnego Sądu Administracyjnego (nam_org_organization)\n",
      "Entity: Prezes Urzędu Patentowego (nam_org_institution)\n",
      "Entity: Rzeczypospolitej Polskiej (nam_loc_gpe_country)\n",
      "Entity: Urzędu Patentowego (nam_org_institution)\n",
      "\n",
      "Na prawomocne orzeczenie \u001b[1mUrzędu Patentowego\u001b[0;0m [nam_org_institution] , kończące postępowanie w sprawie , a rażąco naruszające prawo , \u001b[1mPrezes \u001b[1mUrzędu Patentowego\u001b[0;0m [nam_org_institution]\u001b[0;0m [nam_org_institution] , \u001b[1mProkurator Generalny \u001b[1mRzeczypospolitej Polskiej\u001b[0;0m [nam_loc_gpe_country] oraz Rzecznik Praw Obywatelskich\u001b[0;0m [nam_org_institution] mogą wnieść skargę do \u001b[1mNaczelnego Sądu Administracyjnego\u001b[0;0m [nam_org_organization] w terminie 6 miesięcy od dnia doręczenia stronie orzeczenia .\n"
     ]
    }
   ],
   "source": [
    "def bold(phrase):\n",
    "    return '\\033[1m' + phrase + '\\033[0;0m'\n",
    "\n",
    "count = 0\n",
    "for sentence, annotations in sentences.items():\n",
    "    if len(set((ann.category for ann in annotations))) > 2:\n",
    "        for ann in sorted(annotations, key=lambda x: len(x.lemma), reverse=True):\n",
    "            print('Entity:', ann.lemma, f'({ann.category})')\n",
    "            sentence = sentence.replace(ann.lemma, bold(ann.lemma) + f' [{ann.category}]')\n",
    "        print()\n",
    "        print(sentence)\n",
    "        count += 1\n",
    "        if count == 5:\n",
    "            break\n",
    "        print('')\n",
    "        print('==================================================================================================================')\n",
    "        print('')"
   ]
  },
  {
   "cell_type": "markdown",
   "id": "37231948-50e9-48c0-89ea-56bec79bc6e6",
   "metadata": {},
   "source": [
    "# Task 12\n",
    "#### Which of the method (counting expressions with capital letters vs. NER) worked better for the task concerned with identification of the proper names?\n",
    "#### What are the drawbacks of the method based on capital letters?\n",
    "#### What are the drawbacks of the method based on NER?\n",
    "#### Which of the coarse-grained NER groups has the best and which has the worst results? Try to justify this observation.\n",
    "#### Do you think NER is sufficient for identifying different occurrences of the same entity (i.e. consider \"USA\" and \"Stany Zjednoczone\" and \"Stany Zjednoczone Ameryki Północnej\")? If not, can you suggest an algorithm or a tool that would be able to group such names together?\n",
    "#### Can you think of a real world problem that would benefit the most from application of Named Entity Recognition algorithm?"
   ]
  },
  {
   "cell_type": "code",
   "execution_count": null,
   "id": "b53580ba-c7fe-47e4-b4bf-ac7378695f63",
   "metadata": {},
   "outputs": [],
   "source": []
  }
 ],
 "metadata": {
  "kernelspec": {
   "display_name": "Python 3 (ipykernel)",
   "language": "python",
   "name": "python3"
  },
  "language_info": {
   "codemirror_mode": {
    "name": "ipython",
    "version": 3
   },
   "file_extension": ".py",
   "mimetype": "text/x-python",
   "name": "python",
   "nbconvert_exporter": "python",
   "pygments_lexer": "ipython3",
   "version": "3.11.0"
  }
 },
 "nbformat": 4,
 "nbformat_minor": 5
}
