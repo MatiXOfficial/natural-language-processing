{
 "cells": [
  {
   "cell_type": "code",
   "execution_count": 37,
   "id": "2ae729b6-9474-4dcb-a509-2d7219a32fe7",
   "metadata": {},
   "outputs": [],
   "source": [
    "import regex as re\n",
    "import os\n",
    "\n",
    "from collections import defaultdict\n",
    "\n",
    "import pandas as pd\n",
    "\n",
    "DATA_DIR = '../ustawy'"
   ]
  },
  {
   "cell_type": "markdown",
   "id": "053245c7-c49e-4d61-b064-f1846d1ac39a",
   "metadata": {},
   "source": [
    "# Load data"
   ]
  },
  {
   "cell_type": "code",
   "execution_count": 229,
   "id": "a4d93525-652b-43ab-9766-67a1cf6bc2ea",
   "metadata": {},
   "outputs": [
    {
     "name": "stdout",
     "output_type": "stream",
     "text": [
      "Cannot read 1996_400.txt\n"
     ]
    },
    {
     "data": {
      "text/html": [
       "<div>\n",
       "<style scoped>\n",
       "    .dataframe tbody tr th:only-of-type {\n",
       "        vertical-align: middle;\n",
       "    }\n",
       "\n",
       "    .dataframe tbody tr th {\n",
       "        vertical-align: top;\n",
       "    }\n",
       "\n",
       "    .dataframe thead th {\n",
       "        text-align: right;\n",
       "    }\n",
       "</style>\n",
       "<table border=\"1\" class=\"dataframe\">\n",
       "  <thead>\n",
       "    <tr style=\"text-align: right;\">\n",
       "      <th></th>\n",
       "      <th>year</th>\n",
       "      <th>bill count</th>\n",
       "    </tr>\n",
       "  </thead>\n",
       "  <tbody>\n",
       "    <tr>\n",
       "      <th>0</th>\n",
       "      <td>1993</td>\n",
       "      <td>10</td>\n",
       "    </tr>\n",
       "    <tr>\n",
       "      <th>1</th>\n",
       "      <td>1994</td>\n",
       "      <td>41</td>\n",
       "    </tr>\n",
       "    <tr>\n",
       "      <th>2</th>\n",
       "      <td>1995</td>\n",
       "      <td>62</td>\n",
       "    </tr>\n",
       "    <tr>\n",
       "      <th>3</th>\n",
       "      <td>1996</td>\n",
       "      <td>56</td>\n",
       "    </tr>\n",
       "    <tr>\n",
       "      <th>4</th>\n",
       "      <td>1997</td>\n",
       "      <td>100</td>\n",
       "    </tr>\n",
       "    <tr>\n",
       "      <th>5</th>\n",
       "      <td>1998</td>\n",
       "      <td>80</td>\n",
       "    </tr>\n",
       "    <tr>\n",
       "      <th>6</th>\n",
       "      <td>1999</td>\n",
       "      <td>109</td>\n",
       "    </tr>\n",
       "    <tr>\n",
       "      <th>7</th>\n",
       "      <td>2000</td>\n",
       "      <td>161</td>\n",
       "    </tr>\n",
       "    <tr>\n",
       "      <th>8</th>\n",
       "      <td>2001</td>\n",
       "      <td>198</td>\n",
       "    </tr>\n",
       "    <tr>\n",
       "      <th>9</th>\n",
       "      <td>2002</td>\n",
       "      <td>7</td>\n",
       "    </tr>\n",
       "    <tr>\n",
       "      <th>10</th>\n",
       "      <td>2003</td>\n",
       "      <td>47</td>\n",
       "    </tr>\n",
       "    <tr>\n",
       "      <th>11</th>\n",
       "      <td>2004</td>\n",
       "      <td>87</td>\n",
       "    </tr>\n",
       "    <tr>\n",
       "      <th>12</th>\n",
       "      <td>2006</td>\n",
       "      <td>21</td>\n",
       "    </tr>\n",
       "    <tr>\n",
       "      <th>13</th>\n",
       "      <td>2007</td>\n",
       "      <td>25</td>\n",
       "    </tr>\n",
       "    <tr>\n",
       "      <th>14</th>\n",
       "      <td>2008</td>\n",
       "      <td>13</td>\n",
       "    </tr>\n",
       "    <tr>\n",
       "      <th>15</th>\n",
       "      <td>2009</td>\n",
       "      <td>20</td>\n",
       "    </tr>\n",
       "    <tr>\n",
       "      <th>16</th>\n",
       "      <td>2010</td>\n",
       "      <td>11</td>\n",
       "    </tr>\n",
       "    <tr>\n",
       "      <th>17</th>\n",
       "      <td>2011</td>\n",
       "      <td>3</td>\n",
       "    </tr>\n",
       "    <tr>\n",
       "      <th>18</th>\n",
       "      <td>2012</td>\n",
       "      <td>13</td>\n",
       "    </tr>\n",
       "    <tr>\n",
       "      <th>19</th>\n",
       "      <td>2013</td>\n",
       "      <td>22</td>\n",
       "    </tr>\n",
       "    <tr>\n",
       "      <th>20</th>\n",
       "      <td>2014</td>\n",
       "      <td>20</td>\n",
       "    </tr>\n",
       "    <tr>\n",
       "      <th>21</th>\n",
       "      <td>2015</td>\n",
       "      <td>13</td>\n",
       "    </tr>\n",
       "    <tr>\n",
       "      <th>22</th>\n",
       "      <td>2016</td>\n",
       "      <td>15</td>\n",
       "    </tr>\n",
       "    <tr>\n",
       "      <th>23</th>\n",
       "      <td>2017</td>\n",
       "      <td>21</td>\n",
       "    </tr>\n",
       "    <tr>\n",
       "      <th>24</th>\n",
       "      <td>2018</td>\n",
       "      <td>23</td>\n",
       "    </tr>\n",
       "  </tbody>\n",
       "</table>\n",
       "</div>"
      ],
      "text/plain": [
       "    year  bill count\n",
       "0   1993          10\n",
       "1   1994          41\n",
       "2   1995          62\n",
       "3   1996          56\n",
       "4   1997         100\n",
       "5   1998          80\n",
       "6   1999         109\n",
       "7   2000         161\n",
       "8   2001         198\n",
       "9   2002           7\n",
       "10  2003          47\n",
       "11  2004          87\n",
       "12  2006          21\n",
       "13  2007          25\n",
       "14  2008          13\n",
       "15  2009          20\n",
       "16  2010          11\n",
       "17  2011           3\n",
       "18  2012          13\n",
       "19  2013          22\n",
       "20  2014          20\n",
       "21  2015          13\n",
       "22  2016          15\n",
       "23  2017          21\n",
       "24  2018          23"
      ]
     },
     "execution_count": 229,
     "metadata": {},
     "output_type": "execute_result"
    }
   ],
   "source": [
    "dataset = defaultdict(list)\n",
    "\n",
    "for file_name in os.listdir(DATA_DIR):\n",
    "    if re.match(r'.*\\.txt$', file_name):\n",
    "        with open(f'{DATA_DIR}/{file_name}', 'r', encoding='UTF-8') as file:\n",
    "            bill = file.read()\n",
    "            year_regex = r'u\\s*s\\s*t\\s*a\\s*w\\s*a\\s+' + r'\\w*\\s*\\w*\\s*\\w*\\s*\\d*\\s*' + r'z\\s+dnia\\s+\\d+\\s+\\w+\\s+' + r'(\\d{4})'\n",
    "            year_match = re.search(year_regex, bill, re.IGNORECASE)\n",
    "            if year_match is None:\n",
    "                print(f'Cannot read {file_name}')\n",
    "            else:\n",
    "                year = int(year_match.group(1))\n",
    "                dataset[year].append(bill)\n",
    "            \n",
    "dataset_years = sorted(dataset.keys())\n",
    "pd.DataFrame([(year, len(dataset[year])) for year in dataset_years], columns=['year', 'bill count'])"
   ]
  },
  {
   "cell_type": "markdown",
   "id": "e67e3da1-1ad0-4e54-b6b6-63930a03cefb",
   "metadata": {},
   "source": [
    "# Utils"
   ]
  },
  {
   "cell_type": "code",
   "execution_count": 230,
   "id": "5c042157-6227-49e0-86b5-8e75f9e81c9b",
   "metadata": {},
   "outputs": [],
   "source": [
    "def count_by_year(p):\n",
    "    matches = defaultdict(int)\n",
    "    for year in dataset_years:\n",
    "        for bill in dataset[year]:\n",
    "            matches[year] += len(p.findall(bill))\n",
    "            \n",
    "    return matches"
   ]
  },
  {
   "cell_type": "markdown",
   "id": "de6e3c23-37b6-4a70-bbd0-f3f342a2709e",
   "metadata": {},
   "source": [
    "# Task 1"
   ]
  },
  {
   "cell_type": "markdown",
   "id": "fcb2ac44-42c9-4d9d-b81b-98ffa2fd307a",
   "metadata": {},
   "source": [
    "Based on https://lexlege.pl/zasady-techniki-prawodawczej/.\n",
    "\n",
    "At first let's prepare a regex for a unit."
   ]
  },
  {
   "cell_type": "code",
   "execution_count": 260,
   "id": "14db319f-16bb-4f05-8209-bc6c280e6d6c",
   "metadata": {},
   "outputs": [
    {
     "data": {
      "text/plain": [
       "'(?:art\\\\.|ust\\\\.|pkt|lit\\\\.)'"
      ]
     },
     "execution_count": 260,
     "metadata": {},
     "output_type": "execute_result"
    }
   ],
   "source": [
    "unit_regexes = [\n",
    "    r'art\\.',\n",
    "    r'ust\\.',\n",
    "    r'pkt',\n",
    "    r'lit\\.'\n",
    "]\n",
    "\n",
    "unit_regex = r'(?:' + '|'.join(unit_regexes) + r')'\n",
    "unit_regex"
   ]
  },
  {
   "cell_type": "markdown",
   "id": "fd3f918d-5fe5-4a62-b92e-5a366f46639c",
   "metadata": {},
   "source": [
    "## 1.1. Addition\n",
    "\n",
    "Now we can create the addition regex. It seems that \"dodaje się\" is the only phrase to add a unit."
   ]
  },
  {
   "cell_type": "code",
   "execution_count": 261,
   "id": "fd4c2b3b-7b69-4f5c-bc5b-0c9dc429b638",
   "metadata": {},
   "outputs": [
    {
     "data": {
      "text/plain": [
       "regex.Regex('dodaje\\\\s+się\\\\s+(?:art\\\\.|ust\\\\.|pkt|lit\\\\.)', flags=regex.I | regex.V0)"
      ]
     },
     "execution_count": 261,
     "metadata": {},
     "output_type": "execute_result"
    }
   ],
   "source": [
    "addition_pattern = re.compile(r'dodaje\\s+się\\s+' + unit_regex, re.IGNORECASE)\n",
    "addition_pattern"
   ]
  },
  {
   "cell_type": "code",
   "execution_count": 263,
   "id": "53b23c5b-c6a4-4f93-80c1-69eb1b4a4e03",
   "metadata": {},
   "outputs": [],
   "source": [
    "addition_dict = count_by_year(addition_pattern)\n",
    "# addition_dict"
   ]
  },
  {
   "cell_type": "markdown",
   "id": "68b67516-ea2c-42f5-94b8-fb52304c0578",
   "metadata": {},
   "source": [
    "## 1.2. Removal"
   ]
  },
  {
   "cell_type": "code",
   "execution_count": null,
   "id": "11c64f0e-05d0-4639-80ef-3ec56f8b7648",
   "metadata": {},
   "outputs": [],
   "source": []
  }
 ],
 "metadata": {
  "kernelspec": {
   "display_name": "Python 3 (ipykernel)",
   "language": "python",
   "name": "python3"
  },
  "language_info": {
   "codemirror_mode": {
    "name": "ipython",
    "version": 3
   },
   "file_extension": ".py",
   "mimetype": "text/x-python",
   "name": "python",
   "nbconvert_exporter": "python",
   "pygments_lexer": "ipython3",
   "version": "3.10.4"
  }
 },
 "nbformat": 4,
 "nbformat_minor": 5
}
