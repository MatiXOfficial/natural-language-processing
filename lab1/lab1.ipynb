{
 "cells": [
  {
   "cell_type": "code",
   "execution_count": 1,
   "id": "2ae729b6-9474-4dcb-a509-2d7219a32fe7",
   "metadata": {},
   "outputs": [],
   "source": [
    "import regex as re\n",
    "import os\n",
    "\n",
    "from collections import defaultdict\n",
    "\n",
    "import numpy as np\n",
    "import pandas as pd\n",
    "from matplotlib import pyplot as plt\n",
    "\n",
    "DATA_DIR = '../ustawy'"
   ]
  },
  {
   "cell_type": "code",
   "execution_count": 2,
   "id": "ba9be01e-9f8e-4791-a3bc-64aa042910b1",
   "metadata": {},
   "outputs": [],
   "source": [
    "with open('merged_bills.txt', 'w', encoding='UTF-8') as write_file:\n",
    "    for file_name in os.listdir(DATA_DIR)[:200]:\n",
    "        if re.match(r'.*\\.txt$', file_name):\n",
    "            with open(f'{DATA_DIR}/{file_name}', 'r', encoding='UTF-8') as file:\n",
    "                write_file.write(file.read())\n",
    "                write_file.write('\\n')"
   ]
  },
  {
   "cell_type": "markdown",
   "id": "053245c7-c49e-4d61-b064-f1846d1ac39a",
   "metadata": {},
   "source": [
    "# Load data\n",
    "\n",
    "Year is retrieved from \"USTAWA z dnia...\". Note that:\n",
    "- USTAWA can be written as U S T A W A,\n",
    "- it can can be followed by a word like \"konstytucyjna\" or a phrase like \"budżetowa na rok ...\"."
   ]
  },
  {
   "cell_type": "code",
   "execution_count": 3,
   "id": "a4d93525-652b-43ab-9766-67a1cf6bc2ea",
   "metadata": {},
   "outputs": [
    {
     "name": "stdout",
     "output_type": "stream",
     "text": [
      "Cannot read 1996_400.txt\n"
     ]
    },
    {
     "data": {
      "text/html": [
       "<div>\n",
       "<style scoped>\n",
       "    .dataframe tbody tr th:only-of-type {\n",
       "        vertical-align: middle;\n",
       "    }\n",
       "\n",
       "    .dataframe tbody tr th {\n",
       "        vertical-align: top;\n",
       "    }\n",
       "\n",
       "    .dataframe thead th {\n",
       "        text-align: right;\n",
       "    }\n",
       "</style>\n",
       "<table border=\"1\" class=\"dataframe\">\n",
       "  <thead>\n",
       "    <tr style=\"text-align: right;\">\n",
       "      <th></th>\n",
       "      <th>year</th>\n",
       "      <th>bill count</th>\n",
       "    </tr>\n",
       "  </thead>\n",
       "  <tbody>\n",
       "    <tr>\n",
       "      <th>0</th>\n",
       "      <td>1993</td>\n",
       "      <td>10</td>\n",
       "    </tr>\n",
       "    <tr>\n",
       "      <th>1</th>\n",
       "      <td>1994</td>\n",
       "      <td>41</td>\n",
       "    </tr>\n",
       "    <tr>\n",
       "      <th>2</th>\n",
       "      <td>1995</td>\n",
       "      <td>62</td>\n",
       "    </tr>\n",
       "    <tr>\n",
       "      <th>3</th>\n",
       "      <td>1996</td>\n",
       "      <td>56</td>\n",
       "    </tr>\n",
       "    <tr>\n",
       "      <th>4</th>\n",
       "      <td>1997</td>\n",
       "      <td>100</td>\n",
       "    </tr>\n",
       "    <tr>\n",
       "      <th>5</th>\n",
       "      <td>1998</td>\n",
       "      <td>80</td>\n",
       "    </tr>\n",
       "    <tr>\n",
       "      <th>6</th>\n",
       "      <td>1999</td>\n",
       "      <td>109</td>\n",
       "    </tr>\n",
       "    <tr>\n",
       "      <th>7</th>\n",
       "      <td>2000</td>\n",
       "      <td>161</td>\n",
       "    </tr>\n",
       "    <tr>\n",
       "      <th>8</th>\n",
       "      <td>2001</td>\n",
       "      <td>198</td>\n",
       "    </tr>\n",
       "    <tr>\n",
       "      <th>9</th>\n",
       "      <td>2002</td>\n",
       "      <td>7</td>\n",
       "    </tr>\n",
       "    <tr>\n",
       "      <th>10</th>\n",
       "      <td>2003</td>\n",
       "      <td>47</td>\n",
       "    </tr>\n",
       "    <tr>\n",
       "      <th>11</th>\n",
       "      <td>2004</td>\n",
       "      <td>87</td>\n",
       "    </tr>\n",
       "    <tr>\n",
       "      <th>12</th>\n",
       "      <td>2006</td>\n",
       "      <td>21</td>\n",
       "    </tr>\n",
       "    <tr>\n",
       "      <th>13</th>\n",
       "      <td>2007</td>\n",
       "      <td>25</td>\n",
       "    </tr>\n",
       "    <tr>\n",
       "      <th>14</th>\n",
       "      <td>2008</td>\n",
       "      <td>13</td>\n",
       "    </tr>\n",
       "    <tr>\n",
       "      <th>15</th>\n",
       "      <td>2009</td>\n",
       "      <td>20</td>\n",
       "    </tr>\n",
       "    <tr>\n",
       "      <th>16</th>\n",
       "      <td>2010</td>\n",
       "      <td>11</td>\n",
       "    </tr>\n",
       "    <tr>\n",
       "      <th>17</th>\n",
       "      <td>2011</td>\n",
       "      <td>3</td>\n",
       "    </tr>\n",
       "    <tr>\n",
       "      <th>18</th>\n",
       "      <td>2012</td>\n",
       "      <td>13</td>\n",
       "    </tr>\n",
       "    <tr>\n",
       "      <th>19</th>\n",
       "      <td>2013</td>\n",
       "      <td>22</td>\n",
       "    </tr>\n",
       "    <tr>\n",
       "      <th>20</th>\n",
       "      <td>2014</td>\n",
       "      <td>20</td>\n",
       "    </tr>\n",
       "    <tr>\n",
       "      <th>21</th>\n",
       "      <td>2015</td>\n",
       "      <td>13</td>\n",
       "    </tr>\n",
       "    <tr>\n",
       "      <th>22</th>\n",
       "      <td>2016</td>\n",
       "      <td>15</td>\n",
       "    </tr>\n",
       "    <tr>\n",
       "      <th>23</th>\n",
       "      <td>2017</td>\n",
       "      <td>21</td>\n",
       "    </tr>\n",
       "    <tr>\n",
       "      <th>24</th>\n",
       "      <td>2018</td>\n",
       "      <td>23</td>\n",
       "    </tr>\n",
       "  </tbody>\n",
       "</table>\n",
       "</div>"
      ],
      "text/plain": [
       "    year  bill count\n",
       "0   1993          10\n",
       "1   1994          41\n",
       "2   1995          62\n",
       "3   1996          56\n",
       "4   1997         100\n",
       "5   1998          80\n",
       "6   1999         109\n",
       "7   2000         161\n",
       "8   2001         198\n",
       "9   2002           7\n",
       "10  2003          47\n",
       "11  2004          87\n",
       "12  2006          21\n",
       "13  2007          25\n",
       "14  2008          13\n",
       "15  2009          20\n",
       "16  2010          11\n",
       "17  2011           3\n",
       "18  2012          13\n",
       "19  2013          22\n",
       "20  2014          20\n",
       "21  2015          13\n",
       "22  2016          15\n",
       "23  2017          21\n",
       "24  2018          23"
      ]
     },
     "execution_count": 3,
     "metadata": {},
     "output_type": "execute_result"
    }
   ],
   "source": [
    "dataset = defaultdict(list)\n",
    "\n",
    "for file_name in os.listdir(DATA_DIR):\n",
    "    if re.match(r'.*\\.txt$', file_name):\n",
    "        with open(f'{DATA_DIR}/{file_name}', 'r', encoding='UTF-8') as file:\n",
    "            bill = file.read()\n",
    "            year_regex = r'u\\s*s\\s*t\\s*a\\s*w\\s*a\\s+' + r'\\w*\\s*\\w*\\s*\\w*\\s*\\d*\\s*' + r'z\\s+dnia\\s+\\d+\\s+\\w+\\s+' + r'(\\d{4})'\n",
    "            year_match = re.search(year_regex, bill, re.IGNORECASE)\n",
    "            if year_match is None:\n",
    "                print(f'Cannot read {file_name}')\n",
    "            else:\n",
    "                year = int(year_match.group(1))\n",
    "                dataset[year].append(bill)\n",
    "            \n",
    "dataset_years = sorted(dataset.keys())\n",
    "pd.DataFrame([(year, len(dataset[year])) for year in dataset_years], columns=['year', 'bill count'])"
   ]
  },
  {
   "cell_type": "markdown",
   "id": "e67e3da1-1ad0-4e54-b6b6-63930a03cefb",
   "metadata": {},
   "source": [
    "# Utils"
   ]
  },
  {
   "cell_type": "code",
   "execution_count": 4,
   "id": "5c042157-6227-49e0-86b5-8e75f9e81c9b",
   "metadata": {},
   "outputs": [],
   "source": [
    "def count_everywhere(p):\n",
    "    matches = 0\n",
    "    for year in dataset_years:\n",
    "         for bill in dataset[year]:\n",
    "            matches += len(p.findall(bill))\n",
    "    \n",
    "    return matches\n",
    "\n",
    "def count_by_year(p):\n",
    "    matches = defaultdict(int)\n",
    "    for year in dataset_years:\n",
    "        for bill in dataset[year]:\n",
    "            matches[year] += len(p.findall(bill))\n",
    "            \n",
    "    return matches"
   ]
  },
  {
   "cell_type": "markdown",
   "id": "de6e3c23-37b6-4a70-bbd0-f3f342a2709e",
   "metadata": {},
   "source": [
    "# Task 1"
   ]
  },
  {
   "cell_type": "markdown",
   "id": "fcb2ac44-42c9-4d9d-b81b-98ffa2fd307a",
   "metadata": {},
   "source": [
    "Based on https://lexlege.pl/zasady-techniki-prawodawczej/.\n",
    "\n",
    "At first let's prepare a regex for a unit. It includes unit groups (e.g. \"ust. 2-5\", \"ust. 2 i 4\", \"pkt 1, 2 i 6\").\n",
    "\n",
    "General comment: to allow for line breaks and \"unusual spaces\", I use '\\s+' instead of ' ' most often."
   ]
  },
  {
   "cell_type": "code",
   "execution_count": 5,
   "id": "14db319f-16bb-4f05-8209-bc6c280e6d6c",
   "metadata": {},
   "outputs": [
    {
     "name": "stdout",
     "output_type": "stream",
     "text": [
      "(art\\.|ust\\.|pkt|lit\\.|§|tiret)\\s*\\w+(\\s*[,i-]\\s*\\w+)*\n"
     ]
    }
   ],
   "source": [
    "# unit_regex = r'(art\\.|ust\\.|pkt|lit\\.|§|tiret)\\s*\\w+(\\s*i\\s*\\w+|\\s*-\\s*\\w+)?'\n",
    "unit_regex = r'(art\\.|ust\\.|pkt|lit\\.|§|tiret)\\s*\\w+(\\s*[,i-]\\s*\\w+)*'\n",
    "print(unit_regex)"
   ]
  },
  {
   "cell_type": "markdown",
   "id": "fd3f918d-5fe5-4a62-b92e-5a366f46639c",
   "metadata": {},
   "source": [
    "## 1.1. Addition\n",
    "\n",
    "Now we can create the addition regex. It seems that \"dodaje się\" is the only phrase to add a unit."
   ]
  },
  {
   "cell_type": "code",
   "execution_count": 6,
   "id": "fd4c2b3b-7b69-4f5c-bc5b-0c9dc429b638",
   "metadata": {},
   "outputs": [
    {
     "name": "stdout",
     "output_type": "stream",
     "text": [
      "dodaje\\s+się\\s+(art\\.|ust\\.|pkt|lit\\.|§|tiret)\\s*\\w+(\\s*[,i-]\\s*\\w+)*\n"
     ]
    }
   ],
   "source": [
    "addition_pattern = re.compile(r'dodaje\\s+się\\s+' + unit_regex, re.IGNORECASE)\n",
    "print(addition_pattern.pattern)"
   ]
  },
  {
   "cell_type": "code",
   "execution_count": 7,
   "id": "30aa10c4-088a-4330-aa68-93e2cbad0a1d",
   "metadata": {},
   "outputs": [],
   "source": [
    "addition_dict = count_by_year(addition_pattern)\n",
    "# addition_dict"
   ]
  },
  {
   "cell_type": "markdown",
   "id": "68b67516-ea2c-42f5-94b8-fb52304c0578",
   "metadata": {},
   "source": [
    "## 1.2. Removal\n",
    "\n",
    "- Removal can be expressed as \"skreśla się\", but also as \"uchyla się\" (§ 85 technika prawodawcza). \n",
    "- What's important, if a unit is removed, it is always after the phrase (e.g. \"w ... uchyla się ust. 5\"). \n",
    "- There are other phrases that can be removed like \"wyrazy ...\" or \"rozdział ...\", but they are not considered here.\n",
    "- Rarely, there can be an expression like \"skreśla się w ust. 1 pkt 5\"; it is included in the regex."
   ]
  },
  {
   "cell_type": "code",
   "execution_count": 8,
   "id": "11c64f0e-05d0-4639-80ef-3ec56f8b7648",
   "metadata": {},
   "outputs": [
    {
     "name": "stdout",
     "output_type": "stream",
     "text": [
      "(skreśla|uchyla)\\s+się\\s+(w\\s+(art\\.|ust\\.|pkt|lit\\.|§|tiret)\\s*\\w+(\\s*[,i-]\\s*\\w+)*\\s+)?(art\\.|ust\\.|pkt|lit\\.|§|tiret)\\s*\\w+(\\s*[,i-]\\s*\\w+)*\n"
     ]
    }
   ],
   "source": [
    "removal_pattern = re.compile(r'(skreśla|uchyla)\\s+się\\s+(w\\s+' + unit_regex + r'\\s+)?' + unit_regex, re.IGNORECASE)\n",
    "\n",
    "print(removal_pattern.pattern)"
   ]
  },
  {
   "cell_type": "code",
   "execution_count": 9,
   "id": "615d0af0-da03-46e0-b723-87399d8fa44a",
   "metadata": {},
   "outputs": [],
   "source": [
    "removal_dict = count_by_year(removal_pattern)\n",
    "# removal_dict"
   ]
  },
  {
   "cell_type": "markdown",
   "id": "6e312f2e-28c5-42f1-9bba-e847ddc5e4de",
   "metadata": {},
   "source": [
    "## 1.3 Change\n",
    "\n",
    "Only \"otrzymuje brzmienie\" expression. Assumption: change of a single (\"otrzymuje brzmienie\") or multiple (\"otrzymują brzmienie\") units."
   ]
  },
  {
   "cell_type": "code",
   "execution_count": 10,
   "id": "6fc9ea0a-8c52-4e2c-9d6c-6a683e71cd84",
   "metadata": {},
   "outputs": [
    {
     "name": "stdout",
     "output_type": "stream",
     "text": [
      "(art\\.|ust\\.|pkt|lit\\.|§|tiret)\\s*\\w+(\\s*[,i-]\\s*\\w+)*\\s+otrzymuj(e|ą)\\s+brzmienie\n"
     ]
    }
   ],
   "source": [
    "change_pattern = re.compile(unit_regex + r'\\s+otrzymuj(e|ą)\\s+brzmienie', re.IGNORECASE)\n",
    "print(change_pattern.pattern)"
   ]
  },
  {
   "cell_type": "code",
   "execution_count": 11,
   "id": "1933300a-1f41-4d9b-a77e-5ae34f05e6c5",
   "metadata": {},
   "outputs": [],
   "source": [
    "change_dict = count_by_year(change_pattern)\n",
    "# change_dict"
   ]
  },
  {
   "cell_type": "markdown",
   "id": "80eaba9f-ecbe-4bc2-bc7f-1bdf8595d4d9",
   "metadata": {},
   "source": [
    "# Task 3"
   ]
  },
  {
   "cell_type": "code",
   "execution_count": 12,
   "id": "7e427c9d-aa92-4b9f-ab04-dca891ebc0d9",
   "metadata": {},
   "outputs": [
    {
     "data": {
      "text/html": [
       "<div>\n",
       "<style scoped>\n",
       "    .dataframe tbody tr th:only-of-type {\n",
       "        vertical-align: middle;\n",
       "    }\n",
       "\n",
       "    .dataframe tbody tr th {\n",
       "        vertical-align: top;\n",
       "    }\n",
       "\n",
       "    .dataframe thead th {\n",
       "        text-align: right;\n",
       "    }\n",
       "</style>\n",
       "<table border=\"1\" class=\"dataframe\">\n",
       "  <thead>\n",
       "    <tr style=\"text-align: right;\">\n",
       "      <th></th>\n",
       "      <th>addition</th>\n",
       "      <th>removal</th>\n",
       "      <th>change</th>\n",
       "    </tr>\n",
       "  </thead>\n",
       "  <tbody>\n",
       "    <tr>\n",
       "      <th>1993</th>\n",
       "      <td>35</td>\n",
       "      <td>7</td>\n",
       "      <td>64</td>\n",
       "    </tr>\n",
       "    <tr>\n",
       "      <th>1994</th>\n",
       "      <td>86</td>\n",
       "      <td>31</td>\n",
       "      <td>83</td>\n",
       "    </tr>\n",
       "    <tr>\n",
       "      <th>1995</th>\n",
       "      <td>266</td>\n",
       "      <td>83</td>\n",
       "      <td>353</td>\n",
       "    </tr>\n",
       "    <tr>\n",
       "      <th>1996</th>\n",
       "      <td>280</td>\n",
       "      <td>148</td>\n",
       "      <td>490</td>\n",
       "    </tr>\n",
       "    <tr>\n",
       "      <th>1997</th>\n",
       "      <td>429</td>\n",
       "      <td>163</td>\n",
       "      <td>684</td>\n",
       "    </tr>\n",
       "    <tr>\n",
       "      <th>1998</th>\n",
       "      <td>493</td>\n",
       "      <td>223</td>\n",
       "      <td>955</td>\n",
       "    </tr>\n",
       "    <tr>\n",
       "      <th>1999</th>\n",
       "      <td>204</td>\n",
       "      <td>61</td>\n",
       "      <td>255</td>\n",
       "    </tr>\n",
       "    <tr>\n",
       "      <th>2000</th>\n",
       "      <td>931</td>\n",
       "      <td>326</td>\n",
       "      <td>1493</td>\n",
       "    </tr>\n",
       "    <tr>\n",
       "      <th>2001</th>\n",
       "      <td>1191</td>\n",
       "      <td>305</td>\n",
       "      <td>1562</td>\n",
       "    </tr>\n",
       "    <tr>\n",
       "      <th>2002</th>\n",
       "      <td>13</td>\n",
       "      <td>2</td>\n",
       "      <td>31</td>\n",
       "    </tr>\n",
       "    <tr>\n",
       "      <th>2003</th>\n",
       "      <td>298</td>\n",
       "      <td>104</td>\n",
       "      <td>736</td>\n",
       "    </tr>\n",
       "    <tr>\n",
       "      <th>2004</th>\n",
       "      <td>275</td>\n",
       "      <td>52</td>\n",
       "      <td>466</td>\n",
       "    </tr>\n",
       "    <tr>\n",
       "      <th>2006</th>\n",
       "      <td>66</td>\n",
       "      <td>27</td>\n",
       "      <td>156</td>\n",
       "    </tr>\n",
       "    <tr>\n",
       "      <th>2007</th>\n",
       "      <td>322</td>\n",
       "      <td>76</td>\n",
       "      <td>559</td>\n",
       "    </tr>\n",
       "    <tr>\n",
       "      <th>2008</th>\n",
       "      <td>39</td>\n",
       "      <td>21</td>\n",
       "      <td>90</td>\n",
       "    </tr>\n",
       "    <tr>\n",
       "      <th>2009</th>\n",
       "      <td>93</td>\n",
       "      <td>32</td>\n",
       "      <td>202</td>\n",
       "    </tr>\n",
       "    <tr>\n",
       "      <th>2010</th>\n",
       "      <td>66</td>\n",
       "      <td>25</td>\n",
       "      <td>138</td>\n",
       "    </tr>\n",
       "    <tr>\n",
       "      <th>2011</th>\n",
       "      <td>48</td>\n",
       "      <td>18</td>\n",
       "      <td>94</td>\n",
       "    </tr>\n",
       "    <tr>\n",
       "      <th>2012</th>\n",
       "      <td>46</td>\n",
       "      <td>17</td>\n",
       "      <td>44</td>\n",
       "    </tr>\n",
       "    <tr>\n",
       "      <th>2013</th>\n",
       "      <td>175</td>\n",
       "      <td>19</td>\n",
       "      <td>200</td>\n",
       "    </tr>\n",
       "    <tr>\n",
       "      <th>2014</th>\n",
       "      <td>112</td>\n",
       "      <td>32</td>\n",
       "      <td>200</td>\n",
       "    </tr>\n",
       "    <tr>\n",
       "      <th>2015</th>\n",
       "      <td>142</td>\n",
       "      <td>35</td>\n",
       "      <td>223</td>\n",
       "    </tr>\n",
       "    <tr>\n",
       "      <th>2016</th>\n",
       "      <td>61</td>\n",
       "      <td>16</td>\n",
       "      <td>72</td>\n",
       "    </tr>\n",
       "    <tr>\n",
       "      <th>2017</th>\n",
       "      <td>251</td>\n",
       "      <td>73</td>\n",
       "      <td>380</td>\n",
       "    </tr>\n",
       "    <tr>\n",
       "      <th>2018</th>\n",
       "      <td>197</td>\n",
       "      <td>37</td>\n",
       "      <td>259</td>\n",
       "    </tr>\n",
       "  </tbody>\n",
       "</table>\n",
       "</div>"
      ],
      "text/plain": [
       "      addition  removal  change\n",
       "1993        35        7      64\n",
       "1994        86       31      83\n",
       "1995       266       83     353\n",
       "1996       280      148     490\n",
       "1997       429      163     684\n",
       "1998       493      223     955\n",
       "1999       204       61     255\n",
       "2000       931      326    1493\n",
       "2001      1191      305    1562\n",
       "2002        13        2      31\n",
       "2003       298      104     736\n",
       "2004       275       52     466\n",
       "2006        66       27     156\n",
       "2007       322       76     559\n",
       "2008        39       21      90\n",
       "2009        93       32     202\n",
       "2010        66       25     138\n",
       "2011        48       18      94\n",
       "2012        46       17      44\n",
       "2013       175       19     200\n",
       "2014       112       32     200\n",
       "2015       142       35     223\n",
       "2016        61       16      72\n",
       "2017       251       73     380\n",
       "2018       197       37     259"
      ]
     },
     "execution_count": 12,
     "metadata": {},
     "output_type": "execute_result"
    }
   ],
   "source": [
    "amendments_df = pd.DataFrame(zip(addition_dict.values(), removal_dict.values(), change_dict.values()), index=dataset_years, columns=['addition', 'removal', 'change'])\n",
    "amendments_df"
   ]
  },
  {
   "cell_type": "code",
   "execution_count": 13,
   "id": "e68b1e4e-fb30-4e5b-a0e7-3dc217aa1c1e",
   "metadata": {},
   "outputs": [
    {
     "data": {
      "text/html": [
       "<div>\n",
       "<style scoped>\n",
       "    .dataframe tbody tr th:only-of-type {\n",
       "        vertical-align: middle;\n",
       "    }\n",
       "\n",
       "    .dataframe tbody tr th {\n",
       "        vertical-align: top;\n",
       "    }\n",
       "\n",
       "    .dataframe thead th {\n",
       "        text-align: right;\n",
       "    }\n",
       "</style>\n",
       "<table border=\"1\" class=\"dataframe\">\n",
       "  <thead>\n",
       "    <tr style=\"text-align: right;\">\n",
       "      <th></th>\n",
       "      <th>addition</th>\n",
       "      <th>removal</th>\n",
       "      <th>change</th>\n",
       "    </tr>\n",
       "  </thead>\n",
       "  <tbody>\n",
       "    <tr>\n",
       "      <th>1993</th>\n",
       "      <td>33.018868</td>\n",
       "      <td>6.603774</td>\n",
       "      <td>60.377358</td>\n",
       "    </tr>\n",
       "    <tr>\n",
       "      <th>1994</th>\n",
       "      <td>43.000000</td>\n",
       "      <td>15.500000</td>\n",
       "      <td>41.500000</td>\n",
       "    </tr>\n",
       "    <tr>\n",
       "      <th>1995</th>\n",
       "      <td>37.891738</td>\n",
       "      <td>11.823362</td>\n",
       "      <td>50.284900</td>\n",
       "    </tr>\n",
       "    <tr>\n",
       "      <th>1996</th>\n",
       "      <td>30.501089</td>\n",
       "      <td>16.122004</td>\n",
       "      <td>53.376906</td>\n",
       "    </tr>\n",
       "    <tr>\n",
       "      <th>1997</th>\n",
       "      <td>33.620690</td>\n",
       "      <td>12.774295</td>\n",
       "      <td>53.605016</td>\n",
       "    </tr>\n",
       "    <tr>\n",
       "      <th>1998</th>\n",
       "      <td>29.503291</td>\n",
       "      <td>13.345302</td>\n",
       "      <td>57.151406</td>\n",
       "    </tr>\n",
       "    <tr>\n",
       "      <th>1999</th>\n",
       "      <td>39.230769</td>\n",
       "      <td>11.730769</td>\n",
       "      <td>49.038462</td>\n",
       "    </tr>\n",
       "    <tr>\n",
       "      <th>2000</th>\n",
       "      <td>33.854545</td>\n",
       "      <td>11.854545</td>\n",
       "      <td>54.290909</td>\n",
       "    </tr>\n",
       "    <tr>\n",
       "      <th>2001</th>\n",
       "      <td>38.947024</td>\n",
       "      <td>9.973839</td>\n",
       "      <td>51.079137</td>\n",
       "    </tr>\n",
       "    <tr>\n",
       "      <th>2002</th>\n",
       "      <td>28.260870</td>\n",
       "      <td>4.347826</td>\n",
       "      <td>67.391304</td>\n",
       "    </tr>\n",
       "    <tr>\n",
       "      <th>2003</th>\n",
       "      <td>26.186292</td>\n",
       "      <td>9.138840</td>\n",
       "      <td>64.674868</td>\n",
       "    </tr>\n",
       "    <tr>\n",
       "      <th>2004</th>\n",
       "      <td>34.678436</td>\n",
       "      <td>6.557377</td>\n",
       "      <td>58.764187</td>\n",
       "    </tr>\n",
       "    <tr>\n",
       "      <th>2006</th>\n",
       "      <td>26.506024</td>\n",
       "      <td>10.843373</td>\n",
       "      <td>62.650602</td>\n",
       "    </tr>\n",
       "    <tr>\n",
       "      <th>2007</th>\n",
       "      <td>33.646813</td>\n",
       "      <td>7.941484</td>\n",
       "      <td>58.411703</td>\n",
       "    </tr>\n",
       "    <tr>\n",
       "      <th>2008</th>\n",
       "      <td>26.000000</td>\n",
       "      <td>14.000000</td>\n",
       "      <td>60.000000</td>\n",
       "    </tr>\n",
       "    <tr>\n",
       "      <th>2009</th>\n",
       "      <td>28.440367</td>\n",
       "      <td>9.785933</td>\n",
       "      <td>61.773700</td>\n",
       "    </tr>\n",
       "    <tr>\n",
       "      <th>2010</th>\n",
       "      <td>28.820961</td>\n",
       "      <td>10.917031</td>\n",
       "      <td>60.262009</td>\n",
       "    </tr>\n",
       "    <tr>\n",
       "      <th>2011</th>\n",
       "      <td>30.000000</td>\n",
       "      <td>11.250000</td>\n",
       "      <td>58.750000</td>\n",
       "    </tr>\n",
       "    <tr>\n",
       "      <th>2012</th>\n",
       "      <td>42.990654</td>\n",
       "      <td>15.887850</td>\n",
       "      <td>41.121495</td>\n",
       "    </tr>\n",
       "    <tr>\n",
       "      <th>2013</th>\n",
       "      <td>44.416244</td>\n",
       "      <td>4.822335</td>\n",
       "      <td>50.761421</td>\n",
       "    </tr>\n",
       "    <tr>\n",
       "      <th>2014</th>\n",
       "      <td>32.558140</td>\n",
       "      <td>9.302326</td>\n",
       "      <td>58.139535</td>\n",
       "    </tr>\n",
       "    <tr>\n",
       "      <th>2015</th>\n",
       "      <td>35.500000</td>\n",
       "      <td>8.750000</td>\n",
       "      <td>55.750000</td>\n",
       "    </tr>\n",
       "    <tr>\n",
       "      <th>2016</th>\n",
       "      <td>40.939597</td>\n",
       "      <td>10.738255</td>\n",
       "      <td>48.322148</td>\n",
       "    </tr>\n",
       "    <tr>\n",
       "      <th>2017</th>\n",
       "      <td>35.653409</td>\n",
       "      <td>10.369318</td>\n",
       "      <td>53.977273</td>\n",
       "    </tr>\n",
       "    <tr>\n",
       "      <th>2018</th>\n",
       "      <td>39.959432</td>\n",
       "      <td>7.505071</td>\n",
       "      <td>52.535497</td>\n",
       "    </tr>\n",
       "  </tbody>\n",
       "</table>\n",
       "</div>"
      ],
      "text/plain": [
       "       addition    removal     change\n",
       "1993  33.018868   6.603774  60.377358\n",
       "1994  43.000000  15.500000  41.500000\n",
       "1995  37.891738  11.823362  50.284900\n",
       "1996  30.501089  16.122004  53.376906\n",
       "1997  33.620690  12.774295  53.605016\n",
       "1998  29.503291  13.345302  57.151406\n",
       "1999  39.230769  11.730769  49.038462\n",
       "2000  33.854545  11.854545  54.290909\n",
       "2001  38.947024   9.973839  51.079137\n",
       "2002  28.260870   4.347826  67.391304\n",
       "2003  26.186292   9.138840  64.674868\n",
       "2004  34.678436   6.557377  58.764187\n",
       "2006  26.506024  10.843373  62.650602\n",
       "2007  33.646813   7.941484  58.411703\n",
       "2008  26.000000  14.000000  60.000000\n",
       "2009  28.440367   9.785933  61.773700\n",
       "2010  28.820961  10.917031  60.262009\n",
       "2011  30.000000  11.250000  58.750000\n",
       "2012  42.990654  15.887850  41.121495\n",
       "2013  44.416244   4.822335  50.761421\n",
       "2014  32.558140   9.302326  58.139535\n",
       "2015  35.500000   8.750000  55.750000\n",
       "2016  40.939597  10.738255  48.322148\n",
       "2017  35.653409  10.369318  53.977273\n",
       "2018  39.959432   7.505071  52.535497"
      ]
     },
     "execution_count": 13,
     "metadata": {},
     "output_type": "execute_result"
    }
   ],
   "source": [
    "amendments_df_norm = amendments_df.div(amendments_df.sum(axis=1), axis=0) * 100\n",
    "amendments_df_norm"
   ]
  },
  {
   "cell_type": "code",
   "execution_count": 14,
   "id": "c1358d7d-abd6-4e38-8872-b6457bb4927f",
   "metadata": {},
   "outputs": [
    {
     "data": {
      "image/png": "[encoded data removed]",
      "text/plain": [
       "<Figure size 864x576 with 1 Axes>"
      ]
     },
     "metadata": {
      "needs_background": "light"
     },
     "output_type": "display_data"
    }
   ],
   "source": [
    "amendments_df_norm.plot(kind='bar', stacked=True, figsize=(12, 8), xlabel='year', ylabel='%', title='Percentages of amendment types in consecutive years')\n",
    "None"
   ]
  },
  {
   "cell_type": "code",
   "execution_count": 15,
   "id": "ee0d77e3-32fe-42f5-acc5-72dad2ed5377",
   "metadata": {},
   "outputs": [
    {
     "data": {
      "image/png": "[encoded data removed]",
      "text/plain": [
       "<Figure size 1080x576 with 1 Axes>"
      ]
     },
     "metadata": {
      "needs_background": "light"
     },
     "output_type": "display_data"
    }
   ],
   "source": [
    "amendments_df_norm.plot(kind='bar', figsize=(15, 8), xlabel='year', ylabel='%', title='Percentages of amendment types in consecutive years')\n",
    "None"
   ]
  },
  {
   "cell_type": "markdown",
   "id": "2ff978a3-6e2e-43f2-a658-61711c7af6e8",
   "metadata": {},
   "source": [
    "# Task 4\n",
    "\n",
    "Source of the inflectional forms: *Synteza morfologiczna* in http://morfeusz.sgjp.pl/demo/"
   ]
  },
  {
   "cell_type": "code",
   "execution_count": 16,
   "id": "adcfbae8-ad81-4f3f-95d1-cc20a637626d",
   "metadata": {},
   "outputs": [
    {
     "data": {
      "text/plain": [
       "'\\\\bustaw(a|y|ie|ę|ą|o|y|om|ami|ach)?\\\\b'"
      ]
     },
     "execution_count": 16,
     "metadata": {},
     "output_type": "execute_result"
    }
   ],
   "source": [
    "bill_regex = r'\\bustaw(a|y|ie|ę|ą|o|y|om|ami|ach)?\\b'\n",
    "bill_regex"
   ]
  },
  {
   "cell_type": "code",
   "execution_count": 17,
   "id": "796b3dc2-da82-4bca-a816-5624558b88ab",
   "metadata": {},
   "outputs": [
    {
     "name": "stdout",
     "output_type": "stream",
     "text": [
      "\\bustaw(a|y|ie|ę|ą|o|y|om|ami|ach)?\\b\n"
     ]
    }
   ],
   "source": [
    "pattern_4 = re.compile(bill_regex, re.IGNORECASE)\n",
    "print(pattern_4.pattern)"
   ]
  },
  {
   "cell_type": "code",
   "execution_count": 18,
   "id": "a1146e3a-411c-4f28-9ac7-90f1cab101fa",
   "metadata": {},
   "outputs": [
    {
     "data": {
      "text/plain": [
       "24934"
      ]
     },
     "execution_count": 18,
     "metadata": {},
     "output_type": "execute_result"
    }
   ],
   "source": [
    "count_4 = count_everywhere(pattern_4)\n",
    "count_4"
   ]
  },
  {
   "cell_type": "markdown",
   "id": "af0b7103-9f8a-46b6-acf9-1af17e4cc34f",
   "metadata": {},
   "source": [
    "# Task 5"
   ]
  },
  {
   "cell_type": "code",
   "execution_count": 19,
   "id": "a99d8015-f9f0-4a9f-a27e-4c7e8acf49bf",
   "metadata": {},
   "outputs": [
    {
     "name": "stdout",
     "output_type": "stream",
     "text": [
      "\\bustaw(a|y|ie|ę|ą|o|y|om|ami|ach)?\\b\\s+z\\s+dnia\n"
     ]
    }
   ],
   "source": [
    "pattern_5 = re.compile(bill_regex + r'\\s+z\\s+dnia', re.IGNORECASE)\n",
    "print(pattern_5.pattern)"
   ]
  },
  {
   "cell_type": "code",
   "execution_count": 20,
   "id": "c030e83e-873c-487f-9aa3-c1906f4176c2",
   "metadata": {},
   "outputs": [
    {
     "data": {
      "text/plain": [
       "8588"
      ]
     },
     "execution_count": 20,
     "metadata": {},
     "output_type": "execute_result"
    }
   ],
   "source": [
    "count_5 = count_everywhere(pattern_5)\n",
    "count_5"
   ]
  },
  {
   "cell_type": "markdown",
   "id": "8ea6f8e3-5b9d-42d1-a3b1-b7993411ea8f",
   "metadata": {},
   "source": [
    "# Task  6"
   ]
  },
  {
   "cell_type": "code",
   "execution_count": 21,
   "id": "57e2c52a-cff6-4b01-880c-cef289120c8b",
   "metadata": {},
   "outputs": [
    {
     "name": "stdout",
     "output_type": "stream",
     "text": [
      "\\bustaw(a|y|ie|ę|ą|o|y|om|ami|ach)?\\b(?!\\s+z\\s+dnia)\n"
     ]
    }
   ],
   "source": [
    "pattern_6 = re.compile(bill_regex + r'(?!\\s+z\\s+dnia)', re.IGNORECASE)\n",
    "print(pattern_6.pattern)"
   ]
  },
  {
   "cell_type": "code",
   "execution_count": 22,
   "id": "448a6a2a-b55f-407d-8cbb-70f77982f3c1",
   "metadata": {},
   "outputs": [
    {
     "data": {
      "text/plain": [
       "16346"
      ]
     },
     "execution_count": 22,
     "metadata": {},
     "output_type": "execute_result"
    }
   ],
   "source": [
    "count_6 = count_everywhere(pattern_6)\n",
    "count_6"
   ]
  },
  {
   "cell_type": "code",
   "execution_count": 23,
   "id": "ae2c4060-7906-42ea-9695-731caaf3fd6c",
   "metadata": {},
   "outputs": [
    {
     "name": "stdout",
     "output_type": "stream",
     "text": [
      "4.                         ustawa: 24934\n",
      "5.    ustawa followed by \"z dnia\": 8588\n",
      "6. ustawa not follwed by \"z dnia\": 16346\n",
      "                 sum of 5. and 6.: 24934\n"
     ]
    }
   ],
   "source": [
    "print('4.                         ustawa:', count_4)\n",
    "print('5.    ustawa followed by \"z dnia\":', count_5)\n",
    "print('6. ustawa not follwed by \"z dnia\":', count_6)\n",
    "print('                 sum of 5. and 6.:', count_5 + count_6)"
   ]
  },
  {
   "cell_type": "markdown",
   "id": "2cb330b0-0266-4006-8bbb-6b55467c381c",
   "metadata": {},
   "source": [
    "The result is correct."
   ]
  },
  {
   "cell_type": "markdown",
   "id": "89ce55ec-28ef-4e94-ad0f-db6bf0964704",
   "metadata": {},
   "source": [
    "# Task 7"
   ]
  },
  {
   "cell_type": "code",
   "execution_count": 24,
   "id": "d3c9d13f-4f3f-410d-a281-dd56b537f5de",
   "metadata": {},
   "outputs": [
    {
     "name": "stdout",
     "output_type": "stream",
     "text": [
      "\\bustaw(a|y|ie|ę|ą|o|y|om|ami|ach)?\\b(?!\\s+o\\s+zmianie)\n"
     ]
    }
   ],
   "source": [
    "pattern_7 = re.compile(bill_regex + r'(?!\\s+o\\s+zmianie)', re.IGNORECASE)\n",
    "print(pattern_7.pattern)"
   ]
  },
  {
   "cell_type": "code",
   "execution_count": 25,
   "id": "eb9ad851-65c3-4d7c-bf04-c4fd63028a1c",
   "metadata": {},
   "outputs": [
    {
     "data": {
      "text/plain": [
       "24900"
      ]
     },
     "execution_count": 25,
     "metadata": {},
     "output_type": "execute_result"
    }
   ],
   "source": [
    "count_7 = count_everywhere(pattern_7)\n",
    "count_7"
   ]
  },
  {
   "cell_type": "code",
   "execution_count": 26,
   "id": "3a6b098a-7c5a-4adf-b82c-9935f2e75860",
   "metadata": {},
   "outputs": [
    {
     "data": {
      "text/plain": [
       "34"
      ]
     },
     "execution_count": 26,
     "metadata": {},
     "output_type": "execute_result"
    }
   ],
   "source": [
    "count_4 - count_7"
   ]
  },
  {
   "cell_type": "markdown",
   "id": "55f5f8a6-0606-4792-895a-ed131e8b8f44",
   "metadata": {},
   "source": [
    "Almost all the occurences of \"ustawa\" are NOT followed by \"o zmianie\"."
   ]
  },
  {
   "cell_type": "markdown",
   "id": "a5cb5f1e-c572-4cb4-abe1-0a97ee8a6ebb",
   "metadata": {},
   "source": [
    "# Task 8"
   ]
  },
  {
   "cell_type": "code",
   "execution_count": 27,
   "id": "c0850494-a224-4623-92ea-5c4b5e57ca1c",
   "metadata": {},
   "outputs": [
    {
     "data": {
      "image/png": "[encoded data removed]",
      "text/plain": [
       "<Figure size 864x576 with 1 Axes>"
      ]
     },
     "metadata": {
      "needs_background": "light"
     },
     "output_type": "display_data"
    }
   ],
   "source": [
    "titles = ['ustawa', 'ustawa followed by \"z dnia\"', 'ustawa NOT followed by \"z dnia\"', 'ustawa NOT followed by \"o zmianie\"']\n",
    "data = [count_4, count_5, count_6, count_7]\n",
    "\n",
    "plt.figure(figsize=(12, 8))\n",
    "\n",
    "plt.bar('raw', count_4)\n",
    "plt.bar('followed by \"z dnia\"', count_5)\n",
    "plt.bar('NOT followed by \"z dnia\"', count_6)\n",
    "plt.bar('NOT followed by \"o zmianie\"', count_7)\n",
    "\n",
    "plt.title('Occurences of \"ustawa\" followed (or not) by selected phrases')\n",
    "plt.show()"
   ]
  },
  {
   "cell_type": "code",
   "execution_count": null,
   "id": "56dfab69-af4a-432f-bbbb-0b53d46ceeb8",
   "metadata": {},
   "outputs": [],
   "source": []
  }
 ],
 "metadata": {
  "kernelspec": {
   "display_name": "Python 3 (ipykernel)",
   "language": "python",
   "name": "python3"
  },
  "language_info": {
   "codemirror_mode": {
    "name": "ipython",
    "version": 3
   },
   "file_extension": ".py",
   "mimetype": "text/x-python",
   "name": "python",
   "nbconvert_exporter": "python",
   "pygments_lexer": "ipython3",
   "version": "3.10.4"
  }
 },
 "nbformat": 4,
 "nbformat_minor": 5
}
