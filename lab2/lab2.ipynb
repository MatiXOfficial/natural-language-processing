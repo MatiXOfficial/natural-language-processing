{
 "cells": [
  {
   "cell_type": "markdown",
   "id": "1452b6c4-d4a6-41ae-bab1-786191dd3120",
   "metadata": {},
   "source": [
    "# Przetwarzanie języka naturalnego - lab2\n",
    "## Mateusz Kocot"
   ]
  },
  {
   "cell_type": "code",
   "execution_count": 1,
   "id": "90c7b3d8-5eb9-4ed4-ab62-f31082fe5510",
   "metadata": {},
   "outputs": [],
   "source": [
    "import os\n",
    "\n",
    "from elasticsearch import Elasticsearch\n",
    "\n",
    "import pandas as pd\n",
    "\n",
    "from IPython.display import display, HTML"
   ]
  },
  {
   "cell_type": "code",
   "execution_count": 2,
   "id": "6377c0b9-65a4-4565-8ef1-baa57bb33402",
   "metadata": {},
   "outputs": [],
   "source": [
    "DATA_DIR = '../ustawy'"
   ]
  },
  {
   "cell_type": "code",
   "execution_count": 3,
   "id": "c6b13dea-90f2-44fd-8876-480ada069cb2",
   "metadata": {},
   "outputs": [],
   "source": [
    "es = Elasticsearch(\"http://localhost:9200\")"
   ]
  },
  {
   "cell_type": "markdown",
   "id": "f06cf30c-5d32-4dfb-b84f-2654ccdcb291",
   "metadata": {},
   "source": [
    "# Task 3"
   ]
  },
  {
   "cell_type": "code",
   "execution_count": 4,
   "id": "b8514706-c031-4d8e-b251-0fd58c5d1ea8",
   "metadata": {},
   "outputs": [],
   "source": [
    "synonym_filter = {\n",
    "    \"type\": \"synonym\",\n",
    "    \"synonyms\": [\n",
    "        \"kpk => kodeks postępowania karnego\",\n",
    "        \"kpc => kodeks postępowania cywilnego\",\n",
    "        \"kk => kodeks karny\",\n",
    "        \"kc => kodeks cywilny\"\n",
    "    ]\n",
    "}\n",
    "\n",
    "analyzer = {\n",
    "    \"default\": {\n",
    "        \"type\": \"custom\",\n",
    "        \"tokenizer\": \"standard\", # i.\n",
    "        \"filter\": [\n",
    "            \"synonym_filter\",    # ii.\n",
    "            \"morfologik_stem\",   # iii.\n",
    "            \"lowercase\"          # iv.\n",
    "        ]\n",
    "    }\n",
    "}\n",
    "\n",
    "index_settings = {\n",
    "    \"analysis\": {\n",
    "        \"filter\": {\n",
    "            \"synonym_filter\": synonym_filter\n",
    "        },\n",
    "        \"analyzer\": analyzer\n",
    "    }\n",
    "}"
   ]
  },
  {
   "cell_type": "markdown",
   "id": "54e7e134-0623-4d31-9a37-06f6e348e49d",
   "metadata": {},
   "source": [
    "# Task 4"
   ]
  },
  {
   "cell_type": "code",
   "execution_count": 5,
   "id": "b4614437-3d8b-4d0d-ae3d-277169510a04",
   "metadata": {},
   "outputs": [
    {
     "data": {
      "text/plain": [
       "ObjectApiResponse({'acknowledged': True, 'shards_acknowledged': True, 'index': 'legislative_acts'})"
      ]
     },
     "execution_count": 5,
     "metadata": {},
     "output_type": "execute_result"
    }
   ],
   "source": [
    "index_name = \"legislative_acts\"\n",
    "\n",
    "if es.indices.exists(index=index_name):\n",
    "    es.indices.delete(index=index_name)\n",
    "\n",
    "es.indices.create(index=index_name, settings=index_settings)"
   ]
  },
  {
   "cell_type": "markdown",
   "id": "d9ad58ea-ce77-48d7-8206-3b0bc294616e",
   "metadata": {},
   "source": [
    "# Task 5"
   ]
  },
  {
   "cell_type": "code",
   "execution_count": 6,
   "id": "a0fa090e-ae3e-4232-8f24-0c2b846f4c84",
   "metadata": {},
   "outputs": [],
   "source": [
    "for file_name in os.listdir(DATA_DIR):\n",
    "    with open(f'{DATA_DIR}/{file_name}', 'r', encoding='UTF-8') as file:\n",
    "        bill = file.read()\n",
    "    es.create(index=index_name, id=file_name, document={\"content\": bill})"
   ]
  },
  {
   "cell_type": "markdown",
   "id": "a1c2bf87-dfdb-4522-b6f0-573c3f7218d2",
   "metadata": {},
   "source": [
    "# Task 6"
   ]
  },
  {
   "cell_type": "code",
   "execution_count": 7,
   "id": "8fd19f1d-9424-4eaf-847e-0e0610dba7e8",
   "metadata": {},
   "outputs": [],
   "source": [
    "response_6 = es.count(\n",
    "    index=index_name,\n",
    "    query={\n",
    "        \"match\": {\n",
    "            \"content\": \"ustawa\"\n",
    "        }\n",
    "    }\n",
    ")\n",
    "# response_6"
   ]
  },
  {
   "cell_type": "code",
   "execution_count": 8,
   "id": "6c0614d6-5c38-48c2-8240-f902973a4853",
   "metadata": {},
   "outputs": [
    {
     "name": "stdout",
     "output_type": "stream",
     "text": [
      "Number of bills containing the word ustawa in any form: 1178\n",
      "                               Number of all the files: 1179\n"
     ]
    }
   ],
   "source": [
    "result_6 = response_6['count']\n",
    "print('Number of bills containing the word ustawa in any form:', result_6)\n",
    "print('                               Number of all the files:', len(os.listdir(DATA_DIR)))"
   ]
  },
  {
   "cell_type": "markdown",
   "id": "e81ae38a-4b3c-4b4d-b486-169cb4070111",
   "metadata": {},
   "source": [
    "All files but one contain the word ustawa in any form."
   ]
  },
  {
   "cell_type": "markdown",
   "id": "7c0d86ea-5c9e-4369-b432-8dda63673347",
   "metadata": {},
   "source": [
    "# Task 7"
   ]
  },
  {
   "cell_type": "code",
   "execution_count": 9,
   "id": "208433b9-9257-4025-84aa-840357f1f08e",
   "metadata": {},
   "outputs": [],
   "source": [
    "response_7 = es.termvectors(\n",
    "    index=index_name,\n",
    "    id=\"1993_599.txt\",\n",
    "    fields=[\"content\"],\n",
    "    term_statistics=True\n",
    ")\n",
    "# response_7"
   ]
  },
  {
   "cell_type": "code",
   "execution_count": 10,
   "id": "7dcc9829-f93d-4d59-b3ba-8e566de0758c",
   "metadata": {},
   "outputs": [
    {
     "name": "stdout",
     "output_type": "stream",
     "text": [
      "Number of occurences of ustawa in any form: 24934\n"
     ]
    }
   ],
   "source": [
    "result_7 = response_7['term_vectors']['content']['terms']['ustawa']['ttf']\n",
    "print('Number of occurences of ustawa in any form:', result_7)"
   ]
  },
  {
   "cell_type": "markdown",
   "id": "c95ebf87-8292-45dc-9c7c-1aa237e467ae",
   "metadata": {},
   "source": [
    "# Task 9"
   ]
  },
  {
   "cell_type": "code",
   "execution_count": 11,
   "id": "d23bc94e-83a6-4706-ac2d-a5842242305d",
   "metadata": {},
   "outputs": [],
   "source": [
    "response_9 = es.count(\n",
    "    index=index_name,\n",
    "    query={\n",
    "        \"match_phrase\": {\n",
    "            \"content\": \"kodeks postępowania cywilnego\"\n",
    "        }\n",
    "    }\n",
    ")\n",
    "# response_9"
   ]
  },
  {
   "cell_type": "code",
   "execution_count": 12,
   "id": "7cd38e6e-bafa-4082-a147-90ec92323d74",
   "metadata": {},
   "outputs": [
    {
     "name": "stdout",
     "output_type": "stream",
     "text": [
      "Number of bills containing \"kodeks postępowania cywilnego\" in any form: 99\n"
     ]
    }
   ],
   "source": [
    "result_9 = response_9['count']\n",
    "print('Number of bills containing \"kodeks postępowania cywilnego\" in any form:', result_9)"
   ]
  },
  {
   "cell_type": "markdown",
   "id": "23710756-39fa-42ad-b24d-c5dc68c26317",
   "metadata": {},
   "source": [
    "# Task 10"
   ]
  },
  {
   "cell_type": "code",
   "execution_count": 13,
   "id": "db492b54-efe2-4d91-a185-611fda946f93",
   "metadata": {},
   "outputs": [],
   "source": [
    "response_10 = es.count(\n",
    "    index=index_name,\n",
    "    query={\n",
    "        \"match_phrase\": {\n",
    "            \"content\": {\n",
    "                \"query\": \"wchodzi w życie\",\n",
    "                \"slop\": 2\n",
    "            }\n",
    "        }\n",
    "    }\n",
    ")\n",
    "# response_10"
   ]
  },
  {
   "cell_type": "code",
   "execution_count": 14,
   "id": "c8b0b5f2-f8b1-4c14-8a9c-8dae736ffa9f",
   "metadata": {},
   "outputs": [
    {
     "name": "stdout",
     "output_type": "stream",
     "text": [
      "Number of bills containing \"wchodzi w życie\" in any form (slop=2): 1174\n"
     ]
    }
   ],
   "source": [
    "result_10 = response_10['count']\n",
    "print('Number of bills containing \"wchodzi w życie\" in any form (slop=2):', result_10)"
   ]
  },
  {
   "cell_type": "markdown",
   "id": "e2828723-f54e-4273-ae49-62383c99dfbd",
   "metadata": {},
   "source": [
    "# Task 11"
   ]
  },
  {
   "cell_type": "code",
   "execution_count": 15,
   "id": "9329f7ab-23a0-4e18-a200-14c8401b5432",
   "metadata": {},
   "outputs": [],
   "source": [
    "response_11 = es.search(\n",
    "    index=index_name,\n",
    "    query={\n",
    "        \"match\": {\n",
    "            \"content\": \"konstytucja\"\n",
    "        }\n",
    "    },\n",
    "    size=10\n",
    ")\n",
    "# response_11"
   ]
  },
  {
   "cell_type": "code",
   "execution_count": 16,
   "id": "58815eef-0794-42ca-8775-ff9552d635cd",
   "metadata": {},
   "outputs": [
    {
     "name": "stdout",
     "output_type": "stream",
     "text": [
      "10 documents most relevant for \"konstytucja\":\n"
     ]
    },
    {
     "data": {
      "text/html": [
       "<div>\n",
       "<style scoped>\n",
       "    .dataframe tbody tr th:only-of-type {\n",
       "        vertical-align: middle;\n",
       "    }\n",
       "\n",
       "    .dataframe tbody tr th {\n",
       "        vertical-align: top;\n",
       "    }\n",
       "\n",
       "    .dataframe thead th {\n",
       "        text-align: right;\n",
       "    }\n",
       "</style>\n",
       "<table border=\"1\" class=\"dataframe\">\n",
       "  <thead>\n",
       "    <tr style=\"text-align: right;\">\n",
       "      <th></th>\n",
       "      <th>file name</th>\n",
       "      <th>score</th>\n",
       "    </tr>\n",
       "  </thead>\n",
       "  <tbody>\n",
       "    <tr>\n",
       "      <th>0</th>\n",
       "      <td>1997_629.txt</td>\n",
       "      <td>6.869184</td>\n",
       "    </tr>\n",
       "    <tr>\n",
       "      <th>1</th>\n",
       "      <td>2000_443.txt</td>\n",
       "      <td>6.663479</td>\n",
       "    </tr>\n",
       "    <tr>\n",
       "      <th>2</th>\n",
       "      <td>1997_604.txt</td>\n",
       "      <td>6.632288</td>\n",
       "    </tr>\n",
       "    <tr>\n",
       "      <th>3</th>\n",
       "      <td>1996_350.txt</td>\n",
       "      <td>6.627395</td>\n",
       "    </tr>\n",
       "    <tr>\n",
       "      <th>4</th>\n",
       "      <td>1997_642.txt</td>\n",
       "      <td>6.252282</td>\n",
       "    </tr>\n",
       "    <tr>\n",
       "      <th>5</th>\n",
       "      <td>2001_23.txt</td>\n",
       "      <td>6.056855</td>\n",
       "    </tr>\n",
       "    <tr>\n",
       "      <th>6</th>\n",
       "      <td>1996_199.txt</td>\n",
       "      <td>5.926714</td>\n",
       "    </tr>\n",
       "    <tr>\n",
       "      <th>7</th>\n",
       "      <td>1999_688.txt</td>\n",
       "      <td>5.848894</td>\n",
       "    </tr>\n",
       "    <tr>\n",
       "      <th>8</th>\n",
       "      <td>2001_1082.txt</td>\n",
       "      <td>5.465344</td>\n",
       "    </tr>\n",
       "    <tr>\n",
       "      <th>9</th>\n",
       "      <td>1997_681.txt</td>\n",
       "      <td>5.465344</td>\n",
       "    </tr>\n",
       "  </tbody>\n",
       "</table>\n",
       "</div>"
      ],
      "text/plain": [
       "       file name     score\n",
       "0   1997_629.txt  6.869184\n",
       "1   2000_443.txt  6.663479\n",
       "2   1997_604.txt  6.632288\n",
       "3   1996_350.txt  6.627395\n",
       "4   1997_642.txt  6.252282\n",
       "5    2001_23.txt  6.056855\n",
       "6   1996_199.txt  5.926714\n",
       "7   1999_688.txt  5.848894\n",
       "8  2001_1082.txt  5.465344\n",
       "9   1997_681.txt  5.465344"
      ]
     },
     "execution_count": 16,
     "metadata": {},
     "output_type": "execute_result"
    }
   ],
   "source": [
    "scores = [(file_data['_id'], file_data['_score']) for file_data in response_11['hits']['hits']]\n",
    "\n",
    "scores_df = pd.DataFrame(scores, columns=['file name', 'score'])\n",
    "result_11 = scores_df.sort_values(by='score', ascending=False)\n",
    "\n",
    "print('10 documents most relevant for \"konstytucja\":')\n",
    "result_11"
   ]
  },
  {
   "cell_type": "markdown",
   "id": "9781e017-5b9c-45c1-ae3c-5aa44be3e757",
   "metadata": {},
   "source": [
    "# Task 12"
   ]
  },
  {
   "cell_type": "code",
   "execution_count": 17,
   "id": "13bd89aa-915c-4688-95d9-6d9aca245d49",
   "metadata": {},
   "outputs": [],
   "source": [
    "response_12 = es.search(\n",
    "    index=index_name,\n",
    "    query={\n",
    "        \"match\": {\n",
    "            \"content\": \"konstytucja\"\n",
    "        }\n",
    "    },\n",
    "    size=10,\n",
    "    highlight={\n",
    "        \"fields\": {\n",
    "            \"content\": {}\n",
    "        },\n",
    "        \"number_of_fragments\": 3\n",
    "    }\n",
    ")\n",
    "# response_12"
   ]
  },
  {
   "cell_type": "code",
   "execution_count": 18,
   "id": "0622b13a-4f70-435b-af4b-d1c315f0cc9c",
   "metadata": {},
   "outputs": [
    {
     "data": {
      "text/html": [
       "<h3>1997_629.txt (score: 6.87)</h3>"
      ],
      "text/plain": [
       "<IPython.core.display.HTML object>"
      ]
     },
     "metadata": {},
     "output_type": "display_data"
    },
    {
     "name": "stdout",
     "output_type": "stream",
     "text": [
      "o zmianie ustawy konstytucyjnej o trybie przygotowania\n",
      "           i uchwalenia <em>Konstytucji</em> Rzeczypospolitej\n",
      "----------------------------------------------------------------------\n",
      "W ustawie  konstytucyjnej z  dnia 23 kwietnia 1992 r. o trybie przygotowania i \n",
      "uchwalenia <em>Konstytucji</em>\n",
      "----------------------------------------------------------------------\n",
      "Do zgłoszenia projektu <em>Konstytucji</em> załącza się wykaz \n",
      "                obywateli popierających zgłoszenie\n",
      "----------------------------------------------------------------------\n"
     ]
    },
    {
     "data": {
      "text/html": [
       "<h3>2000_443.txt (score: 6.66)</h3>"
      ],
      "text/plain": [
       "<IPython.core.display.HTML object>"
      ]
     },
     "metadata": {},
     "output_type": "display_data"
    },
    {
     "name": "stdout",
     "output_type": "stream",
     "text": [
      "umowy międzynarodowej i nie wypełnia przesłanek określonych w art. 89\n",
      "     ust. 1 lub art. 90 <em>Konstytucji</em>\n",
      "----------------------------------------------------------------------\n",
      "międzynarodowej lub załącznika nie\n",
      "     wypełnia przesłanek określonych w art. 89 ust. 1 lub art. 90 <em>Konstytucji</em>\n",
      "----------------------------------------------------------------------\n",
      "co do zasadności wyboru\n",
      "  trybu ratyfikacji umowy międzynarodowej, o którym mowa w art. 89 ust. 2\n",
      "  <em>Konstytucji</em>\n",
      "----------------------------------------------------------------------\n"
     ]
    },
    {
     "data": {
      "text/html": [
       "<h3>1997_604.txt (score: 6.63)</h3>"
      ],
      "text/plain": [
       "<IPython.core.display.HTML object>"
      ]
     },
     "metadata": {},
     "output_type": "display_data"
    },
    {
     "name": "stdout",
     "output_type": "stream",
     "text": [
      "Jeżeli Trybunał Konstytucyjny wyda orzeczenie o sprzeczności celów partii \n",
      "   politycznej z <em>Konstytucją</em>\n",
      "----------------------------------------------------------------------\n",
      "Jeżeli Trybunał Konstytucyjny wyda orzeczenie o sprzeczności z <em>Konstytucją</em>\n",
      "   celów lub działalności\n",
      "----------------------------------------------------------------------\n",
      "Ciężar udowodnienia niezgodności z <em>Konstytucją</em> spoczywa\n",
      "                na wnioskodawcy, który w tym\n",
      "----------------------------------------------------------------------\n"
     ]
    },
    {
     "data": {
      "text/html": [
       "<h3>1996_350.txt (score: 6.63)</h3>"
      ],
      "text/plain": [
       "<IPython.core.display.HTML object>"
      ]
     },
     "metadata": {},
     "output_type": "display_data"
    },
    {
     "name": "stdout",
     "output_type": "stream",
     "text": [
      "Za naruszenie <em>Konstytucji</em> lub ustawy, w związku z zajmowanym\n",
      "              stanowiskiem lub w zakresie\n",
      "----------------------------------------------------------------------\n",
      "W zakresie określonym w art. 107 <em>Konstytucji</em> odpowiedzialność przed\n",
      "           Trybunałem Stanu ponoszą\n",
      "----------------------------------------------------------------------\n",
      "Członkowie Rady Ministrów ponoszą odpowiedzialność przed Trybunałem\n",
      "           Stanu za naruszenie <em>Konstytucji</em>\n",
      "----------------------------------------------------------------------\n"
     ]
    },
    {
     "data": {
      "text/html": [
       "<h3>1997_642.txt (score: 6.25)</h3>"
      ],
      "text/plain": [
       "<IPython.core.display.HTML object>"
      ]
     },
     "metadata": {},
     "output_type": "display_data"
    },
    {
     "name": "stdout",
     "output_type": "stream",
     "text": [
      "wnioskami o:\n",
      "             1) stwierdzenie zgodności ustaw i umów międzynarodowych z\n",
      "               <em>Konstytucją</em>\n",
      "----------------------------------------------------------------------\n",
      "stwierdzenie zgodności przepisów prawa wydawanych przez\n",
      "               centralne organy państwowe, z <em>Konstytucją</em>\n",
      "----------------------------------------------------------------------\n",
      "ratyfikowanymi\n",
      "               umowami międzynarodowymi i ustawami,\n",
      "             4) stwierdzenie zgodności z <em>Konstytucją</em>\n",
      "----------------------------------------------------------------------\n"
     ]
    },
    {
     "data": {
      "text/html": [
       "<h3>2001_23.txt (score: 6.06)</h3>"
      ],
      "text/plain": [
       "<IPython.core.display.HTML object>"
      ]
     },
     "metadata": {},
     "output_type": "display_data"
    },
    {
     "name": "stdout",
     "output_type": "stream",
     "text": [
      "W Dzienniku Ustaw Rzeczypospolitej Polskiej, zwanym dalej \"Dziennikiem\n",
      "  Ustaw\", ogłasza się:\n",
      "   1) <em>Konstytucję</em>\n",
      "----------------------------------------------------------------------\n",
      "akty prawne dotyczące:\n",
      "   1) stanu wojny i zawarcia pokoju,\n",
      "   2) referendum zatwierdzającego zmianę <em>Konstytucji</em>\n",
      "----------------------------------------------------------------------\n",
      "ministra, któremu Sejm wyraził wotum nieufności,\n",
      "     h) powoływania lub odwoływania na określone w <em>Konstytucji</em>\n",
      "----------------------------------------------------------------------\n"
     ]
    },
    {
     "data": {
      "text/html": [
       "<h3>1996_199.txt (score: 5.93)</h3>"
      ],
      "text/plain": [
       "<IPython.core.display.HTML object>"
      ]
     },
     "metadata": {},
     "output_type": "display_data"
    },
    {
     "name": "stdout",
     "output_type": "stream",
     "text": [
      "2c i art. 9-11 ustawy konstytucyjnej z dnia 23 kwietnia \n",
      "1992 r. o trybie przygotowania i uchwalenia <em>Konstytucji</em>\n",
      "----------------------------------------------------------------------\n",
      "Prezydent Rzeczypospolitej Polskiej zarządza poddanie <em>Konstytucji</em> pod referendum\n",
      "   w trybie określonym\n",
      "----------------------------------------------------------------------\n",
      "Przyjęcie w referendum <em>Konstytucji</em> następuje wówczas, gdy opowiedziała \n",
      "   się za nią większość biorących\n",
      "----------------------------------------------------------------------\n"
     ]
    },
    {
     "data": {
      "text/html": [
       "<h3>1999_688.txt (score: 5.85)</h3>"
      ],
      "text/plain": [
       "<IPython.core.display.HTML object>"
      ]
     },
     "metadata": {},
     "output_type": "display_data"
    },
    {
     "name": "stdout",
     "output_type": "stream",
     "text": [
      "postępowania w sprawie wykonywania inicjatywy\n",
      "ustawodawczej przez obywateli, o której mowa w art. 118 ust. 2 <em>Konstytucji</em>\n",
      "----------------------------------------------------------------------\n",
      "Projekt ustawy nie może dotyczyć spraw, dla których <em>Konstytucja</em>\n",
      "Rzeczypospolitej Polskiej zastrzega wyłączną\n",
      "----------------------------------------------------------------------\n",
      "Projekt ustawy wniesiony do Marszałka Sejmu powinien odpowiadać wymogom\n",
      "  zawartym w <em>Konstytucji</em> i Regulaminie\n",
      "----------------------------------------------------------------------\n"
     ]
    },
    {
     "data": {
      "text/html": [
       "<h3>2001_1082.txt (score: 5.47)</h3>"
      ],
      "text/plain": [
       "<IPython.core.display.HTML object>"
      ]
     },
     "metadata": {},
     "output_type": "display_data"
    },
    {
     "name": "stdout",
     "output_type": "stream",
     "text": [
      "Krajowa Rada Sądownictwa, zwana dalej \"Radą\", realizuje cele określone w\n",
      "  <em>Konstytucji</em> Rzeczypospolitej\n",
      "----------------------------------------------------------------------\n",
      ") podejmuje uchwały w sprawach wystąpienia do Trybunału Konstytucyjnego o\n",
      "     zbadanie zgodności z <em>Konstytucją</em>\n",
      "----------------------------------------------------------------------\n"
     ]
    },
    {
     "data": {
      "text/html": [
       "<h3>1997_681.txt (score: 5.47)</h3>"
      ],
      "text/plain": [
       "<IPython.core.display.HTML object>"
      ]
     },
     "metadata": {},
     "output_type": "display_data"
    },
    {
     "name": "stdout",
     "output_type": "stream",
     "text": [
      "Rzecznik Praw Dziecka, zwany dalej Rzecznikiem, stoi na straży praw dziecka\n",
      "  określonych w <em>Konstytucji</em>\n",
      "----------------------------------------------------------------------\n",
      "uroczyście, że przy wykonywaniu powierzonych mi obowiązków\n",
      "     Rzecznika Praw Dziecka dochowam wierności <em>Konstytucji</em>\n",
      "----------------------------------------------------------------------\n"
     ]
    }
   ],
   "source": [
    "for file_data in response_12['hits']['hits']:\n",
    "    display(HTML(f'<h3>{file_data[\"_id\"]} (score: {file_data[\"_score\"]:0.2f})</h3>'))\n",
    "    for excerpt in file_data['highlight']['content']:\n",
    "        print(excerpt)\n",
    "        print('----------------------------------------------------------------------')"
   ]
  },
  {
   "cell_type": "code",
   "execution_count": null,
   "id": "96a8e304-1374-497c-92a7-9c08380e8a18",
   "metadata": {},
   "outputs": [],
   "source": []
  }
 ],
 "metadata": {
  "kernelspec": {
   "display_name": "Python 3 (ipykernel)",
   "language": "python",
   "name": "python3"
  },
  "language_info": {
   "codemirror_mode": {
    "name": "ipython",
    "version": 3
   },
   "file_extension": ".py",
   "mimetype": "text/x-python",
   "name": "python",
   "nbconvert_exporter": "python",
   "pygments_lexer": "ipython3",
   "version": "3.10.4"
  }
 },
 "nbformat": 4,
 "nbformat_minor": 5
}
