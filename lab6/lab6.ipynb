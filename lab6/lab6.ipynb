{
 "cells": [
  {
   "cell_type": "markdown",
   "id": "129ccc0a-4983-4828-aa06-28c1e8b430de",
   "metadata": {},
   "source": [
    "# Przetwarzanie języka naturalnego – lab6\n",
    "## Mateusz Kocot"
   ]
  },
  {
   "cell_type": "code",
   "execution_count": 140,
   "id": "3954dda9-cbff-41c1-a428-495ea8b4ddf5",
   "metadata": {},
   "outputs": [],
   "source": [
    "from datasets import load_dataset\n",
    "\n",
    "import numpy as np\n",
    "\n",
    "from sklearn.feature_extraction.text import TfidfVectorizer\n",
    "from sklearn.metrics import accuracy_score, f1_score, matthews_corrcoef\n",
    "from sklearn.naive_bayes import GaussianNB\n",
    "\n",
    "import fasttext"
   ]
  },
  {
   "cell_type": "code",
   "execution_count": 6,
   "id": "29b78aba-9eed-43fa-9471-f989d7b2bab2",
   "metadata": {},
   "outputs": [
    {
     "name": "stderr",
     "output_type": "stream",
     "text": [
      "Found cached dataset poleval2019_cyberbullying (/home/matix/.cache/huggingface/datasets/poleval2019_cyberbullying/task01/1.0.0/ce6060c56dae43c469bab309a7573b86299b0bcc2484e85cfe0ae70b5f770450)\n",
      "100%|████████████████████████████████████████████████████████████████████████████████████| 2/2 [00:00<00:00, 553.12it/s]\n",
      "Found cached dataset poleval2019_cyberbullying (/home/matix/.cache/huggingface/datasets/poleval2019_cyberbullying/task02/1.0.0/ce6060c56dae43c469bab309a7573b86299b0bcc2484e85cfe0ae70b5f770450)\n",
      "100%|████████████████████████████████████████████████████████████████████████████████████| 2/2 [00:00<00:00, 492.17it/s]\n"
     ]
    }
   ],
   "source": [
    "dataset_1 = load_dataset('poleval2019_cyberbullying', 'task01')\n",
    "dataset_2 = load_dataset('poleval2019_cyberbullying', 'task02')"
   ]
  },
  {
   "cell_type": "code",
   "execution_count": 7,
   "id": "1c853e5b-d819-4fdd-9466-e1330fb9b6b3",
   "metadata": {},
   "outputs": [
    {
     "data": {
      "text/plain": [
       "(11041, 10041, 1000)"
      ]
     },
     "execution_count": 7,
     "metadata": {},
     "output_type": "execute_result"
    }
   ],
   "source": [
    "x_train_1, y_train_1 = dataset_1['train']['text'], dataset_1['train']['label']\n",
    "x_test_1, y_test_1 = dataset_1['test']['text'], dataset_1['test']['label']\n",
    "x_1 = x_train_1 + x_test_1\n",
    "\n",
    "len(x_1), len(x_train_1), len(x_test_1)"
   ]
  },
  {
   "cell_type": "code",
   "execution_count": 8,
   "id": "1355d403-40b7-46a1-938c-be6528c0f4ab",
   "metadata": {},
   "outputs": [
    {
     "data": {
      "text/plain": [
       "(11041, 10041, 1000)"
      ]
     },
     "execution_count": 8,
     "metadata": {},
     "output_type": "execute_result"
    }
   ],
   "source": [
    "x_train_2, y_train_2 = dataset_2['train']['text'], dataset_2['train']['label']\n",
    "x_test_2, y_test_2 = dataset_2['test']['text'], dataset_2['test']['label']\n",
    "x_2 = x_train_2 + x_test_2\n",
    "\n",
    "len(x_2), len(x_train_2), len(x_test_2)"
   ]
  },
  {
   "cell_type": "code",
   "execution_count": 104,
   "id": "d33a2636-9f9c-4fc4-8cb2-625659578b7b",
   "metadata": {},
   "outputs": [],
   "source": [
    "def save_fasttext_file(name, X, Y):\n",
    "    with open('dataset/' + name + '.txt', 'w', encoding='utf8') as file:\n",
    "        file.writelines(f'__label__{y} {x}\\n' for x, y in zip(X, Y))\n",
    "        \n",
    "save_fasttext_file('train_01', x_train_1, y_train_1)\n",
    "save_fasttext_file('train_02', x_train_2, y_train_2)"
   ]
  },
  {
   "cell_type": "code",
   "execution_count": 141,
   "id": "6d24f43e-d1a5-474e-8b10-49fb232dca45",
   "metadata": {},
   "outputs": [],
   "source": [
    "def print_scores(y_test, y_pred):\n",
    "    print(f\"Accuracy: {accuracy_score(y_test, y_pred):0.2f}\")\n",
    "    print(f\"      f1: {f1_score(y_test, y_pred, average='weighted'):0.2f}\") # Default weight doesn't work for more than two labels (task 02)\n",
    "    print(f\"Macro f1: {f1_score(y_test, y_pred, average='macro'):0.2f}\")\n",
    "    print(f\"Micro f1: {f1_score(y_test, y_pred, average='micro'):0.2f}\")\n",
    "    print(f\"     MCC: {matthews_corrcoef(y_test, y_pred):0.2f}\")"
   ]
  },
  {
   "cell_type": "markdown",
   "id": "fe0a257d-d408-4957-9c6e-5a78c84c6d73",
   "metadata": {},
   "source": [
    "# Task 2"
   ]
  },
  {
   "cell_type": "markdown",
   "id": "115e03bb-ed18-469d-b356-24808ebfee57",
   "metadata": {},
   "source": [
    "## Naive Bayes"
   ]
  },
  {
   "cell_type": "code",
   "execution_count": 142,
   "id": "4da49d2d-4137-43ad-adc5-27d73f8b3a78",
   "metadata": {},
   "outputs": [],
   "source": [
    "def test_naive_bayes(x, x_train, x_test, y_train):\n",
    "    vectorizer = TfidfVectorizer()\n",
    "    vectorizer.fit(x)\n",
    "    X_train, X_test = vectorizer.transform(x_train).toarray(), vectorizer.transform(x_test).toarray()\n",
    "    \n",
    "    gnb = GaussianNB()\n",
    "    gnb.fit(X_train, y_train)\n",
    "    \n",
    "    y_pred = gnb.predict(X_test)\n",
    "    return y_pred"
   ]
  },
  {
   "cell_type": "markdown",
   "id": "689a1c7b-2ecd-4a81-bd00-16076164ded3",
   "metadata": {},
   "source": [
    "### Task 01"
   ]
  },
  {
   "cell_type": "code",
   "execution_count": 143,
   "id": "d05ee92b-10a2-45b6-aca8-3b2409a2bb0b",
   "metadata": {},
   "outputs": [
    {
     "name": "stdout",
     "output_type": "stream",
     "text": [
      "Accuracy: 0.78\n",
      "      f1: 0.79\n",
      "Macro f1: 0.57\n",
      "Micro f1: 0.78\n",
      "     MCC: 0.14\n"
     ]
    }
   ],
   "source": [
    "y_pred = test_naive_bayes(x_1, x_train_1, x_test_1, y_train_1)\n",
    "print_scores(y_test_1, y_pred)"
   ]
  },
  {
   "cell_type": "markdown",
   "id": "51d8912d-ae21-4ad7-9b35-f51de5162d4f",
   "metadata": {},
   "source": [
    "### Task 02"
   ]
  },
  {
   "cell_type": "code",
   "execution_count": 144,
   "id": "635b7879-f7dd-443e-b737-f5167b9a44be",
   "metadata": {},
   "outputs": [
    {
     "name": "stdout",
     "output_type": "stream",
     "text": [
      "Accuracy: 0.79\n",
      "      f1: 0.79\n",
      "Macro f1: 0.40\n",
      "Micro f1: 0.79\n",
      "     MCC: 0.13\n"
     ]
    }
   ],
   "source": [
    "y_pred = test_naive_bayes(x_2, x_train_2, x_test_2, y_train_2)\n",
    "print_scores(y_test_2, y_pred)"
   ]
  },
  {
   "cell_type": "markdown",
   "id": "63653aca-6fd7-4ef5-ac8f-6e286943166d",
   "metadata": {},
   "source": [
    "## Fasttext"
   ]
  },
  {
   "cell_type": "code",
   "execution_count": 151,
   "id": "01b8e10b-ec6b-4053-949e-206e225352ef",
   "metadata": {},
   "outputs": [],
   "source": [
    "def test_fasttext(task_no, x_test):\n",
    "    train_file = f'dataset/train_{task_no}.txt'\n",
    "    classifier = fasttext.train_supervised(input=train_file)\n",
    "    \n",
    "    y_pred = np.array([int(classifier.predict(x)[0][0][-1]) for x in x_test])\n",
    "    return y_pred"
   ]
  },
  {
   "cell_type": "markdown",
   "id": "884f7702-a48c-4ad3-97b1-ccae62c2c6f3",
   "metadata": {},
   "source": [
    "### Task 01"
   ]
  },
  {
   "cell_type": "code",
   "execution_count": 152,
   "id": "5be52665-3643-48dd-a8ad-5eb6b3cfd254",
   "metadata": {},
   "outputs": [
    {
     "name": "stdout",
     "output_type": "stream",
     "text": [
      "Accuracy: 0.87\n",
      "      f1: 0.83\n",
      "Macro f1: 0.54\n",
      "Micro f1: 0.87\n",
      "     MCC: 0.23\n"
     ]
    },
    {
     "name": "stderr",
     "output_type": "stream",
     "text": [
      "Read 0M words\n",
      "Number of words:  31486\n",
      "Number of labels: 2\n",
      "Progress: 100.0% words/sec/thread: 1027024 lr:  0.000000 avg.loss:  0.189032 ETA:   0h 0m 0s\n"
     ]
    }
   ],
   "source": [
    "y_pred = test_fasttext('01', x_test_1)\n",
    "print_scores(y_test_1, y_pred)"
   ]
  },
  {
   "cell_type": "markdown",
   "id": "d810e82a-5ffd-4273-afe7-ae189006ee95",
   "metadata": {},
   "source": [
    "### Task 02"
   ]
  },
  {
   "cell_type": "code",
   "execution_count": 153,
   "id": "35f07e54-be1e-428f-ad3c-1d732fc650c2",
   "metadata": {},
   "outputs": [
    {
     "name": "stdout",
     "output_type": "stream",
     "text": [
      "Accuracy: 0.86\n",
      "      f1: 0.80\n",
      "Macro f1: 0.31\n",
      "Micro f1: 0.86\n",
      "     MCC: 0.05\n"
     ]
    },
    {
     "name": "stderr",
     "output_type": "stream",
     "text": [
      "Read 0M words\n",
      "Number of words:  31486\n",
      "Number of labels: 3\n",
      "Progress: 100.0% words/sec/thread: 1025891 lr:  0.000000 avg.loss:  0.245931 ETA:   0h 0m 0s\n"
     ]
    }
   ],
   "source": [
    "y_pred = test_fasttext('02', x_test_2)\n",
    "print_scores(y_test_2, y_pred)"
   ]
  },
  {
   "cell_type": "markdown",
   "id": "678ebdc6-de47-4697-985e-57f34edcad80",
   "metadata": {},
   "source": [
    "## Transformer"
   ]
  },
  {
   "cell_type": "code",
   "execution_count": null,
   "id": "a609c730-86aa-4d37-ae0c-126af0d3dca6",
   "metadata": {},
   "outputs": [],
   "source": []
  }
 ],
 "metadata": {
  "kernelspec": {
   "display_name": "Python 3 (ipykernel)",
   "language": "python",
   "name": "python3"
  },
  "language_info": {
   "codemirror_mode": {
    "name": "ipython",
    "version": 3
   },
   "file_extension": ".py",
   "mimetype": "text/x-python",
   "name": "python",
   "nbconvert_exporter": "python",
   "pygments_lexer": "ipython3",
   "version": "3.10.8"
  }
 },
 "nbformat": 4,
 "nbformat_minor": 5
}
