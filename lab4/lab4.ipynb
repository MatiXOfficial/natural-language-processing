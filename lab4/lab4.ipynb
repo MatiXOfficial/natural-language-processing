{
 "cells": [
  {
   "cell_type": "markdown",
   "id": "d4a332db-f05c-4aec-96e8-ba8db2b81da2",
   "metadata": {},
   "source": [
    "# Przetwarzanie języka naturalnego – lab4\n",
    "## Mateusz Kocot"
   ]
  },
  {
   "cell_type": "code",
   "execution_count": 102,
   "id": "e944e345-da3f-4df0-ae5c-94e283bde346",
   "metadata": {},
   "outputs": [],
   "source": [
    "import os\n",
    "from collections import defaultdict, Counter\n",
    "from functools import reduce\n",
    "import math\n",
    "\n",
    "import numpy as np\n",
    "\n",
    "import regex as re\n",
    "from spacy.lang.pl import Polish as PolishSpacy"
   ]
  },
  {
   "cell_type": "code",
   "execution_count": 49,
   "id": "20ea520e-4e86-46ff-8790-44d4df311290",
   "metadata": {},
   "outputs": [],
   "source": [
    "DATA_DIR = '../ustawy'"
   ]
  },
  {
   "cell_type": "markdown",
   "id": "d0efff45-884f-456e-80fb-ad56874aa53c",
   "metadata": {},
   "source": [
    "# Load data"
   ]
  },
  {
   "cell_type": "code",
   "execution_count": 50,
   "id": "c3fe0aae-24eb-4c46-ab04-b924f20539ed",
   "metadata": {},
   "outputs": [
    {
     "data": {
      "text/plain": [
       "10"
      ]
     },
     "execution_count": 50,
     "metadata": {},
     "output_type": "execute_result"
    }
   ],
   "source": [
    "dataset = {}\n",
    "\n",
    "for file_name in os.listdir(DATA_DIR)[:10]: # TODO: REMOVE\n",
    "    with open(f'{DATA_DIR}/{file_name}', 'r', encoding='UTF-8') as file:\n",
    "        bill = file.read().lower()\n",
    "    dataset[file_name] = bill\n",
    "    \n",
    "len(dataset)"
   ]
  },
  {
   "cell_type": "markdown",
   "id": "230f5ca5-ebc8-4ee2-9829-6015a86bd8f2",
   "metadata": {},
   "source": [
    "# Task 1"
   ]
  },
  {
   "cell_type": "code",
   "execution_count": 51,
   "id": "56d23c24-62ce-44ec-b768-a2c99b1839e4",
   "metadata": {},
   "outputs": [],
   "source": [
    "nlp_spacy = PolishSpacy()\n",
    "tokenizer = nlp_spacy.tokenizer"
   ]
  },
  {
   "cell_type": "code",
   "execution_count": 71,
   "id": "590a2ff7-e095-489f-a640-91286db29a00",
   "metadata": {},
   "outputs": [],
   "source": [
    "tokenized_dataset = {name: list(map(str, tokenizer(bill))) for name, bill in dataset.items()}"
   ]
  },
  {
   "cell_type": "markdown",
   "id": "e6935ce7-1369-4400-887b-276436e6539f",
   "metadata": {},
   "source": [
    "# Task 2"
   ]
  },
  {
   "cell_type": "code",
   "execution_count": 90,
   "id": "034d8e64-0a78-4ae3-bd8f-d589bc879767",
   "metadata": {},
   "outputs": [
    {
     "data": {
      "text/plain": [
       "Counter({('the', 'quick'): 2,\n",
       "         ('quick', 'brown'): 2,\n",
       "         ('brown', 'fox'): 2,\n",
       "         ('fox', 'jumps'): 1,\n",
       "         ('jumps', 'over'): 1,\n",
       "         ('over', 'the'): 1,\n",
       "         ('fox', '.'): 1})"
      ]
     },
     "execution_count": 90,
     "metadata": {},
     "output_type": "execute_result"
    }
   ],
   "source": [
    "def count_ngrams(text, n=2):\n",
    "    ngram_dict = defaultdict(int)\n",
    "    for i in range(len(text) - n + 1):\n",
    "        ngram = tuple(text[i:i+n]) if n > 1 else text[i]\n",
    "        ngram_dict[ngram] += 1\n",
    "    return Counter(ngram_dict)\n",
    "\n",
    "count_ngrams(['the', 'quick', 'brown', 'fox', 'jumps', 'over', 'the', 'quick', 'brown', 'fox', '.'])"
   ]
  },
  {
   "cell_type": "code",
   "execution_count": 91,
   "id": "f5a9ba9f-0361-4877-a10a-8c8be45f313e",
   "metadata": {},
   "outputs": [
    {
     "data": {
      "text/plain": [
       "[(('-', '-'), 814),\n",
       " (('art', '.'), 805),\n",
       " (('.', '\\n'), 789),\n",
       " (('ust', '.'), 655),\n",
       " (('|', '\\n'), 519),\n",
       " (('|', '   '), 402),\n",
       " (('   ', '|'), 400),\n",
       " (('\\n', '|'), 391),\n",
       " (('.', '1'), 294),\n",
       " (('\\n                                        \\n                                    ',\n",
       "   'art'),\n",
       "  291),\n",
       " (('w', 'ust'), 269),\n",
       " (('.',\n",
       "   '\\n                                        \\n                                    '),\n",
       "  266),\n",
       " ((',', 'o'), 246),\n",
       " (('w', 'art'), 244),\n",
       " (('mowa', 'w'), 235)]"
      ]
     },
     "execution_count": 91,
     "metadata": {},
     "output_type": "execute_result"
    }
   ],
   "source": [
    "bigram_counts = sum([count_ngrams(bill) for name, bill in tokenized_dataset.items()], Counter())\n",
    "\n",
    "bigram_counts.most_common()[:15]"
   ]
  },
  {
   "cell_type": "markdown",
   "id": "6c95474b-231f-445d-9064-288285baa3a9",
   "metadata": {},
   "source": [
    "# Task 3"
   ]
  },
  {
   "cell_type": "code",
   "execution_count": 92,
   "id": "436cac66-667f-49fd-a87b-42754b829ebc",
   "metadata": {},
   "outputs": [
    {
     "data": {
      "text/plain": [
       "[(('w', 'ust'), 269),\n",
       " (('w', 'art'), 244),\n",
       " (('mowa', 'w'), 235),\n",
       " (('z', 'rejestracji'), 119),\n",
       " (('stosuje', 'się'), 106),\n",
       " (('o', 'którym'), 103),\n",
       " (('o', 'których'), 102),\n",
       " (('prawa', 'z'), 102),\n",
       " (('prawa', 'ochronnego'), 102),\n",
       " (('którym', 'mowa'), 101)]"
      ]
     },
     "execution_count": 92,
     "metadata": {},
     "output_type": "execute_result"
    }
   ],
   "source": [
    "fixed_bigram_counts = Counter()\n",
    "\n",
    "for bigram, count in bigram_counts.items():\n",
    "    if all([not re.match(r'.*[^\\p{L}]', token) for token in bigram]): # if all tokens contain only letters\n",
    "        fixed_bigram_counts[bigram] = count\n",
    "            \n",
    "fixed_bigram_counts.most_common()[:10]"
   ]
  },
  {
   "cell_type": "markdown",
   "id": "79e83570-6699-4a3f-b83d-93accb4865cd",
   "metadata": {},
   "source": [
    "# Task 4"
   ]
  },
  {
   "cell_type": "code",
   "execution_count": 100,
   "id": "1f585cdf-bba7-4900-b2f4-05c4141991f5",
   "metadata": {},
   "outputs": [
    {
     "data": {
      "text/plain": [
       "[('w', 2072),\n",
       " ('z', 933),\n",
       " ('art', 806),\n",
       " ('i', 746),\n",
       " ('ust', 655),\n",
       " ('do', 646),\n",
       " ('o', 599),\n",
       " ('na', 580),\n",
       " ('się', 561),\n",
       " ('lub', 456)]"
      ]
     },
     "execution_count": 100,
     "metadata": {},
     "output_type": "execute_result"
    }
   ],
   "source": [
    "token_counts = sum([count_ngrams(bill, n=1) for name, bill in tokenized_dataset.items()], Counter())\n",
    "for token in list(token_counts.keys()):\n",
    "    if re.match(r'.*[^\\p{L}]', token): # if token contains any non-letter character\n",
    "        del token_counts[token]\n",
    "\n",
    "token_counts.most_common()[:10]"
   ]
  },
  {
   "cell_type": "code",
   "execution_count": 110,
   "id": "ac5bc35b-cc65-4335-a0ff-e738590180ce",
   "metadata": {},
   "outputs": [
    {
     "data": {
      "text/plain": [
       "36768"
      ]
     },
     "execution_count": 110,
     "metadata": {},
     "output_type": "execute_result"
    }
   ],
   "source": [
    "dataset_size = sum(token_counts.values())\n",
    "dataset_size"
   ]
  },
  {
   "cell_type": "code",
   "execution_count": 108,
   "id": "81bc313d-8dda-4ee0-96e6-0193eb3a6853",
   "metadata": {},
   "outputs": [
    {
     "data": {
      "text/plain": [
       "10.034908170336502"
      ]
     },
     "execution_count": 108,
     "metadata": {},
     "output_type": "execute_result"
    }
   ],
   "source": [
    "def count_pmi(dataset_size, ngram_count, *token_counts):\n",
    "    frac = ngram_count / math.prod(token_counts)\n",
    "    for _ in range(len(token_counts) - 1):\n",
    "        frac *= dataset_size\n",
    "    return np.log(frac)\n",
    "\n",
    "count_pmi(50_000_952, 1159, 1938, 1311)"
   ]
  },
  {
   "cell_type": "code",
   "execution_count": null,
   "id": "5e85aa00-0e75-4a1a-adfa-f08485645629",
   "metadata": {},
   "outputs": [],
   "source": []
  }
 ],
 "metadata": {
  "kernelspec": {
   "display_name": "Python 3 (ipykernel)",
   "language": "python",
   "name": "python3"
  },
  "language_info": {
   "codemirror_mode": {
    "name": "ipython",
    "version": 3
   },
   "file_extension": ".py",
   "mimetype": "text/x-python",
   "name": "python",
   "nbconvert_exporter": "python",
   "pygments_lexer": "ipython3",
   "version": "3.10.0"
  }
 },
 "nbformat": 4,
 "nbformat_minor": 5
}
